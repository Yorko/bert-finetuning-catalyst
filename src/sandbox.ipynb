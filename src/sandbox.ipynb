{
 "cells": [
  {
   "cell_type": "code",
   "execution_count": 2,
   "id": "6f906f9e",
   "metadata": {},
   "outputs": [],
   "source": [
    "import logging\n",
    "from pathlib import Path\n",
    "from typing import List, Mapping, Tuple\n",
    "\n",
    "import pandas as pd\n",
    "import torch\n",
    "from torch.utils.data import DataLoader, Dataset\n",
    "from transformers import AutoTokenizer\n",
    "from catalyst.utils import set_global_seed\n",
    "from data import TextClassificationDataset"
   ]
  },
  {
   "cell_type": "code",
   "execution_count": 4,
   "id": "89f43590",
   "metadata": {},
   "outputs": [],
   "source": [
    "MODEL_NAME = 'distilbert-base-uncased'"
   ]
  },
  {
   "cell_type": "code",
   "execution_count": 5,
   "id": "6db15861",
   "metadata": {
    "scrolled": true
   },
   "outputs": [
    {
     "data": {
      "application/vnd.jupyter.widget-view+json": {
       "model_id": "8c4704bdab294602a50420709bdf0dbf",
       "version_major": 2,
       "version_minor": 0
      },
      "text/plain": [
       "Downloading:   0%|          | 0.00/28.0 [00:00<?, ?B/s]"
      ]
     },
     "metadata": {},
     "output_type": "display_data"
    },
    {
     "data": {
      "application/vnd.jupyter.widget-view+json": {
       "model_id": "305da373faaa45dba1a8ea4ec4c9f638",
       "version_major": 2,
       "version_minor": 0
      },
      "text/plain": [
       "Downloading:   0%|          | 0.00/483 [00:00<?, ?B/s]"
      ]
     },
     "metadata": {},
     "output_type": "display_data"
    },
    {
     "data": {
      "application/vnd.jupyter.widget-view+json": {
       "model_id": "332cec8cfc5c47c18fb9523eae089b94",
       "version_major": 2,
       "version_minor": 0
      },
      "text/plain": [
       "Downloading:   0%|          | 0.00/226k [00:00<?, ?B/s]"
      ]
     },
     "metadata": {},
     "output_type": "display_data"
    },
    {
     "data": {
      "application/vnd.jupyter.widget-view+json": {
       "model_id": "3a193fa7db1243869d61478700c3999e",
       "version_major": 2,
       "version_minor": 0
      },
      "text/plain": [
       "Downloading:   0%|          | 0.00/455k [00:00<?, ?B/s]"
      ]
     },
     "metadata": {},
     "output_type": "display_data"
    }
   ],
   "source": [
    "tokenizer = AutoTokenizer.from_pretrained(MODEL_NAME)"
   ]
  },
  {
   "cell_type": "code",
   "execution_count": 6,
   "id": "1496e49b",
   "metadata": {
    "scrolled": true
   },
   "outputs": [
    {
     "data": {
      "text/plain": [
       "PreTrainedTokenizerFast(name_or_path='distilbert-base-uncased', vocab_size=30522, model_max_len=512, is_fast=True, padding_side='right', truncation_side='right', special_tokens={'unk_token': '[UNK]', 'sep_token': '[SEP]', 'pad_token': '[PAD]', 'cls_token': '[CLS]', 'mask_token': '[MASK]'})"
      ]
     },
     "execution_count": 6,
     "metadata": {},
     "output_type": "execute_result"
    }
   ],
   "source": [
    "tokenizer"
   ]
  },
  {
   "cell_type": "code",
   "execution_count": 34,
   "id": "3c12195c",
   "metadata": {},
   "outputs": [],
   "source": [
    "input_text = 'MOTION for Protective Order Re HIPAA by Defendants Marvin Powers'"
   ]
  },
  {
   "cell_type": "code",
   "execution_count": 35,
   "id": "90690882",
   "metadata": {},
   "outputs": [],
   "source": [
    "output_dict = tokenizer.encode_plus(\n",
    "    input_text,\n",
    "    add_special_tokens=True, #adding special tokens like MASK, CLS, PAD\n",
    "    padding=\"max_length\", #will take a text and enlarge it to length of 16\n",
    "    max_length=16,\n",
    "    return_tensors=\"pt\",\n",
    "    truncation=True,#long texts will be cut to 16 words or technically wordpiece tokens \n",
    "    return_attention_mask=True,\n",
    ")"
   ]
  },
  {
   "cell_type": "code",
   "execution_count": 36,
   "id": "41b477b2",
   "metadata": {
    "scrolled": true
   },
   "outputs": [
    {
     "data": {
      "text/plain": [
       "{'input_ids': tensor([[  101,  4367,  2005,  9474,  2344,  2128,  5099, 11057,  2011, 16362,\n",
       "         13748,  4204,   102,     0,     0,     0]]), 'attention_mask': tensor([[1, 1, 1, 1, 1, 1, 1, 1, 1, 1, 1, 1, 1, 0, 0, 0]])}"
      ]
     },
     "execution_count": 36,
     "metadata": {},
     "output_type": "execute_result"
    }
   ],
   "source": [
    "output_dict\n",
    "#input_ids are our words encoded into numbers and #attention mask is just where 1's are our words and the 0's are padding "
   ]
  },
  {
   "cell_type": "code",
   "execution_count": 26,
   "id": "05f73bb7",
   "metadata": {},
   "outputs": [],
   "source": [
    "voc = tokenizer.get_vocab()"
   ]
  },
  {
   "cell_type": "code",
   "execution_count": 27,
   "id": "8fbb2cf0",
   "metadata": {},
   "outputs": [
    {
     "data": {
      "text/plain": [
       "30522"
      ]
     },
     "execution_count": 27,
     "metadata": {},
     "output_type": "execute_result"
    }
   ],
   "source": [
    "len(voc)"
   ]
  },
  {
   "cell_type": "code",
   "execution_count": 29,
   "id": "d41e4afe",
   "metadata": {},
   "outputs": [],
   "source": [
    "inv_vocab = {v:k for (k, v) in voc.items()}"
   ]
  },
  {
   "cell_type": "code",
   "execution_count": 37,
   "id": "37f0f183",
   "metadata": {},
   "outputs": [
    {
     "data": {
      "text/plain": [
       "['[CLS]',\n",
       " 'motion',\n",
       " 'for',\n",
       " 'protective',\n",
       " 'order',\n",
       " 're',\n",
       " 'hip',\n",
       " '##aa',\n",
       " 'by',\n",
       " 'defendants',\n",
       " 'marvin',\n",
       " 'powers',\n",
       " '[SEP]',\n",
       " '[PAD]',\n",
       " '[PAD]',\n",
       " '[PAD]']"
      ]
     },
     "execution_count": 37,
     "metadata": {},
     "output_type": "execute_result"
    }
   ],
   "source": [
    "[inv_vocab[i] for i in output_dict['input_ids'].tolist()[0]] "
   ]
  },
  {
   "cell_type": "markdown",
   "id": "9ee188e2",
   "metadata": {},
   "source": [
    "## Statistics for DataSet \n",
    "Kaggle Notebook example\n",
    "https://www.kaggle.com/kashnitsky/distillbert-catalyst-amazon-product-reviews"
   ]
  },
  {
   "cell_type": "code",
   "execution_count": 44,
   "id": "26a14ee1",
   "metadata": {
    "scrolled": false
   },
   "outputs": [
    {
     "data": {
      "text/html": [
       "<div>\n",
       "<style scoped>\n",
       "    .dataframe tbody tr th:only-of-type {\n",
       "        vertical-align: middle;\n",
       "    }\n",
       "\n",
       "    .dataframe tbody tr th {\n",
       "        vertical-align: top;\n",
       "    }\n",
       "\n",
       "    .dataframe thead th {\n",
       "        text-align: right;\n",
       "    }\n",
       "</style>\n",
       "<table border=\"1\" class=\"dataframe\">\n",
       "  <thead>\n",
       "    <tr style=\"text-align: right;\">\n",
       "      <th></th>\n",
       "      <th>legacyid</th>\n",
       "      <th>date</th>\n",
       "      <th>number</th>\n",
       "      <th>description</th>\n",
       "    </tr>\n",
       "  </thead>\n",
       "  <tbody>\n",
       "    <tr>\n",
       "      <th>0</th>\n",
       "      <td>IL-CDCT1:15CV01001</td>\n",
       "      <td>03/10/2015</td>\n",
       "      <td>4.0</td>\n",
       "      <td>NOTICE of Appearance of Attorney by Joseph S T...</td>\n",
       "    </tr>\n",
       "    <tr>\n",
       "      <th>1</th>\n",
       "      <td>IL-CDCT1:15CV01001</td>\n",
       "      <td>04/23/2015</td>\n",
       "      <td>9.0</td>\n",
       "      <td>NOTICE of Appearance of Attorney by Christophe...</td>\n",
       "    </tr>\n",
       "    <tr>\n",
       "      <th>2</th>\n",
       "      <td>IL-CDCT1:15CV01001</td>\n",
       "      <td>01/04/2016</td>\n",
       "      <td>11.0</td>\n",
       "      <td>Joint MOTION for Extension of Time to Complete...</td>\n",
       "    </tr>\n",
       "    <tr>\n",
       "      <th>3</th>\n",
       "      <td>IL-CDCT1:15CV01001</td>\n",
       "      <td>01/11/2016</td>\n",
       "      <td>NaN</td>\n",
       "      <td>TEXT ORDER granting  &lt;gil&gt;11&lt;/gil&gt;  Motion for...</td>\n",
       "    </tr>\n",
       "    <tr>\n",
       "      <th>4</th>\n",
       "      <td>IL-CDCT1:15CV01001</td>\n",
       "      <td>04/22/2016</td>\n",
       "      <td>NaN</td>\n",
       "      <td>ORAL MOTION by Attorney Busey for continuance ...</td>\n",
       "    </tr>\n",
       "  </tbody>\n",
       "</table>\n",
       "</div>"
      ],
      "text/plain": [
       "             legacyid        date  number  \\\n",
       "0  IL-CDCT1:15CV01001  03/10/2015     4.0   \n",
       "1  IL-CDCT1:15CV01001  04/23/2015     9.0   \n",
       "2  IL-CDCT1:15CV01001  01/04/2016    11.0   \n",
       "3  IL-CDCT1:15CV01001  01/11/2016     NaN   \n",
       "4  IL-CDCT1:15CV01001  04/22/2016     NaN   \n",
       "\n",
       "                                         description  \n",
       "0  NOTICE of Appearance of Attorney by Joseph S T...  \n",
       "1  NOTICE of Appearance of Attorney by Christophe...  \n",
       "2  Joint MOTION for Extension of Time to Complete...  \n",
       "3  TEXT ORDER granting  <gil>11</gil>  Motion for...  \n",
       "4  ORAL MOTION by Attorney Busey for continuance ...  "
      ]
     },
     "execution_count": 44,
     "metadata": {},
     "output_type": "execute_result"
    }
   ],
   "source": [
    "train_df = pd.read_csv('../data/motions_laws/nwu_docket_entries.csv')\n",
    "train_df.head()"
   ]
  },
  {
   "cell_type": "code",
   "execution_count": 60,
   "id": "cba3c31a",
   "metadata": {},
   "outputs": [
    {
     "data": {
      "text/plain": [
       "23"
      ]
     },
     "execution_count": 60,
     "metadata": {},
     "output_type": "execute_result"
    }
   ],
   "source": [
    "series = train_df['legacyid'].value_counts()\n",
    "series['IL-CDCT1:15CV01001']"
   ]
  },
  {
   "cell_type": "code",
   "execution_count": 47,
   "id": "fc479963",
   "metadata": {},
   "outputs": [
    {
     "data": {
      "text/plain": [
       "999"
      ]
     },
     "execution_count": 47,
     "metadata": {},
     "output_type": "execute_result"
    }
   ],
   "source": [
    "len(train_df['number'].value_counts())"
   ]
  },
  {
   "cell_type": "code",
   "execution_count": 45,
   "id": "0daedf1d",
   "metadata": {},
   "outputs": [
    {
     "data": {
      "text/plain": [
       "count    637626.000000\n",
       "mean         50.278823\n",
       "std          47.947418\n",
       "min           3.000000\n",
       "25%          23.000000\n",
       "50%          35.000000\n",
       "75%          59.000000\n",
       "max        1553.000000\n",
       "Name: description, dtype: float64"
      ]
     },
     "execution_count": 45,
     "metadata": {},
     "output_type": "execute_result"
    }
   ],
   "source": [
    "train_df['description'].apply(lambda s: len(s.split())).describe()"
   ]
  }
 ],
 "metadata": {
  "kernelspec": {
   "display_name": "Python 3 (ipykernel)",
   "language": "python",
   "name": "python3"
  },
  "language_info": {
   "codemirror_mode": {
    "name": "ipython",
    "version": 3
   },
   "file_extension": ".py",
   "mimetype": "text/x-python",
   "name": "python",
   "nbconvert_exporter": "python",
   "pygments_lexer": "ipython3",
   "version": "3.9.7"
  }
 },
 "nbformat": 4,
 "nbformat_minor": 5
}
