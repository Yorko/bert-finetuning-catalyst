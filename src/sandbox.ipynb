{
 "cells": [
  {
   "cell_type": "code",
   "execution_count": 23,
   "id": "6f906f9e",
   "metadata": {},
   "outputs": [],
   "source": [
    "import logging\n",
    "from pathlib import Path\n",
    "from typing import List, Mapping, Tuple\n",
    "\n",
    "import pandas as pd\n",
    "import torch as nn\n",
    "import numpy as np\n",
    "from torch.utils.data import DataLoader, Dataset\n",
    "from transformers import AutoTokenizer, AutoConfig, AutoModel\n",
    "from catalyst.utils import set_global_seed\n",
    "from data import TextClassificationDataset"
   ]
  },
  {
   "cell_type": "code",
   "execution_count": 2,
   "id": "89f43590",
   "metadata": {},
   "outputs": [],
   "source": [
    "MODEL_NAME = 'distilbert-base-uncased'"
   ]
  },
  {
   "cell_type": "code",
   "execution_count": 3,
   "id": "6db15861",
   "metadata": {
    "scrolled": true
   },
   "outputs": [],
   "source": [
    "tokenizer = AutoTokenizer.from_pretrained(MODEL_NAME)"
   ]
  },
  {
   "cell_type": "code",
   "execution_count": 4,
   "id": "1496e49b",
   "metadata": {
    "scrolled": true
   },
   "outputs": [
    {
     "data": {
      "text/plain": [
       "PreTrainedTokenizerFast(name_or_path='distilbert-base-uncased', vocab_size=30522, model_max_len=512, is_fast=True, padding_side='right', truncation_side='right', special_tokens={'unk_token': '[UNK]', 'sep_token': '[SEP]', 'pad_token': '[PAD]', 'cls_token': '[CLS]', 'mask_token': '[MASK]'})"
      ]
     },
     "execution_count": 4,
     "metadata": {},
     "output_type": "execute_result"
    }
   ],
   "source": [
    "tokenizer"
   ]
  },
  {
   "cell_type": "code",
   "execution_count": 5,
   "id": "3c12195c",
   "metadata": {},
   "outputs": [],
   "source": [
    "input_text = 'MOTION for Protective Order Re HIPAA by Defendants Marvin Powers'"
   ]
  },
  {
   "cell_type": "code",
   "execution_count": 6,
   "id": "90690882",
   "metadata": {},
   "outputs": [],
   "source": [
    "output_dict = tokenizer.encode_plus(\n",
    "    input_text,\n",
    "    add_special_tokens=True, #adding special tokens like MASK, CLS, PAD\n",
    "    padding=\"max_length\", #will take a text and enlarge it to length of 16\n",
    "    max_length=16,\n",
    "    return_tensors=\"pt\",\n",
    "    truncation=True,#long texts will be cut to 16 words or technically wordpiece tokens \n",
    "    return_attention_mask=True,\n",
    ")"
   ]
  },
  {
   "cell_type": "code",
   "execution_count": 7,
   "id": "41b477b2",
   "metadata": {
    "scrolled": true
   },
   "outputs": [
    {
     "data": {
      "text/plain": [
       "{'input_ids': tensor([[  101,  4367,  2005,  9474,  2344,  2128,  5099, 11057,  2011, 16362,\n",
       "         13748,  4204,   102,     0,     0,     0]]), 'attention_mask': tensor([[1, 1, 1, 1, 1, 1, 1, 1, 1, 1, 1, 1, 1, 0, 0, 0]])}"
      ]
     },
     "execution_count": 7,
     "metadata": {},
     "output_type": "execute_result"
    }
   ],
   "source": [
    "output_dict\n",
    "#input_ids are our words encoded into numbers and #attention mask is just where 1's are our words and the 0's are padding "
   ]
  },
  {
   "cell_type": "code",
   "execution_count": 8,
   "id": "05f73bb7",
   "metadata": {},
   "outputs": [],
   "source": [
    "voc = tokenizer.get_vocab()"
   ]
  },
  {
   "cell_type": "code",
   "execution_count": 9,
   "id": "ede9c9bc",
   "metadata": {},
   "outputs": [
    {
     "data": {
      "text/plain": [
       "10930"
      ]
     },
     "execution_count": 9,
     "metadata": {},
     "output_type": "execute_result"
    }
   ],
   "source": [
    "voc.get('yo')"
   ]
  },
  {
   "cell_type": "code",
   "execution_count": 10,
   "id": "8fbb2cf0",
   "metadata": {},
   "outputs": [
    {
     "data": {
      "text/plain": [
       "30522"
      ]
     },
     "execution_count": 10,
     "metadata": {},
     "output_type": "execute_result"
    }
   ],
   "source": [
    "len(voc)"
   ]
  },
  {
   "cell_type": "code",
   "execution_count": 11,
   "id": "d41e4afe",
   "metadata": {},
   "outputs": [],
   "source": [
    "inv_vocab = {v:k for (k, v) in voc.items()}"
   ]
  },
  {
   "cell_type": "code",
   "execution_count": 12,
   "id": "37f0f183",
   "metadata": {},
   "outputs": [
    {
     "data": {
      "text/plain": [
       "['[CLS]',\n",
       " 'motion',\n",
       " 'for',\n",
       " 'protective',\n",
       " 'order',\n",
       " 're',\n",
       " 'hip',\n",
       " '##aa',\n",
       " 'by',\n",
       " 'defendants',\n",
       " 'marvin',\n",
       " 'powers',\n",
       " '[SEP]',\n",
       " '[PAD]',\n",
       " '[PAD]',\n",
       " '[PAD]']"
      ]
     },
     "execution_count": 12,
     "metadata": {},
     "output_type": "execute_result"
    }
   ],
   "source": [
    "[inv_vocab[i] for i in output_dict['input_ids'].tolist()[0]] "
   ]
  },
  {
   "cell_type": "markdown",
   "id": "9ee188e2",
   "metadata": {},
   "source": [
    "## Statistics for DataSet \n",
    "Kaggle Notebook example\n",
    "https://www.kaggle.com/kashnitsky/distillbert-catalyst-amazon-product-reviews"
   ]
  },
  {
   "cell_type": "code",
   "execution_count": 13,
   "id": "26a14ee1",
   "metadata": {
    "scrolled": true
   },
   "outputs": [
    {
     "data": {
      "text/html": [
       "<div>\n",
       "<style scoped>\n",
       "    .dataframe tbody tr th:only-of-type {\n",
       "        vertical-align: middle;\n",
       "    }\n",
       "\n",
       "    .dataframe tbody tr th {\n",
       "        vertical-align: top;\n",
       "    }\n",
       "\n",
       "    .dataframe thead th {\n",
       "        text-align: right;\n",
       "    }\n",
       "</style>\n",
       "<table border=\"1\" class=\"dataframe\">\n",
       "  <thead>\n",
       "    <tr style=\"text-align: right;\">\n",
       "      <th></th>\n",
       "      <th>legacyid</th>\n",
       "      <th>date</th>\n",
       "      <th>number</th>\n",
       "      <th>description</th>\n",
       "    </tr>\n",
       "  </thead>\n",
       "  <tbody>\n",
       "    <tr>\n",
       "      <th>0</th>\n",
       "      <td>IL-CDCT1:15CV01001</td>\n",
       "      <td>03/10/2015</td>\n",
       "      <td>4.0</td>\n",
       "      <td>NOTICE of Appearance of Attorney by Joseph S T...</td>\n",
       "    </tr>\n",
       "    <tr>\n",
       "      <th>1</th>\n",
       "      <td>IL-CDCT1:15CV01001</td>\n",
       "      <td>04/23/2015</td>\n",
       "      <td>9.0</td>\n",
       "      <td>NOTICE of Appearance of Attorney by Christophe...</td>\n",
       "    </tr>\n",
       "    <tr>\n",
       "      <th>2</th>\n",
       "      <td>IL-CDCT1:15CV01001</td>\n",
       "      <td>01/04/2016</td>\n",
       "      <td>11.0</td>\n",
       "      <td>Joint MOTION for Extension of Time to Complete...</td>\n",
       "    </tr>\n",
       "    <tr>\n",
       "      <th>3</th>\n",
       "      <td>IL-CDCT1:15CV01001</td>\n",
       "      <td>01/11/2016</td>\n",
       "      <td>NaN</td>\n",
       "      <td>TEXT ORDER granting  &lt;gil&gt;11&lt;/gil&gt;  Motion for...</td>\n",
       "    </tr>\n",
       "    <tr>\n",
       "      <th>4</th>\n",
       "      <td>IL-CDCT1:15CV01001</td>\n",
       "      <td>04/22/2016</td>\n",
       "      <td>NaN</td>\n",
       "      <td>ORAL MOTION by Attorney Busey for continuance ...</td>\n",
       "    </tr>\n",
       "  </tbody>\n",
       "</table>\n",
       "</div>"
      ],
      "text/plain": [
       "             legacyid        date  number  \\\n",
       "0  IL-CDCT1:15CV01001  03/10/2015     4.0   \n",
       "1  IL-CDCT1:15CV01001  04/23/2015     9.0   \n",
       "2  IL-CDCT1:15CV01001  01/04/2016    11.0   \n",
       "3  IL-CDCT1:15CV01001  01/11/2016     NaN   \n",
       "4  IL-CDCT1:15CV01001  04/22/2016     NaN   \n",
       "\n",
       "                                         description  \n",
       "0  NOTICE of Appearance of Attorney by Joseph S T...  \n",
       "1  NOTICE of Appearance of Attorney by Christophe...  \n",
       "2  Joint MOTION for Extension of Time to Complete...  \n",
       "3  TEXT ORDER granting  <gil>11</gil>  Motion for...  \n",
       "4  ORAL MOTION by Attorney Busey for continuance ...  "
      ]
     },
     "execution_count": 13,
     "metadata": {},
     "output_type": "execute_result"
    }
   ],
   "source": [
    "train_df = pd.read_csv('../data/motions_laws/nwu_docket_entries.csv')\n",
    "train_df.head()"
   ]
  },
  {
   "cell_type": "code",
   "execution_count": 35,
   "id": "046dc0fa",
   "metadata": {},
   "outputs": [
    {
     "data": {
      "text/html": [
       "<div>\n",
       "<style scoped>\n",
       "    .dataframe tbody tr th:only-of-type {\n",
       "        vertical-align: middle;\n",
       "    }\n",
       "\n",
       "    .dataframe tbody tr th {\n",
       "        vertical-align: top;\n",
       "    }\n",
       "\n",
       "    .dataframe thead th {\n",
       "        text-align: right;\n",
       "    }\n",
       "</style>\n",
       "<table border=\"1\" class=\"dataframe\">\n",
       "  <thead>\n",
       "    <tr style=\"text-align: right;\">\n",
       "      <th></th>\n",
       "      <th>legacyid</th>\n",
       "      <th>date</th>\n",
       "      <th>number</th>\n",
       "      <th>description</th>\n",
       "    </tr>\n",
       "  </thead>\n",
       "  <tbody>\n",
       "    <tr>\n",
       "      <th>0</th>\n",
       "      <td>IL-CDCT1:15CV01001</td>\n",
       "      <td>03/10/2015</td>\n",
       "      <td>4.0</td>\n",
       "      <td>NOTICE of Appearance of Attorney by Joseph S T...</td>\n",
       "    </tr>\n",
       "    <tr>\n",
       "      <th>1</th>\n",
       "      <td>IL-CDCT1:15CV01001</td>\n",
       "      <td>04/23/2015</td>\n",
       "      <td>9.0</td>\n",
       "      <td>NOTICE of Appearance of Attorney by Christophe...</td>\n",
       "    </tr>\n",
       "    <tr>\n",
       "      <th>2</th>\n",
       "      <td>IL-CDCT1:15CV01001</td>\n",
       "      <td>01/04/2016</td>\n",
       "      <td>11.0</td>\n",
       "      <td>Joint MOTION for Extension of Time to Complete...</td>\n",
       "    </tr>\n",
       "    <tr>\n",
       "      <th>3</th>\n",
       "      <td>IL-CDCT1:15CV01001</td>\n",
       "      <td>01/11/2016</td>\n",
       "      <td>NaN</td>\n",
       "      <td>TEXT ORDER granting  &lt;gil&gt;11&lt;/gil&gt;  Motion for...</td>\n",
       "    </tr>\n",
       "    <tr>\n",
       "      <th>4</th>\n",
       "      <td>IL-CDCT1:15CV01001</td>\n",
       "      <td>04/22/2016</td>\n",
       "      <td>NaN</td>\n",
       "      <td>ORAL MOTION by Attorney Busey for continuance ...</td>\n",
       "    </tr>\n",
       "    <tr>\n",
       "      <th>...</th>\n",
       "      <td>...</td>\n",
       "      <td>...</td>\n",
       "      <td>...</td>\n",
       "      <td>...</td>\n",
       "    </tr>\n",
       "    <tr>\n",
       "      <th>637599</th>\n",
       "      <td>WI-WDCT3:19CV01066</td>\n",
       "      <td>01/08/2020</td>\n",
       "      <td>3.0</td>\n",
       "      <td>Motion to Admit Bradley Bodiford Pro Hac Vice....</td>\n",
       "    </tr>\n",
       "    <tr>\n",
       "      <th>637600</th>\n",
       "      <td>WI-WDCT3:19CV01066</td>\n",
       "      <td>01/08/2020</td>\n",
       "      <td>4.0</td>\n",
       "      <td>** TEXT ONLY ORDER ** ORDER granting  &lt;gil&gt;3&lt;/...</td>\n",
       "    </tr>\n",
       "    <tr>\n",
       "      <th>637601</th>\n",
       "      <td>WI-WDCT3:19CV01066</td>\n",
       "      <td>01/28/2020</td>\n",
       "      <td>7.0</td>\n",
       "      <td>Motion for Extension of Time by Plaintiff Step...</td>\n",
       "    </tr>\n",
       "    <tr>\n",
       "      <th>637602</th>\n",
       "      <td>WI-WDCT3:19CV01066</td>\n",
       "      <td>01/31/2020</td>\n",
       "      <td>8.0</td>\n",
       "      <td>ORDER denying as premature  &lt;gil&gt;7&lt;/gil&gt;  Moti...</td>\n",
       "    </tr>\n",
       "    <tr>\n",
       "      <th>637603</th>\n",
       "      <td>WI-WDCT3:19CV01066</td>\n",
       "      <td>02/24/2020</td>\n",
       "      <td>15.0</td>\n",
       "      <td>Motion to Admit Gwyn Williams Pro Hac Vice. ( ...</td>\n",
       "    </tr>\n",
       "  </tbody>\n",
       "</table>\n",
       "<p>245626 rows × 4 columns</p>\n",
       "</div>"
      ],
      "text/plain": [
       "                  legacyid        date  number  \\\n",
       "0       IL-CDCT1:15CV01001  03/10/2015     4.0   \n",
       "1       IL-CDCT1:15CV01001  04/23/2015     9.0   \n",
       "2       IL-CDCT1:15CV01001  01/04/2016    11.0   \n",
       "3       IL-CDCT1:15CV01001  01/11/2016     NaN   \n",
       "4       IL-CDCT1:15CV01001  04/22/2016     NaN   \n",
       "...                    ...         ...     ...   \n",
       "637599  WI-WDCT3:19CV01066  01/08/2020     3.0   \n",
       "637600  WI-WDCT3:19CV01066  01/08/2020     4.0   \n",
       "637601  WI-WDCT3:19CV01066  01/28/2020     7.0   \n",
       "637602  WI-WDCT3:19CV01066  01/31/2020     8.0   \n",
       "637603  WI-WDCT3:19CV01066  02/24/2020    15.0   \n",
       "\n",
       "                                              description  \n",
       "0       NOTICE of Appearance of Attorney by Joseph S T...  \n",
       "1       NOTICE of Appearance of Attorney by Christophe...  \n",
       "2       Joint MOTION for Extension of Time to Complete...  \n",
       "3       TEXT ORDER granting  <gil>11</gil>  Motion for...  \n",
       "4       ORAL MOTION by Attorney Busey for continuance ...  \n",
       "...                                                   ...  \n",
       "637599  Motion to Admit Bradley Bodiford Pro Hac Vice....  \n",
       "637600  ** TEXT ONLY ORDER ** ORDER granting  <gil>3</...  \n",
       "637601  Motion for Extension of Time by Plaintiff Step...  \n",
       "637602  ORDER denying as premature  <gil>7</gil>  Moti...  \n",
       "637603  Motion to Admit Gwyn Williams Pro Hac Vice. ( ...  \n",
       "\n",
       "[245626 rows x 4 columns]"
      ]
     },
     "execution_count": 35,
     "metadata": {},
     "output_type": "execute_result"
    }
   ],
   "source": [
    "df = train_df.groupby('legacyid')\n",
    "df.head()"
   ]
  },
  {
   "cell_type": "code",
   "execution_count": 14,
   "id": "cba3c31a",
   "metadata": {},
   "outputs": [
    {
     "data": {
      "text/plain": [
       "23"
      ]
     },
     "execution_count": 14,
     "metadata": {},
     "output_type": "execute_result"
    }
   ],
   "source": [
    "series = train_df['legacyid'].value_counts()\n",
    "series['IL-CDCT1:15CV01001']"
   ]
  },
  {
   "cell_type": "code",
   "execution_count": 15,
   "id": "fc479963",
   "metadata": {},
   "outputs": [
    {
     "data": {
      "text/plain": [
       "999"
      ]
     },
     "execution_count": 15,
     "metadata": {},
     "output_type": "execute_result"
    }
   ],
   "source": [
    "len(train_df['number'].value_counts())"
   ]
  },
  {
   "cell_type": "code",
   "execution_count": 16,
   "id": "0daedf1d",
   "metadata": {
    "scrolled": true
   },
   "outputs": [
    {
     "data": {
      "text/plain": [
       "count    637626.000000\n",
       "mean         50.278823\n",
       "std          47.947418\n",
       "min           3.000000\n",
       "25%          23.000000\n",
       "50%          35.000000\n",
       "75%          59.000000\n",
       "max        1553.000000\n",
       "Name: description, dtype: float64"
      ]
     },
     "execution_count": 16,
     "metadata": {},
     "output_type": "execute_result"
    }
   ],
   "source": [
    "train_df['description'].apply(lambda s: len(s.split())).describe()"
   ]
  },
  {
   "cell_type": "code",
   "execution_count": 17,
   "id": "9690b234",
   "metadata": {},
   "outputs": [],
   "source": [
    "#sklearn -> train_test_split \n",
    "from sklearn.model_selection import train_test_split"
   ]
  },
  {
   "cell_type": "code",
   "execution_count": 21,
   "id": "0e62f248",
   "metadata": {},
   "outputs": [],
   "source": [
    "#another function we can use to split dataset\n",
    "def train_validate_test_split(df, train_percent=.8, validate_percent=.1, seed=None):\n",
    "    np.random.seed(seed)\n",
    "    perm = np.random.permutation(df.index)\n",
    "    m = len(df.index)\n",
    "    train_end = int(train_percent * m)\n",
    "    validate_end = int(validate_percent * m) + train_end\n",
    "    train = df.iloc[perm[:train_end]]\n",
    "    validate = df.iloc[perm[train_end:validate_end]]\n",
    "    test = df.iloc[perm[validate_end:]]\n",
    "    return train, validate, test"
   ]
  },
  {
   "cell_type": "code",
   "execution_count": 41,
   "id": "9656ba93",
   "metadata": {},
   "outputs": [],
   "source": [
    "train, remaining = train_test_split(train_df, train_size=.8)\n",
    "valid, test = train_test_split(remaining, test_size=0.5)"
   ]
  },
  {
   "cell_type": "code",
   "execution_count": 48,
   "id": "60e0d9f8",
   "metadata": {},
   "outputs": [
    {
     "name": "stdout",
     "output_type": "stream",
     "text": [
      "(510100, 4)\n",
      "(63763, 4)\n",
      "(63763, 4)\n"
     ]
    }
   ],
   "source": [
    "print(train.shape)\n",
    "print(valid.shape)\n",
    "print(test.shape)\n",
    "assert train.shape[0] + valid.shape[0] + test.shape[0] == len(train_df)"
   ]
  },
  {
   "cell_type": "code",
   "execution_count": 50,
   "id": "a96d672d",
   "metadata": {},
   "outputs": [],
   "source": [
    "train_file = Path('../data/motions_laws/train.csv')\n",
    "valid_file = Path('../data/motions_laws/valid.csv')\n",
    "test_file = Path('../data/motions_laws/test.csv')\n",
    "if not train_file.is_file(): \n",
    "    train.to_csv('../data/motions_laws/train.csv', index=False)\n",
    "if not valid_file.is_file():\n",
    "    valid.to_csv('../data/motions_laws/valid.csv', index=False)\n",
    "if not train_file.is_file():\n",
    "    test.to_csv('../data/motions_laws/test.csv', index=False)"
   ]
  }
 ],
 "metadata": {
  "kernelspec": {
   "display_name": "Python 3 (ipykernel)",
   "language": "python",
   "name": "python3"
  },
  "language_info": {
   "codemirror_mode": {
    "name": "ipython",
    "version": 3
   },
   "file_extension": ".py",
   "mimetype": "text/x-python",
   "name": "python",
   "nbconvert_exporter": "python",
   "pygments_lexer": "ipython3",
   "version": "3.9.7"
  }
 },
 "nbformat": 4,
 "nbformat_minor": 5
}
