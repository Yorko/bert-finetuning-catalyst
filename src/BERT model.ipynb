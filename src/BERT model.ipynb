{
 "cells": [
  {
   "cell_type": "code",
   "execution_count": 1,
   "id": "6f906f9e",
   "metadata": {},
   "outputs": [],
   "source": [
    "import logging\n",
    "from pathlib import Path\n",
    "from typing import List, Mapping, Tuple\n",
    "\n",
    "import pandas as pd\n",
    "import torch as nn\n",
    "import numpy as np\n",
    "from torch.utils.data import DataLoader, Dataset\n",
    "from transformers import AutoTokenizer, AutoConfig, AutoModel\n",
    "from catalyst.utils import set_global_seed\n",
    "from data import TextClassificationDataset\n",
    "#sklearn -> train_test_split \n",
    "from sklearn.model_selection import train_test_split"
   ]
  },
  {
   "cell_type": "code",
   "execution_count": 3,
   "id": "89f43590",
   "metadata": {},
   "outputs": [],
   "source": [
    "MODEL_NAME = 'distilbert-base-uncased'"
   ]
  },
  {
   "cell_type": "code",
   "execution_count": 4,
   "id": "6db15861",
   "metadata": {
    "scrolled": true
   },
   "outputs": [],
   "source": [
    "tokenizer = AutoTokenizer.from_pretrained(MODEL_NAME)"
   ]
  },
  {
   "cell_type": "code",
   "execution_count": 5,
   "id": "1496e49b",
   "metadata": {
    "scrolled": true
   },
   "outputs": [
    {
     "data": {
      "text/plain": [
       "PreTrainedTokenizerFast(name_or_path='distilbert-base-uncased', vocab_size=30522, model_max_len=512, is_fast=True, padding_side='right', truncation_side='right', special_tokens={'unk_token': '[UNK]', 'sep_token': '[SEP]', 'pad_token': '[PAD]', 'cls_token': '[CLS]', 'mask_token': '[MASK]'})"
      ]
     },
     "execution_count": 5,
     "metadata": {},
     "output_type": "execute_result"
    }
   ],
   "source": [
    "tokenizer"
   ]
  },
  {
   "cell_type": "code",
   "execution_count": 6,
   "id": "3c12195c",
   "metadata": {},
   "outputs": [],
   "source": [
    "input_text = 'MOTION for Protective Order Re HIPAA by Defendants Marvin Powers'"
   ]
  },
  {
   "cell_type": "code",
   "execution_count": 7,
   "id": "90690882",
   "metadata": {},
   "outputs": [],
   "source": [
    "output_dict = tokenizer.encode_plus(\n",
    "    input_text,\n",
    "    add_special_tokens=True, #adding special tokens like MASK, CLS, PAD\n",
    "    padding=\"max_length\", #will take a text and enlarge it to length of 16\n",
    "    max_length=16,\n",
    "    return_tensors=\"pt\",\n",
    "    truncation=True,#long texts will be cut to 16 words or technically wordpiece tokens \n",
    "    return_attention_mask=True,\n",
    ")"
   ]
  },
  {
   "cell_type": "code",
   "execution_count": 8,
   "id": "41b477b2",
   "metadata": {
    "scrolled": true
   },
   "outputs": [
    {
     "data": {
      "text/plain": [
       "{'input_ids': tensor([[  101,  4367,  2005,  9474,  2344,  2128,  5099, 11057,  2011, 16362,\n",
       "         13748,  4204,   102,     0,     0,     0]]), 'attention_mask': tensor([[1, 1, 1, 1, 1, 1, 1, 1, 1, 1, 1, 1, 1, 0, 0, 0]])}"
      ]
     },
     "execution_count": 8,
     "metadata": {},
     "output_type": "execute_result"
    }
   ],
   "source": [
    "output_dict\n",
    "#input_ids are our words encoded into numbers and #attention mask is just where 1's are our words and the 0's are padding "
   ]
  },
  {
   "cell_type": "code",
   "execution_count": 9,
   "id": "05f73bb7",
   "metadata": {},
   "outputs": [],
   "source": [
    "voc = tokenizer.get_vocab()"
   ]
  },
  {
   "cell_type": "code",
   "execution_count": 10,
   "id": "ede9c9bc",
   "metadata": {},
   "outputs": [
    {
     "data": {
      "text/plain": [
       "10930"
      ]
     },
     "execution_count": 10,
     "metadata": {},
     "output_type": "execute_result"
    }
   ],
   "source": [
    "voc.get('yo')"
   ]
  },
  {
   "cell_type": "code",
   "execution_count": 11,
   "id": "8fbb2cf0",
   "metadata": {},
   "outputs": [
    {
     "data": {
      "text/plain": [
       "30522"
      ]
     },
     "execution_count": 11,
     "metadata": {},
     "output_type": "execute_result"
    }
   ],
   "source": [
    "len(voc)"
   ]
  },
  {
   "cell_type": "code",
   "execution_count": 12,
   "id": "d41e4afe",
   "metadata": {},
   "outputs": [],
   "source": [
    "inv_vocab = {v:k for (k, v) in voc.items()}"
   ]
  },
  {
   "cell_type": "code",
   "execution_count": 13,
   "id": "37f0f183",
   "metadata": {},
   "outputs": [
    {
     "data": {
      "text/plain": [
       "['[CLS]',\n",
       " 'motion',\n",
       " 'for',\n",
       " 'protective',\n",
       " 'order',\n",
       " 're',\n",
       " 'hip',\n",
       " '##aa',\n",
       " 'by',\n",
       " 'defendants',\n",
       " 'marvin',\n",
       " 'powers',\n",
       " '[SEP]',\n",
       " '[PAD]',\n",
       " '[PAD]',\n",
       " '[PAD]']"
      ]
     },
     "execution_count": 13,
     "metadata": {},
     "output_type": "execute_result"
    }
   ],
   "source": [
    "[inv_vocab[i] for i in output_dict['input_ids'].tolist()[0]] "
   ]
  },
  {
   "cell_type": "markdown",
   "id": "9ee188e2",
   "metadata": {},
   "source": [
    "## Statistics for DataSet and Data Preparation\n",
    "Kaggle Notebook example\n",
    "https://www.kaggle.com/kashnitsky/distillbert-catalyst-amazon-product-reviews"
   ]
  },
  {
   "cell_type": "code",
   "execution_count": 2,
   "id": "26a14ee1",
   "metadata": {
    "scrolled": true
   },
   "outputs": [
    {
     "data": {
      "text/html": [
       "<div>\n",
       "<style scoped>\n",
       "    .dataframe tbody tr th:only-of-type {\n",
       "        vertical-align: middle;\n",
       "    }\n",
       "\n",
       "    .dataframe tbody tr th {\n",
       "        vertical-align: top;\n",
       "    }\n",
       "\n",
       "    .dataframe thead th {\n",
       "        text-align: right;\n",
       "    }\n",
       "</style>\n",
       "<table border=\"1\" class=\"dataframe\">\n",
       "  <thead>\n",
       "    <tr style=\"text-align: right;\">\n",
       "      <th></th>\n",
       "      <th>legacyid</th>\n",
       "      <th>date</th>\n",
       "      <th>number</th>\n",
       "      <th>description</th>\n",
       "      <th>target</th>\n",
       "    </tr>\n",
       "  </thead>\n",
       "  <tbody>\n",
       "    <tr>\n",
       "      <th>0</th>\n",
       "      <td>IL-CDCT1:15CV01009</td>\n",
       "      <td>05/26/2015</td>\n",
       "      <td>22.0</td>\n",
       "      <td>motion to dismiss for failure to state a claim...</td>\n",
       "      <td>Motion to Dismiss</td>\n",
       "    </tr>\n",
       "    <tr>\n",
       "      <th>1</th>\n",
       "      <td>IL-CDCT1:15CV01013</td>\n",
       "      <td>02/27/2015</td>\n",
       "      <td>12.0</td>\n",
       "      <td>motion to dismiss the counterclaim and rule 12...</td>\n",
       "      <td>Motion to Dismiss</td>\n",
       "    </tr>\n",
       "    <tr>\n",
       "      <th>2</th>\n",
       "      <td>IL-CDCT1:15CV01023</td>\n",
       "      <td>01/30/2015</td>\n",
       "      <td>14.0</td>\n",
       "      <td>motion to dismiss by defendants geronimo wind ...</td>\n",
       "      <td>Motion to Dismiss</td>\n",
       "    </tr>\n",
       "    <tr>\n",
       "      <th>3</th>\n",
       "      <td>IL-CDCT1:15CV01023</td>\n",
       "      <td>01/30/2015</td>\n",
       "      <td>23.0</td>\n",
       "      <td>motion to dismiss by defendant general service...</td>\n",
       "      <td>Motion to Dismiss</td>\n",
       "    </tr>\n",
       "    <tr>\n",
       "      <th>4</th>\n",
       "      <td>IL-CDCT1:15CV01027</td>\n",
       "      <td>03/19/2015</td>\n",
       "      <td>8.0</td>\n",
       "      <td>motion to dismiss by defendants city of fairbu...</td>\n",
       "      <td>Motion to Dismiss</td>\n",
       "    </tr>\n",
       "  </tbody>\n",
       "</table>\n",
       "</div>"
      ],
      "text/plain": [
       "             legacyid        date  number  \\\n",
       "0  IL-CDCT1:15CV01009  05/26/2015    22.0   \n",
       "1  IL-CDCT1:15CV01013  02/27/2015    12.0   \n",
       "2  IL-CDCT1:15CV01023  01/30/2015    14.0   \n",
       "3  IL-CDCT1:15CV01023  01/30/2015    23.0   \n",
       "4  IL-CDCT1:15CV01027  03/19/2015     8.0   \n",
       "\n",
       "                                         description             target  \n",
       "0  motion to dismiss for failure to state a claim...  Motion to Dismiss  \n",
       "1  motion to dismiss the counterclaim and rule 12...  Motion to Dismiss  \n",
       "2  motion to dismiss by defendants geronimo wind ...  Motion to Dismiss  \n",
       "3  motion to dismiss by defendant general service...  Motion to Dismiss  \n",
       "4  motion to dismiss by defendants city of fairbu...  Motion to Dismiss  "
      ]
     },
     "execution_count": 2,
     "metadata": {},
     "output_type": "execute_result"
    }
   ],
   "source": [
    "train_df = pd.read_csv('../data/motions_laws/balanced_set.csv')\n",
    "train_df.head()"
   ]
  },
  {
   "cell_type": "code",
   "execution_count": null,
   "id": "cba3c31a",
   "metadata": {},
   "outputs": [],
   "source": [
    "# series = train_df['legacyid'].value_counts()\n",
    "# series['IL-CDCT1:15CV01001']"
   ]
  },
  {
   "cell_type": "code",
   "execution_count": null,
   "id": "fc479963",
   "metadata": {},
   "outputs": [],
   "source": [
    "# len(train_df['number'].value_counts())"
   ]
  },
  {
   "cell_type": "code",
   "execution_count": 3,
   "id": "0daedf1d",
   "metadata": {
    "scrolled": true
   },
   "outputs": [
    {
     "data": {
      "text/plain": [
       "count    3030.000000\n",
       "mean       32.359076\n",
       "std        25.795596\n",
       "min         8.000000\n",
       "25%        20.000000\n",
       "50%        26.000000\n",
       "75%        36.000000\n",
       "max       377.000000\n",
       "Name: description, dtype: float64"
      ]
     },
     "execution_count": 3,
     "metadata": {},
     "output_type": "execute_result"
    }
   ],
   "source": [
    "train_df['description'].apply(lambda s: len(s.split())).describe()"
   ]
  },
  {
   "cell_type": "code",
   "execution_count": 4,
   "id": "8215433b",
   "metadata": {},
   "outputs": [
    {
     "name": "stdout",
     "output_type": "stream",
     "text": [
      "3\n"
     ]
    }
   ],
   "source": [
    "#NUMBER OF DIFFERENT MOTIONS*************\n",
    "different_motions = train_df['target'].value_counts()\n",
    "print(len(different_motions))"
   ]
  },
  {
   "cell_type": "code",
   "execution_count": 5,
   "id": "13061be4",
   "metadata": {},
   "outputs": [
    {
     "data": {
      "text/plain": [
       "Motion to Dismiss               1151\n",
       "Other                           1062\n",
       "Motion for Summary Judgement     817\n",
       "Name: target, dtype: int64"
      ]
     },
     "execution_count": 5,
     "metadata": {},
     "output_type": "execute_result"
    }
   ],
   "source": [
    "different_motions"
   ]
  },
  {
   "cell_type": "code",
   "execution_count": 6,
   "id": "9656ba93",
   "metadata": {},
   "outputs": [],
   "source": [
    "train, remaining = train_test_split(train_df, train_size=.8)\n",
    "valid, test = train_test_split(remaining, test_size=0.5)"
   ]
  },
  {
   "cell_type": "code",
   "execution_count": 7,
   "id": "60e0d9f8",
   "metadata": {},
   "outputs": [
    {
     "name": "stdout",
     "output_type": "stream",
     "text": [
      "(2424, 5)\n",
      "(303, 5)\n",
      "(303, 5)\n"
     ]
    }
   ],
   "source": [
    "print(train.shape)\n",
    "print(valid.shape)\n",
    "print(test.shape)\n",
    "assert train.shape[0] + valid.shape[0] + test.shape[0] == len(train_df)"
   ]
  },
  {
   "cell_type": "code",
   "execution_count": 8,
   "id": "a96d672d",
   "metadata": {},
   "outputs": [],
   "source": [
    "train_file = Path('../data/motions_laws/train.csv')\n",
    "valid_file = Path('../data/motions_laws/valid.csv')\n",
    "test_file = Path('../data/motions_laws/test.csv')\n",
    "if not train_file.is_file(): \n",
    "    train.to_csv('../data/motions_laws/train.csv', index=False)\n",
    "if not valid_file.is_file():\n",
    "    valid.to_csv('../data/motions_laws/valid.csv', index=False)\n",
    "if not test_file.is_file():\n",
    "    test.to_csv('../data/motions_laws/test.csv', index=False)"
   ]
  },
  {
   "cell_type": "code",
   "execution_count": 9,
   "id": "badc6d93",
   "metadata": {
    "scrolled": true
   },
   "outputs": [
    {
     "ename": "NameError",
     "evalue": "name 'MODEL_NAME' is not defined",
     "output_type": "error",
     "traceback": [
      "\u001b[0;31m---------------------------------------------------------------------------\u001b[0m",
      "\u001b[0;31mNameError\u001b[0m                                 Traceback (most recent call last)",
      "\u001b[0;32m/var/folders/sz/386ymr1n0xb_y6v0d8nrj98c0000gn/T/ipykernel_35389/674645798.py\u001b[0m in \u001b[0;36m<module>\u001b[0;34m\u001b[0m\n\u001b[1;32m      4\u001b[0m     \u001b[0mlabels\u001b[0m\u001b[0;34m=\u001b[0m\u001b[0mtrain\u001b[0m\u001b[0;34m[\u001b[0m\u001b[0;34m'target'\u001b[0m\u001b[0;34m]\u001b[0m\u001b[0;34m.\u001b[0m\u001b[0mvalues\u001b[0m\u001b[0;34m.\u001b[0m\u001b[0mtolist\u001b[0m\u001b[0;34m(\u001b[0m\u001b[0;34m)\u001b[0m\u001b[0;34m,\u001b[0m\u001b[0;34m\u001b[0m\u001b[0;34m\u001b[0m\u001b[0m\n\u001b[1;32m      5\u001b[0m     \u001b[0mmax_seq_length\u001b[0m\u001b[0;34m=\u001b[0m\u001b[0mSEQ_LENGTH\u001b[0m\u001b[0;34m,\u001b[0m\u001b[0;34m\u001b[0m\u001b[0;34m\u001b[0m\u001b[0m\n\u001b[0;32m----> 6\u001b[0;31m     \u001b[0mmodel_name\u001b[0m\u001b[0;34m=\u001b[0m\u001b[0mMODEL_NAME\u001b[0m\u001b[0;34m,\u001b[0m\u001b[0;34m\u001b[0m\u001b[0;34m\u001b[0m\u001b[0m\n\u001b[0m\u001b[1;32m      7\u001b[0m )\n\u001b[1;32m      8\u001b[0m \u001b[0mprint\u001b[0m\u001b[0;34m(\u001b[0m\u001b[0;34m'length of TRAIN set:'\u001b[0m\u001b[0;34m,\u001b[0m \u001b[0mlen\u001b[0m\u001b[0;34m(\u001b[0m\u001b[0mtrain_dataset\u001b[0m\u001b[0;34m)\u001b[0m\u001b[0;34m)\u001b[0m\u001b[0;34m\u001b[0m\u001b[0;34m\u001b[0m\u001b[0m\n",
      "\u001b[0;31mNameError\u001b[0m: name 'MODEL_NAME' is not defined"
     ]
    }
   ],
   "source": [
    "SEQ_LENGTH = 32\n",
    "train_dataset = TextClassificationDataset(\n",
    "    texts=train['description'].values.tolist(),\n",
    "    labels=train['target'].values.tolist(),\n",
    "    max_seq_length=SEQ_LENGTH,\n",
    "    model_name=MODEL_NAME,\n",
    ")\n",
    "print('length of TRAIN set:', len(train_dataset))\n",
    "\n",
    "valid_dataset = TextClassificationDataset(\n",
    "    texts=valid['description'].values.tolist(),\n",
    "    labels=valid['target'].values.tolist(),\n",
    "    max_seq_length=SEQ_LENGTH,\n",
    "    model_name=MODEL_NAME,\n",
    ")\n",
    "print('length of VALID set:', len(valid_dataset))\n",
    "\n",
    "test_dataset = TextClassificationDataset(\n",
    "    texts=test['description'].values.tolist(),\n",
    "    labels=test['target'].values.tolist(),\n",
    "    max_seq_length=SEQ_LENGTH,\n",
    "    model_name=MODEL_NAME,\n",
    ")\n",
    "print('length of TEST set:', len(test_dataset))"
   ]
  },
  {
   "cell_type": "code",
   "execution_count": 12,
   "id": "ecadcd80",
   "metadata": {
    "scrolled": true
   },
   "outputs": [
    {
     "data": {
      "text/plain": [
       "{'Motion Requesting Early Termination of Probation': 0,\n",
       " 'Motion for Attorney Representation': 1,\n",
       " 'Motion for Default Judgment': 2,\n",
       " 'Motion for Extension': 3,\n",
       " 'Motion for Judgment (as a Matter of Law)': 4,\n",
       " 'Motion for Leave': 5,\n",
       " 'Motion for Order': 6,\n",
       " 'Motion for Removal in Custody': 7,\n",
       " 'Motion for Summary Judgment': 8,\n",
       " 'Motion for Voluntary Dismissal': 9,\n",
       " 'Motion for a Protective Order': 10,\n",
       " 'Motion in Limine': 11,\n",
       " 'Motion to Amend': 12,\n",
       " 'Motion to Compel': 13,\n",
       " 'Motion to Continue': 14,\n",
       " 'Motion to Dismiss': 15,\n",
       " 'Motion to Exclude': 16,\n",
       " 'Motion to File Under Seal': 17,\n",
       " 'Motion to Modify Conditions for Release': 18,\n",
       " 'Motion to Quash': 19,\n",
       " 'Motion to Strike': 20,\n",
       " 'Motion to Substitute': 21,\n",
       " 'Motion to Suppress': 22,\n",
       " 'Motion to Transfer a Case': 23,\n",
       " 'Motion to Transfer a Prisoner': 24,\n",
       " 'Motion to Unseal': 25,\n",
       " 'Motion to Withdraw': 26,\n",
       " 'No Motion Here': 27,\n",
       " 'Other Motion Not Listed Here': 28}"
      ]
     },
     "execution_count": 12,
     "metadata": {},
     "output_type": "execute_result"
    }
   ],
   "source": [
    "train_dataset.label_dict"
   ]
  },
  {
   "cell_type": "code",
   "execution_count": 23,
   "id": "d5023979",
   "metadata": {},
   "outputs": [
    {
     "data": {
      "text/plain": [
       "array([\"MOTION by Plaintiff Victor Santana to amend/correct other 70 Plaintiff's Motion to Amend Answer to Defendants Thomas A. Jaconetty, Joseph Berrios and Cook County Board of Review's First Requests for Admission (Attachments: # 1 Exhibit Plaintiff's Answers to Defendant's First Request to Admit)(de Silva, R.) (Entered: 08/06/2010)\",\n",
       "       'Motion to File Under Seal'], dtype=object)"
      ]
     },
     "execution_count": 23,
     "metadata": {},
     "output_type": "execute_result"
    }
   ],
   "source": [
    "train_df.iloc[17].values"
   ]
  },
  {
   "cell_type": "code",
   "execution_count": 21,
   "id": "ab54b663",
   "metadata": {},
   "outputs": [
    {
     "data": {
      "text/plain": [
       "{'attention_mask': tensor([[1, 1, 1, 1, 1, 1, 1, 1, 1, 1, 1, 1, 1, 1, 1, 1, 1, 1, 1, 1, 1, 1, 1, 1,\n",
       "         1, 1, 1, 1, 1, 1, 1, 1]]), 'features': tensor([  101,  2344,  2004,  2000, 17183, 16843, 13109,  6633,  6562,  1024,\n",
       "        13474,  3544,  1999,  3433,  2000,  6545,  2006,  2142,  2163,  1005,\n",
       "         2353,  4367,  2005,  1037,  3627,  2000,  2265,  3426,  9800,  1012,\n",
       "        13474,   102]), 'targets': tensor(27)}"
      ]
     },
     "execution_count": 21,
     "metadata": {},
     "output_type": "execute_result"
    }
   ],
   "source": [
    "train_dataset[17]"
   ]
  },
  {
   "cell_type": "code",
   "execution_count": 24,
   "id": "f928dad4",
   "metadata": {},
   "outputs": [],
   "source": [
    "train_val_loaders = {\n",
    "    \"train\": DataLoader(\n",
    "        dataset=train_dataset,\n",
    "        batch_size=16,\n",
    "        shuffle=True,\n",
    "    ),\n",
    "    \"valid\": DataLoader(\n",
    "        dataset=valid_dataset,\n",
    "        batch_size=16,\n",
    "        shuffle=False,\n",
    "    ),\n",
    "}"
   ]
  },
  {
   "cell_type": "code",
   "execution_count": 25,
   "id": "623d58c9",
   "metadata": {
    "scrolled": true
   },
   "outputs": [],
   "source": [
    "mini_batch = next(iter(train_val_loaders['train']))"
   ]
  },
  {
   "cell_type": "code",
   "execution_count": 26,
   "id": "abefc7f3",
   "metadata": {},
   "outputs": [
    {
     "data": {
      "text/plain": [
       "dict_keys(['attention_mask', 'features', 'targets'])"
      ]
     },
     "execution_count": 26,
     "metadata": {},
     "output_type": "execute_result"
    }
   ],
   "source": [
    "mini_batch.keys()"
   ]
  },
  {
   "cell_type": "code",
   "execution_count": 27,
   "id": "91dda67e",
   "metadata": {
    "scrolled": true
   },
   "outputs": [
    {
     "data": {
      "text/plain": [
       "torch.Size([16, 32])"
      ]
     },
     "execution_count": 27,
     "metadata": {},
     "output_type": "execute_result"
    }
   ],
   "source": [
    "mini_batch['features'].size()"
   ]
  },
  {
   "cell_type": "markdown",
   "id": "18cd03a3",
   "metadata": {},
   "source": [
    "## Creating the Model"
   ]
  },
  {
   "cell_type": "code",
   "execution_count": 28,
   "id": "1745fea2",
   "metadata": {},
   "outputs": [],
   "source": [
    "import torch.nn as nn\n",
    "from transformers import AutoConfig, AutoModel\n",
    "from model import BertForSequenceClassification"
   ]
  },
  {
   "cell_type": "code",
   "execution_count": null,
   "id": "c2ce707d",
   "metadata": {},
   "outputs": [],
   "source": [
    "MODEL_NAME"
   ]
  },
  {
   "cell_type": "code",
   "execution_count": 36,
   "id": "af168afd",
   "metadata": {},
   "outputs": [],
   "source": [
    "config = AutoConfig.from_pretrained(\n",
    "    MODEL_NAME, num_labels=10\n",
    ")"
   ]
  },
  {
   "cell_type": "code",
   "execution_count": 37,
   "id": "e0ea3829",
   "metadata": {},
   "outputs": [
    {
     "name": "stderr",
     "output_type": "stream",
     "text": [
      "Some weights of the model checkpoint at distilbert-base-uncased were not used when initializing DistilBertModel: ['vocab_transform.bias', 'vocab_transform.weight', 'vocab_layer_norm.weight', 'vocab_projector.weight', 'vocab_layer_norm.bias', 'vocab_projector.bias']\n",
      "- This IS expected if you are initializing DistilBertModel from the checkpoint of a model trained on another task or with another architecture (e.g. initializing a BertForSequenceClassification model from a BertForPreTraining model).\n",
      "- This IS NOT expected if you are initializing DistilBertModel from the checkpoint of a model that you expect to be exactly identical (initializing a BertForSequenceClassification model from a BertForSequenceClassification model).\n"
     ]
    }
   ],
   "source": [
    "model = AutoModel.from_pretrained(MODEL_NAME, config=config)"
   ]
  },
  {
   "cell_type": "code",
   "execution_count": 38,
   "id": "7eb44406",
   "metadata": {},
   "outputs": [],
   "source": [
    "bert_output = model(\n",
    "                input_ids = mini_batch['features'],\n",
    "                attention_mask=mini_batch['attention_mask']\n",
    ")"
   ]
  },
  {
   "cell_type": "code",
   "execution_count": null,
   "id": "5dc99ce1",
   "metadata": {},
   "outputs": [],
   "source": [
    "type(bert_output), len(bert_output)"
   ]
  },
  {
   "cell_type": "code",
   "execution_count": null,
   "id": "19edd675",
   "metadata": {},
   "outputs": [],
   "source": [
    "bert_output[0].size() #(batch size, sequence_length, embedding space)"
   ]
  },
  {
   "cell_type": "code",
   "execution_count": null,
   "id": "46881e7d",
   "metadata": {},
   "outputs": [],
   "source": [
    "seq_output = bert_output[0]  # (bs, seq_len, dim)\n"
   ]
  },
  {
   "cell_type": "code",
   "execution_count": null,
   "id": "450e5148",
   "metadata": {},
   "outputs": [],
   "source": [
    "pooled_output = seq_output.mean(axis=1)\n",
    "pooled_output.size()"
   ]
  },
  {
   "cell_type": "code",
   "execution_count": null,
   "id": "35324e8b",
   "metadata": {},
   "outputs": [],
   "source": [
    "classifier = nn.Linear(768, 10)\n",
    "dropout = nn.Dropout(0.3)"
   ]
  },
  {
   "cell_type": "code",
   "execution_count": null,
   "id": "008a1474",
   "metadata": {},
   "outputs": [],
   "source": [
    "pooled_output = dropout(pooled_output)  # (bs, dim)\n",
    "scores = classifier(pooled_output)  # (bs, num_classes)\n",
    "scores.size()"
   ]
  },
  {
   "cell_type": "code",
   "execution_count": 29,
   "id": "9a80620e",
   "metadata": {},
   "outputs": [
    {
     "name": "stderr",
     "output_type": "stream",
     "text": [
      "Some weights of the model checkpoint at distilbert-base-uncased were not used when initializing DistilBertModel: ['vocab_transform.bias', 'vocab_transform.weight', 'vocab_layer_norm.weight', 'vocab_projector.weight', 'vocab_layer_norm.bias', 'vocab_projector.bias']\n",
      "- This IS expected if you are initializing DistilBertModel from the checkpoint of a model trained on another task or with another architecture (e.g. initializing a BertForSequenceClassification model from a BertForPreTraining model).\n",
      "- This IS NOT expected if you are initializing DistilBertModel from the checkpoint of a model that you expect to be exactly identical (initializing a BertForSequenceClassification model from a BertForSequenceClassification model).\n"
     ]
    }
   ],
   "source": [
    "clf_model = BertForSequenceClassification(pretrained_model_name=MODEL_NAME, num_classes=len(different_motions))"
   ]
  },
  {
   "cell_type": "code",
   "execution_count": 30,
   "id": "2e6191a2",
   "metadata": {},
   "outputs": [
    {
     "data": {
      "text/plain": [
       "tensor([[-2.2639e-02,  1.2949e-01, -3.9254e-01, -1.6854e-02, -5.3484e-03,\n",
       "         -8.1669e-02, -1.1446e-01,  2.6293e-01, -1.2415e-01,  2.4378e-02,\n",
       "          1.0092e-01, -4.9385e-01,  1.4566e-01,  4.8445e-01, -1.6468e-01,\n",
       "         -2.8870e-01,  3.9481e-01, -7.4054e-04, -4.0464e-01, -9.8088e-02,\n",
       "          1.5933e-01,  1.6350e-01, -2.1154e-01,  2.2107e-01,  1.9878e-01,\n",
       "          9.8776e-02,  5.6608e-02, -6.8970e-02, -5.9388e-01],\n",
       "        [-1.2809e-01, -2.0702e-01,  2.8406e-02,  4.0913e-02,  2.1825e-02,\n",
       "         -1.3228e-01, -3.6522e-02,  1.7669e-01, -1.0154e-01,  9.4971e-03,\n",
       "          1.2146e-02, -8.9340e-02,  1.1837e-02,  2.7034e-01,  1.6256e-01,\n",
       "         -2.6777e-01,  2.0420e-01,  9.1835e-02, -4.4958e-01,  1.1288e-01,\n",
       "          3.9209e-02,  3.6933e-01, -3.6268e-01,  2.4374e-01,  4.9684e-01,\n",
       "         -4.6326e-02, -3.7255e-02, -7.6579e-02, -3.4536e-01],\n",
       "        [-4.2630e-02,  1.1766e-01,  2.9289e-02,  6.5125e-02, -1.0120e-02,\n",
       "         -6.1665e-02, -1.9023e-02,  2.0471e-01, -2.9025e-01, -1.3189e-01,\n",
       "         -1.0432e-01, -1.6103e-01,  5.0808e-02,  1.7368e-01, -4.9146e-02,\n",
       "         -7.9255e-02,  2.4778e-01,  1.7815e-01, -4.5715e-01,  1.5570e-01,\n",
       "         -3.2702e-02,  3.4096e-01, -2.8983e-01,  3.6076e-02,  4.6491e-01,\n",
       "          5.6633e-03, -9.7441e-02,  4.4580e-03, -4.4381e-01],\n",
       "        [-3.1010e-01, -6.1811e-02, -1.0354e-01,  5.9262e-02, -1.8589e-01,\n",
       "         -2.9137e-01, -1.1297e-01,  7.1599e-02, -2.3862e-01, -2.3580e-01,\n",
       "          5.5751e-02, -1.3226e-01,  9.6131e-02,  3.3608e-01, -2.3323e-01,\n",
       "         -1.5606e-01,  3.8523e-01, -7.5356e-02, -2.3493e-01,  2.0209e-01,\n",
       "          9.7285e-02,  2.5802e-01, -1.6235e-01,  2.5712e-01,  3.4738e-01,\n",
       "         -1.3226e-01, -2.0467e-01,  1.8984e-02, -3.7117e-01],\n",
       "        [-6.5347e-02,  2.4126e-01, -8.5759e-02, -1.4306e-01, -1.2169e-01,\n",
       "         -2.2759e-01, -1.8453e-01,  2.0302e-01, -1.8637e-01,  9.0397e-02,\n",
       "          1.4314e-01, -3.9739e-01,  4.4624e-02,  2.2460e-01, -8.2234e-02,\n",
       "          3.7399e-04,  3.7287e-01,  4.4269e-02, -3.2018e-01, -1.1363e-01,\n",
       "          2.4854e-01,  1.8262e-01, -4.6188e-02,  2.1539e-01,  3.2105e-01,\n",
       "          1.5661e-01,  1.4239e-02,  3.8112e-02, -3.5225e-01],\n",
       "        [-1.2449e-01,  1.1111e-01, -1.3118e-01, -5.7332e-02, -3.6518e-02,\n",
       "         -6.7304e-03, -2.3191e-01,  1.0541e-01, -1.8947e-01, -3.0512e-01,\n",
       "         -5.1501e-03, -3.6007e-01,  7.7032e-02,  2.2316e-01,  8.3898e-02,\n",
       "         -7.5755e-02,  3.5354e-01,  9.0270e-02, -3.5182e-01,  2.1820e-01,\n",
       "         -5.4616e-02,  4.5619e-01, -3.9903e-01,  2.5651e-02,  4.6100e-01,\n",
       "         -1.8633e-01,  4.6240e-02,  3.1201e-02, -6.6196e-01],\n",
       "        [-6.4676e-02, -2.8789e-02, -2.0189e-01, -1.8186e-01, -1.1379e-01,\n",
       "         -2.9073e-01, -1.3876e-01,  3.1924e-01, -1.6162e-01, -8.2667e-02,\n",
       "         -2.6669e-02, -3.7630e-01, -2.1844e-02,  3.6730e-01, -1.4121e-01,\n",
       "         -2.6385e-02,  2.2803e-01,  2.7191e-02, -2.4589e-01, -5.4751e-02,\n",
       "          3.8105e-02,  2.0690e-01, -2.1757e-01,  1.1230e-01,  3.0329e-01,\n",
       "          1.0572e-02, -9.0885e-03,  4.7361e-02, -5.4037e-01],\n",
       "        [-1.0785e-01, -1.6536e-01, -2.6586e-01,  2.3257e-01,  4.5965e-02,\n",
       "         -2.4182e-01,  1.6122e-01,  1.1613e-01,  3.9939e-02,  1.4616e-01,\n",
       "         -1.4503e-01, -9.6118e-02, -6.1579e-02,  2.9306e-01,  1.0815e-01,\n",
       "         -2.0250e-01,  3.6848e-02,  3.7056e-01, -3.9215e-01, -1.4140e-01,\n",
       "          2.4755e-01,  1.4081e-01, -1.0264e-01,  2.9840e-01,  3.4194e-01,\n",
       "          2.7074e-01, -1.4646e-01, -1.7305e-01, -2.1773e-01],\n",
       "        [-2.0854e-01,  1.6598e-01, -1.5878e-01,  1.6595e-01,  1.3962e-03,\n",
       "         -2.1445e-01, -3.4213e-02,  1.5405e-01, -1.7587e-01, -6.5900e-02,\n",
       "         -5.7741e-02, -7.7431e-02, -2.8005e-01,  3.5220e-01,  7.6441e-02,\n",
       "          1.0716e-01,  1.8342e-01,  1.0232e-01, -1.6163e-01, -1.8451e-01,\n",
       "         -4.4225e-02,  5.2410e-02, -2.2635e-01,  6.8478e-02,  2.1283e-01,\n",
       "         -1.0392e-03, -4.3272e-02, -5.5182e-02, -2.7088e-01],\n",
       "        [-2.0491e-01,  6.6824e-03, -1.7175e-01,  2.5858e-02, -2.1163e-01,\n",
       "         -2.1842e-01, -2.4136e-01,  3.7234e-01, -2.7940e-01,  5.2114e-02,\n",
       "          1.1315e-01, -1.4045e-01,  2.6622e-01,  4.1441e-01, -8.6083e-02,\n",
       "         -8.7837e-02,  1.3210e-01,  2.6622e-02, -5.9524e-01, -1.7765e-02,\n",
       "          4.1431e-02,  8.5175e-02, -4.0341e-01, -3.6399e-02,  3.3966e-01,\n",
       "          1.7079e-01, -7.8054e-02,  4.0318e-02, -1.1398e-01],\n",
       "        [-3.0389e-01,  5.8876e-02, -3.7024e-02, -3.4951e-02, -5.7365e-02,\n",
       "         -2.2540e-01,  4.7224e-02,  4.5832e-01, -2.7785e-01, -1.4199e-01,\n",
       "         -1.4165e-01, -3.4704e-01,  1.1297e-01,  5.2127e-01, -5.3536e-04,\n",
       "         -7.1155e-02,  2.4103e-01,  6.3714e-02, -4.0548e-01,  7.1956e-02,\n",
       "         -1.1913e-01,  2.4010e-01, -2.5943e-01,  6.4289e-02,  3.4994e-01,\n",
       "          5.2346e-02,  4.0139e-02, -3.5084e-02, -3.3023e-01],\n",
       "        [-6.8110e-02,  3.0885e-01, -3.4163e-02, -1.3103e-01, -2.1603e-01,\n",
       "         -4.0799e-01, -1.8936e-01,  7.0336e-02, -4.3785e-02, -5.1125e-02,\n",
       "         -6.8283e-02, -1.9989e-01, -4.1520e-02,  3.2773e-01,  1.8513e-01,\n",
       "         -4.5167e-02,  4.8005e-01, -4.9813e-02, -3.2827e-01, -1.0808e-01,\n",
       "          2.0191e-01,  1.4096e-01, -2.7114e-01,  1.7681e-01,  2.6503e-01,\n",
       "         -5.2218e-02,  1.8994e-01, -1.2426e-01, -5.2055e-01],\n",
       "        [ 9.7712e-02,  5.5774e-02,  2.4197e-02,  6.2257e-02,  1.1298e-01,\n",
       "         -1.4839e-01,  1.5259e-01,  1.3531e-01, -1.4253e-01,  2.1337e-01,\n",
       "         -1.2013e-01, -2.9054e-01, -5.7883e-02,  5.8034e-01,  2.0981e-01,\n",
       "         -1.4749e-01,  7.2715e-02,  3.8880e-01, -4.0870e-01, -9.5291e-02,\n",
       "         -6.4153e-02, -9.0950e-02, -1.2492e-01,  2.9638e-01,  2.2438e-01,\n",
       "          4.5731e-02,  1.4342e-02, -1.9458e-01, -4.0117e-01],\n",
       "        [-5.6983e-02,  1.6633e-01, -1.8536e-01,  1.1382e-01, -1.8410e-01,\n",
       "         -9.3715e-02, -6.6538e-02,  1.8806e-01, -3.0631e-01, -8.8892e-02,\n",
       "          1.1740e-02, -2.3712e-01,  3.7706e-02,  3.2322e-01, -2.1209e-01,\n",
       "         -2.2716e-01,  4.5333e-01,  1.5989e-01, -4.3552e-01,  1.0233e-01,\n",
       "          7.2609e-03,  8.6413e-02,  4.1525e-02,  2.0069e-02,  1.9765e-01,\n",
       "          5.2187e-02, -7.2944e-02,  6.0931e-02, -5.5933e-01],\n",
       "        [-2.5301e-01,  6.8189e-02, -8.0034e-02,  1.3654e-01, -3.3486e-02,\n",
       "         -3.8219e-01, -8.7403e-02,  1.4309e-01, -3.8081e-01, -1.3019e-01,\n",
       "          5.5608e-02, -2.8028e-02,  5.7133e-03,  2.6716e-01,  7.4653e-02,\n",
       "         -1.2961e-01,  3.9708e-01, -5.4249e-02, -1.5901e-01, -1.1977e-01,\n",
       "          2.5157e-01,  1.0923e-01, -1.0247e-01,  2.6396e-01,  2.2008e-01,\n",
       "         -2.0629e-02,  7.7217e-02,  6.1523e-02, -3.5615e-01],\n",
       "        [-4.0427e-02,  3.8259e-02,  1.1126e-01,  5.3103e-02,  1.5915e-01,\n",
       "         -1.7322e-01,  3.7138e-03,  1.1230e-01, -7.6853e-02,  1.6141e-01,\n",
       "         -9.3680e-03, -3.4906e-01,  3.7750e-02,  5.1489e-01,  1.6531e-01,\n",
       "          1.3452e-01,  2.9157e-01,  2.6923e-01,  1.3222e-02, -1.4622e-01,\n",
       "          3.8785e-02,  1.7149e-01, -1.3495e-01,  5.4920e-02,  1.0374e-01,\n",
       "          1.9195e-01,  1.2833e-02,  1.5469e-02, -3.7308e-01]],\n",
       "       grad_fn=<AddmmBackward0>)"
      ]
     },
     "execution_count": 30,
     "metadata": {},
     "output_type": "execute_result"
    }
   ],
   "source": [
    "clf_model(features=mini_batch['features'], attention_mask=mini_batch['attention_mask'])"
   ]
  },
  {
   "cell_type": "markdown",
   "id": "fa146395",
   "metadata": {},
   "source": [
    "## Training"
   ]
  },
  {
   "cell_type": "code",
   "execution_count": 31,
   "id": "b93981e5",
   "metadata": {},
   "outputs": [],
   "source": [
    "import torch\n",
    "import yaml\n",
    "import transformers\n",
    "import catalyst\n",
    "from catalyst.dl import SupervisedRunner\n",
    "from catalyst.dl.callbacks import (\n",
    "    AccuracyCallback,\n",
    "    CheckpointCallback,\n",
    "    InferCallback,\n",
    "    OptimizerCallback,\n",
    ")\n",
    "from catalyst.utils import prepare_cudnn, set_global_seed"
   ]
  },
  {
   "cell_type": "code",
   "execution_count": 32,
   "id": "928544a4",
   "metadata": {},
   "outputs": [
    {
     "data": {
      "text/plain": [
       "'1.10.2+cpu'"
      ]
     },
     "execution_count": 32,
     "metadata": {},
     "output_type": "execute_result"
    }
   ],
   "source": [
    "torch.__version__"
   ]
  },
  {
   "cell_type": "code",
   "execution_count": 33,
   "id": "fc3ea567",
   "metadata": {},
   "outputs": [
    {
     "data": {
      "text/plain": [
       "'4.16.2'"
      ]
     },
     "execution_count": 33,
     "metadata": {},
     "output_type": "execute_result"
    }
   ],
   "source": [
    "transformers.__version__"
   ]
  },
  {
   "cell_type": "code",
   "execution_count": 34,
   "id": "52c7b938",
   "metadata": {},
   "outputs": [
    {
     "data": {
      "text/plain": [
       "'20.08.2'"
      ]
     },
     "execution_count": 34,
     "metadata": {},
     "output_type": "execute_result"
    }
   ],
   "source": [
    "catalyst.__version__"
   ]
  },
  {
   "cell_type": "code",
   "execution_count": 39,
   "id": "face716b",
   "metadata": {},
   "outputs": [],
   "source": [
    "# specify criterion for the multi-class classification task, optimizer and scheduler\n",
    "criterion = torch.nn.CrossEntropyLoss()\n",
    "optimizer = torch.optim.Adam(\n",
    "    model.parameters(), lr=3e-5\n",
    ")\n",
    "scheduler = torch.optim.lr_scheduler.ReduceLROnPlateau(optimizer)"
   ]
  },
  {
   "cell_type": "code",
   "execution_count": 40,
   "id": "866e977a",
   "metadata": {},
   "outputs": [],
   "source": [
    "set_global_seed(17)\n",
    "prepare_cudnn(deterministic=True)"
   ]
  },
  {
   "cell_type": "code",
   "execution_count": 41,
   "id": "8f34c510",
   "metadata": {},
   "outputs": [
    {
     "name": "stdout",
     "output_type": "stream",
     "text": [
      "length of TRAIN set: 2846\n",
      "length of VALID set: 356\n",
      "length of TEST set: 356\n"
     ]
    }
   ],
   "source": [
    "SEQ_LENGTH = 32\n",
    "train_dataset = TextClassificationDataset(\n",
    "    texts=train['description'].values.tolist(),\n",
    "    labels=train['target'].values.tolist(),\n",
    "    max_seq_length=SEQ_LENGTH,\n",
    "    model_name=MODEL_NAME,\n",
    ")\n",
    "print('length of TRAIN set:', len(train_dataset))\n",
    "\n",
    "valid_dataset = TextClassificationDataset(\n",
    "    texts=valid['description'].values.tolist(),\n",
    "    labels=valid['target'].values.tolist(),\n",
    "    max_seq_length=SEQ_LENGTH,\n",
    "    model_name=MODEL_NAME,\n",
    ")\n",
    "print('length of VALID set:', len(valid_dataset))\n",
    "\n",
    "test_dataset = TextClassificationDataset(\n",
    "    texts=test['description'].values.tolist(),\n",
    "    max_seq_length=SEQ_LENGTH,\n",
    "    model_name=MODEL_NAME,\n",
    ")\n",
    "print('length of TEST set:', len(test_dataset))"
   ]
  },
  {
   "cell_type": "code",
   "execution_count": 42,
   "id": "a9ec1a91",
   "metadata": {},
   "outputs": [],
   "source": [
    "train_val_loaders = {\n",
    "    \"train\": DataLoader(\n",
    "        dataset=train_dataset,\n",
    "        batch_size=16,\n",
    "        shuffle=True,\n",
    "    ),\n",
    "    \"valid\": DataLoader(\n",
    "        dataset=valid_dataset,\n",
    "        batch_size=16,\n",
    "        shuffle=False,\n",
    "    ),\n",
    "}"
   ]
  },
  {
   "cell_type": "code",
   "execution_count": 43,
   "id": "9c672232",
   "metadata": {},
   "outputs": [],
   "source": [
    "test_loaders = {\n",
    "    \"test\": DataLoader(\n",
    "        dataset=test_dataset,\n",
    "        batch_size=16,\n",
    "        shuffle=True,\n",
    "    ),\n",
    "}"
   ]
  },
  {
   "cell_type": "code",
   "execution_count": 44,
   "id": "e673632a",
   "metadata": {},
   "outputs": [
    {
     "name": "stdout",
     "output_type": "stream",
     "text": [
      "\r\n",
      "1/1 * Epoch (train):   0% 0/178 [00:00<?, ?it/s]"
     ]
    },
    {
     "ename": "RuntimeError",
     "evalue": "view size is not compatible with input tensor's size and stride (at least one dimension spans across two contiguous subspaces). Use .reshape(...) instead.",
     "output_type": "error",
     "traceback": [
      "\u001b[1;31m---------------------------------------------------------------------------\u001b[0m",
      "\u001b[1;31mRuntimeError\u001b[0m                              Traceback (most recent call last)",
      "Input \u001b[1;32mIn [44]\u001b[0m, in \u001b[0;36m<module>\u001b[1;34m\u001b[0m\n\u001b[0;32m      1\u001b[0m runner \u001b[38;5;241m=\u001b[39m SupervisedRunner(input_key\u001b[38;5;241m=\u001b[39m(\u001b[38;5;124m\"\u001b[39m\u001b[38;5;124mfeatures\u001b[39m\u001b[38;5;124m\"\u001b[39m, \u001b[38;5;124m\"\u001b[39m\u001b[38;5;124mattention_mask\u001b[39m\u001b[38;5;124m\"\u001b[39m))\n\u001b[0;32m      3\u001b[0m \u001b[38;5;66;03m# finally, training the model with Catalyst\u001b[39;00m\n\u001b[1;32m----> 4\u001b[0m \u001b[43mrunner\u001b[49m\u001b[38;5;241;43m.\u001b[39;49m\u001b[43mtrain\u001b[49m\u001b[43m(\u001b[49m\n\u001b[0;32m      5\u001b[0m \u001b[43m    \u001b[49m\u001b[43mmodel\u001b[49m\u001b[38;5;241;43m=\u001b[39;49m\u001b[43mclf_model\u001b[49m\u001b[43m,\u001b[49m\n\u001b[0;32m      6\u001b[0m \u001b[43m    \u001b[49m\u001b[43mcriterion\u001b[49m\u001b[38;5;241;43m=\u001b[39;49m\u001b[43mcriterion\u001b[49m\u001b[43m,\u001b[49m\n\u001b[0;32m      7\u001b[0m \u001b[43m    \u001b[49m\u001b[43moptimizer\u001b[49m\u001b[38;5;241;43m=\u001b[39;49m\u001b[43moptimizer\u001b[49m\u001b[43m,\u001b[49m\n\u001b[0;32m      8\u001b[0m \u001b[43m    \u001b[49m\u001b[43mscheduler\u001b[49m\u001b[38;5;241;43m=\u001b[39;49m\u001b[43mscheduler\u001b[49m\u001b[43m,\u001b[49m\n\u001b[0;32m      9\u001b[0m \u001b[43m    \u001b[49m\u001b[43mloaders\u001b[49m\u001b[38;5;241;43m=\u001b[39;49m\u001b[43mtrain_val_loaders\u001b[49m\u001b[43m,\u001b[49m\n\u001b[0;32m     10\u001b[0m \u001b[43m    \u001b[49m\u001b[43mcallbacks\u001b[49m\u001b[38;5;241;43m=\u001b[39;49m\u001b[43m[\u001b[49m\n\u001b[0;32m     11\u001b[0m \u001b[43m        \u001b[49m\u001b[43mAccuracyCallback\u001b[49m\u001b[43m(\u001b[49m\u001b[43mnum_classes\u001b[49m\u001b[38;5;241;43m=\u001b[39;49m\u001b[38;5;241;43m10\u001b[39;49m\u001b[43m)\u001b[49m\u001b[43m,\u001b[49m\n\u001b[0;32m     12\u001b[0m \u001b[43m        \u001b[49m\u001b[43mOptimizerCallback\u001b[49m\u001b[43m(\u001b[49m\u001b[43maccumulation_steps\u001b[49m\u001b[38;5;241;43m=\u001b[39;49m\u001b[38;5;241;43m4\u001b[39;49m\u001b[43m)\u001b[49m\u001b[43m,\u001b[49m\n\u001b[0;32m     13\u001b[0m \u001b[43m    \u001b[49m\u001b[43m]\u001b[49m\u001b[43m,\u001b[49m\n\u001b[0;32m     14\u001b[0m \u001b[43m    \u001b[49m\u001b[43mlogdir\u001b[49m\u001b[38;5;241;43m=\u001b[39;49m\u001b[38;5;124;43m'\u001b[39;49m\u001b[38;5;124;43m../logdir/\u001b[39;49m\u001b[38;5;124;43m'\u001b[39;49m\u001b[43m,\u001b[49m\n\u001b[0;32m     15\u001b[0m \u001b[43m    \u001b[49m\u001b[43mnum_epochs\u001b[49m\u001b[38;5;241;43m=\u001b[39;49m\u001b[38;5;241;43m1\u001b[39;49m\u001b[43m,\u001b[49m\n\u001b[0;32m     16\u001b[0m \u001b[43m    \u001b[49m\u001b[43mverbose\u001b[49m\u001b[38;5;241;43m=\u001b[39;49m\u001b[38;5;28;43;01mTrue\u001b[39;49;00m\u001b[43m,\u001b[49m\n\u001b[0;32m     17\u001b[0m \u001b[43m)\u001b[49m\n",
      "File \u001b[1;32m~\\anaconda3\\envs\\law\\lib\\site-packages\\catalyst\\dl\\runner\\runner.py:163\u001b[0m, in \u001b[0;36mRunner.train\u001b[1;34m(self, model, criterion, optimizer, scheduler, datasets, loaders, callbacks, logdir, resume, num_epochs, valid_loader, main_metric, minimize_metric, verbose, stage_kwargs, checkpoint_data, fp16, distributed, check, overfit, timeit, load_best_on_end, initial_seed, state_kwargs)\u001b[0m\n\u001b[0;32m    139\u001b[0m experiment \u001b[38;5;241m=\u001b[39m \u001b[38;5;28mself\u001b[39m\u001b[38;5;241m.\u001b[39m_experiment_fn(\n\u001b[0;32m    140\u001b[0m     stage\u001b[38;5;241m=\u001b[39m\u001b[38;5;124m\"\u001b[39m\u001b[38;5;124mtrain\u001b[39m\u001b[38;5;124m\"\u001b[39m,\n\u001b[0;32m    141\u001b[0m     model\u001b[38;5;241m=\u001b[39mmodel,\n\u001b[1;32m   (...)\u001b[0m\n\u001b[0;32m    160\u001b[0m     initial_seed\u001b[38;5;241m=\u001b[39minitial_seed,\n\u001b[0;32m    161\u001b[0m )\n\u001b[0;32m    162\u001b[0m \u001b[38;5;28mself\u001b[39m\u001b[38;5;241m.\u001b[39mexperiment \u001b[38;5;241m=\u001b[39m experiment\n\u001b[1;32m--> 163\u001b[0m \u001b[43mutils\u001b[49m\u001b[38;5;241;43m.\u001b[39;49m\u001b[43mdistributed_cmd_run\u001b[49m\u001b[43m(\u001b[49m\u001b[38;5;28;43mself\u001b[39;49m\u001b[38;5;241;43m.\u001b[39;49m\u001b[43mrun_experiment\u001b[49m\u001b[43m,\u001b[49m\u001b[43m \u001b[49m\u001b[43mdistributed\u001b[49m\u001b[43m)\u001b[49m\n",
      "File \u001b[1;32m~\\anaconda3\\envs\\law\\lib\\site-packages\\catalyst\\utils\\scripts.py:132\u001b[0m, in \u001b[0;36mdistributed_cmd_run\u001b[1;34m(worker_fn, distributed, *args, **kwargs)\u001b[0m\n\u001b[0;32m    122\u001b[0m     warnings\u001b[38;5;241m.\u001b[39mwarn(\n\u001b[0;32m    123\u001b[0m         \u001b[38;5;124m\"\u001b[39m\u001b[38;5;124mLooks like you are trying to call distributed setup twice, \u001b[39m\u001b[38;5;124m\"\u001b[39m\n\u001b[0;32m    124\u001b[0m         \u001b[38;5;124m\"\u001b[39m\u001b[38;5;124mswitching to normal run for correct distributed training.\u001b[39m\u001b[38;5;124m\"\u001b[39m\n\u001b[0;32m    125\u001b[0m     )\n\u001b[0;32m    127\u001b[0m \u001b[38;5;28;01mif\u001b[39;00m (\n\u001b[0;32m    128\u001b[0m     \u001b[38;5;129;01mnot\u001b[39;00m distributed\n\u001b[0;32m    129\u001b[0m     \u001b[38;5;129;01mor\u001b[39;00m torch\u001b[38;5;241m.\u001b[39mdistributed\u001b[38;5;241m.\u001b[39mis_initialized()\n\u001b[0;32m    130\u001b[0m     \u001b[38;5;129;01mor\u001b[39;00m world_size \u001b[38;5;241m<\u001b[39m\u001b[38;5;241m=\u001b[39m \u001b[38;5;241m1\u001b[39m\n\u001b[0;32m    131\u001b[0m ):\n\u001b[1;32m--> 132\u001b[0m     worker_fn(\u001b[38;5;241m*\u001b[39margs, \u001b[38;5;241m*\u001b[39m\u001b[38;5;241m*\u001b[39mkwargs)\n\u001b[0;32m    133\u001b[0m \u001b[38;5;28;01melif\u001b[39;00m local_rank \u001b[38;5;129;01mis\u001b[39;00m \u001b[38;5;129;01mnot\u001b[39;00m \u001b[38;5;28;01mNone\u001b[39;00m:\n\u001b[0;32m    134\u001b[0m     torch\u001b[38;5;241m.\u001b[39mcuda\u001b[38;5;241m.\u001b[39mset_device(\u001b[38;5;28mint\u001b[39m(local_rank))\n",
      "File \u001b[1;32m~\\anaconda3\\envs\\law\\lib\\site-packages\\catalyst\\core\\runner.py:987\u001b[0m, in \u001b[0;36mIRunner.run_experiment\u001b[1;34m(self, experiment)\u001b[0m\n\u001b[0;32m    985\u001b[0m \u001b[38;5;28;01mif\u001b[39;00m _exception_handler_check(\u001b[38;5;28mgetattr\u001b[39m(\u001b[38;5;28mself\u001b[39m, \u001b[38;5;124m\"\u001b[39m\u001b[38;5;124mcallbacks\u001b[39m\u001b[38;5;124m\"\u001b[39m, \u001b[38;5;28;01mNone\u001b[39;00m)):\n\u001b[0;32m    986\u001b[0m     \u001b[38;5;28mself\u001b[39m\u001b[38;5;241m.\u001b[39mexception \u001b[38;5;241m=\u001b[39m ex\n\u001b[1;32m--> 987\u001b[0m     \u001b[38;5;28;43mself\u001b[39;49m\u001b[38;5;241;43m.\u001b[39;49m\u001b[43m_run_event\u001b[49m\u001b[43m(\u001b[49m\u001b[38;5;124;43m\"\u001b[39;49m\u001b[38;5;124;43mon_exception\u001b[39;49m\u001b[38;5;124;43m\"\u001b[39;49m\u001b[43m)\u001b[49m\n\u001b[0;32m    988\u001b[0m \u001b[38;5;28;01melse\u001b[39;00m:\n\u001b[0;32m    989\u001b[0m     \u001b[38;5;28;01mraise\u001b[39;00m ex\n",
      "File \u001b[1;32m~\\anaconda3\\envs\\law\\lib\\site-packages\\catalyst\\core\\runner.py:780\u001b[0m, in \u001b[0;36mIRunner._run_event\u001b[1;34m(self, event)\u001b[0m\n\u001b[0;32m    769\u001b[0m \u001b[38;5;124;03m\"\"\"Inner method to run specified event on Runners' callbacks.\u001b[39;00m\n\u001b[0;32m    770\u001b[0m \n\u001b[0;32m    771\u001b[0m \u001b[38;5;124;03mArgs:\u001b[39;00m\n\u001b[1;32m   (...)\u001b[0m\n\u001b[0;32m    777\u001b[0m \n\u001b[0;32m    778\u001b[0m \u001b[38;5;124;03m\"\"\"\u001b[39;00m\n\u001b[0;32m    779\u001b[0m \u001b[38;5;28;01mfor\u001b[39;00m callback \u001b[38;5;129;01min\u001b[39;00m \u001b[38;5;28mself\u001b[39m\u001b[38;5;241m.\u001b[39mcallbacks\u001b[38;5;241m.\u001b[39mvalues():\n\u001b[1;32m--> 780\u001b[0m     \u001b[38;5;28;43mgetattr\u001b[39;49m\u001b[43m(\u001b[49m\u001b[43mcallback\u001b[49m\u001b[43m,\u001b[49m\u001b[43m \u001b[49m\u001b[43mevent\u001b[49m\u001b[43m)\u001b[49m\u001b[43m(\u001b[49m\u001b[38;5;28;43mself\u001b[39;49m\u001b[43m)\u001b[49m\n",
      "File \u001b[1;32m~\\anaconda3\\envs\\law\\lib\\site-packages\\catalyst\\core\\callbacks\\exception.py:24\u001b[0m, in \u001b[0;36mExceptionCallback.on_exception\u001b[1;34m(self, runner)\u001b[0m\n\u001b[0;32m     21\u001b[0m     \u001b[38;5;28;01mreturn\u001b[39;00m\n\u001b[0;32m     23\u001b[0m \u001b[38;5;28;01mif\u001b[39;00m runner\u001b[38;5;241m.\u001b[39mneed_exception_reraise:\n\u001b[1;32m---> 24\u001b[0m     \u001b[38;5;28;01mraise\u001b[39;00m exception\n",
      "File \u001b[1;32m~\\anaconda3\\envs\\law\\lib\\site-packages\\catalyst\\core\\runner.py:975\u001b[0m, in \u001b[0;36mIRunner.run_experiment\u001b[1;34m(self, experiment)\u001b[0m\n\u001b[0;32m    973\u001b[0m \u001b[38;5;28;01mtry\u001b[39;00m:\n\u001b[0;32m    974\u001b[0m     \u001b[38;5;28;01mfor\u001b[39;00m stage \u001b[38;5;129;01min\u001b[39;00m \u001b[38;5;28mself\u001b[39m\u001b[38;5;241m.\u001b[39mexperiment\u001b[38;5;241m.\u001b[39mstages:\n\u001b[1;32m--> 975\u001b[0m         \u001b[38;5;28;43mself\u001b[39;49m\u001b[38;5;241;43m.\u001b[39;49m\u001b[43m_run_stage\u001b[49m\u001b[43m(\u001b[49m\u001b[43mstage\u001b[49m\u001b[43m)\u001b[49m\n\u001b[0;32m    976\u001b[0m \u001b[38;5;28;01mexcept\u001b[39;00m (\u001b[38;5;167;01mException\u001b[39;00m, \u001b[38;5;167;01mKeyboardInterrupt\u001b[39;00m) \u001b[38;5;28;01mas\u001b[39;00m ex:\n\u001b[0;32m    977\u001b[0m     \u001b[38;5;28;01mfrom\u001b[39;00m \u001b[38;5;21;01mcatalyst\u001b[39;00m\u001b[38;5;21;01m.\u001b[39;00m\u001b[38;5;21;01mcore\u001b[39;00m\u001b[38;5;21;01m.\u001b[39;00m\u001b[38;5;21;01mcallbacks\u001b[39;00m\u001b[38;5;21;01m.\u001b[39;00m\u001b[38;5;21;01mexception\u001b[39;00m \u001b[38;5;28;01mimport\u001b[39;00m ExceptionCallback\n",
      "File \u001b[1;32m~\\anaconda3\\envs\\law\\lib\\site-packages\\catalyst\\core\\runner.py:943\u001b[0m, in \u001b[0;36mIRunner._run_stage\u001b[1;34m(self, stage)\u001b[0m\n\u001b[0;32m    939\u001b[0m utils\u001b[38;5;241m.\u001b[39mset_global_seed(\n\u001b[0;32m    940\u001b[0m     \u001b[38;5;28mself\u001b[39m\u001b[38;5;241m.\u001b[39mexperiment\u001b[38;5;241m.\u001b[39minitial_seed \u001b[38;5;241m+\u001b[39m \u001b[38;5;28mself\u001b[39m\u001b[38;5;241m.\u001b[39mglobal_epoch \u001b[38;5;241m+\u001b[39m \u001b[38;5;241m1\u001b[39m\n\u001b[0;32m    941\u001b[0m )\n\u001b[0;32m    942\u001b[0m \u001b[38;5;28mself\u001b[39m\u001b[38;5;241m.\u001b[39m_run_event(\u001b[38;5;124m\"\u001b[39m\u001b[38;5;124mon_epoch_start\u001b[39m\u001b[38;5;124m\"\u001b[39m)\n\u001b[1;32m--> 943\u001b[0m \u001b[38;5;28;43mself\u001b[39;49m\u001b[38;5;241;43m.\u001b[39;49m\u001b[43m_run_epoch\u001b[49m\u001b[43m(\u001b[49m\u001b[43mstage\u001b[49m\u001b[38;5;241;43m=\u001b[39;49m\u001b[43mstage\u001b[49m\u001b[43m,\u001b[49m\u001b[43m \u001b[49m\u001b[43mepoch\u001b[49m\u001b[38;5;241;43m=\u001b[39;49m\u001b[38;5;28;43mself\u001b[39;49m\u001b[38;5;241;43m.\u001b[39;49m\u001b[43mepoch\u001b[49m\u001b[43m)\u001b[49m\n\u001b[0;32m    944\u001b[0m \u001b[38;5;28mself\u001b[39m\u001b[38;5;241m.\u001b[39m_run_event(\u001b[38;5;124m\"\u001b[39m\u001b[38;5;124mon_epoch_end\u001b[39m\u001b[38;5;124m\"\u001b[39m)\n\u001b[0;32m    946\u001b[0m \u001b[38;5;28;01mif\u001b[39;00m \u001b[38;5;28mself\u001b[39m\u001b[38;5;241m.\u001b[39mneed_early_stop:\n",
      "File \u001b[1;32m~\\anaconda3\\envs\\law\\lib\\site-packages\\catalyst\\core\\runner.py:922\u001b[0m, in \u001b[0;36mIRunner._run_epoch\u001b[1;34m(self, stage, epoch)\u001b[0m\n\u001b[0;32m    920\u001b[0m \u001b[38;5;28mself\u001b[39m\u001b[38;5;241m.\u001b[39m_run_event(\u001b[38;5;124m\"\u001b[39m\u001b[38;5;124mon_loader_start\u001b[39m\u001b[38;5;124m\"\u001b[39m)\n\u001b[0;32m    921\u001b[0m \u001b[38;5;28;01mwith\u001b[39;00m torch\u001b[38;5;241m.\u001b[39mset_grad_enabled(\u001b[38;5;28mself\u001b[39m\u001b[38;5;241m.\u001b[39mis_train_loader):\n\u001b[1;32m--> 922\u001b[0m     \u001b[38;5;28;43mself\u001b[39;49m\u001b[38;5;241;43m.\u001b[39;49m\u001b[43m_run_loader\u001b[49m\u001b[43m(\u001b[49m\u001b[43mloader\u001b[49m\u001b[43m)\u001b[49m\n\u001b[0;32m    923\u001b[0m \u001b[38;5;28mself\u001b[39m\u001b[38;5;241m.\u001b[39m_run_event(\u001b[38;5;124m\"\u001b[39m\u001b[38;5;124mon_loader_end\u001b[39m\u001b[38;5;124m\"\u001b[39m)\n",
      "File \u001b[1;32m~\\anaconda3\\envs\\law\\lib\\site-packages\\catalyst\\core\\runner.py:857\u001b[0m, in \u001b[0;36mIRunner._run_loader\u001b[1;34m(self, loader)\u001b[0m\n\u001b[0;32m    855\u001b[0m \u001b[38;5;28mself\u001b[39m\u001b[38;5;241m.\u001b[39mglobal_batch_step \u001b[38;5;241m+\u001b[39m\u001b[38;5;241m=\u001b[39m \u001b[38;5;241m1\u001b[39m\n\u001b[0;32m    856\u001b[0m \u001b[38;5;28mself\u001b[39m\u001b[38;5;241m.\u001b[39mloader_batch_step \u001b[38;5;241m=\u001b[39m i \u001b[38;5;241m+\u001b[39m \u001b[38;5;241m1\u001b[39m\n\u001b[1;32m--> 857\u001b[0m \u001b[38;5;28;43mself\u001b[39;49m\u001b[38;5;241;43m.\u001b[39;49m\u001b[43m_run_batch\u001b[49m\u001b[43m(\u001b[49m\u001b[43mbatch\u001b[49m\u001b[43m)\u001b[49m\n\u001b[0;32m    858\u001b[0m \u001b[38;5;28;01mif\u001b[39;00m \u001b[38;5;28mself\u001b[39m\u001b[38;5;241m.\u001b[39mneed_early_stop:\n\u001b[0;32m    859\u001b[0m     \u001b[38;5;28mself\u001b[39m\u001b[38;5;241m.\u001b[39mneed_early_stop \u001b[38;5;241m=\u001b[39m \u001b[38;5;28;01mFalse\u001b[39;00m\n",
      "File \u001b[1;32m~\\anaconda3\\envs\\law\\lib\\site-packages\\catalyst\\core\\runner.py:832\u001b[0m, in \u001b[0;36mIRunner._run_batch\u001b[1;34m(self, batch)\u001b[0m\n\u001b[0;32m    830\u001b[0m \u001b[38;5;28mself\u001b[39m\u001b[38;5;241m.\u001b[39m_run_event(\u001b[38;5;124m\"\u001b[39m\u001b[38;5;124mon_batch_start\u001b[39m\u001b[38;5;124m\"\u001b[39m)\n\u001b[0;32m    831\u001b[0m \u001b[38;5;28mself\u001b[39m\u001b[38;5;241m.\u001b[39m_handle_batch(batch\u001b[38;5;241m=\u001b[39mbatch)\n\u001b[1;32m--> 832\u001b[0m \u001b[38;5;28;43mself\u001b[39;49m\u001b[38;5;241;43m.\u001b[39;49m\u001b[43m_run_event\u001b[49m\u001b[43m(\u001b[49m\u001b[38;5;124;43m\"\u001b[39;49m\u001b[38;5;124;43mon_batch_end\u001b[39;49m\u001b[38;5;124;43m\"\u001b[39;49m\u001b[43m)\u001b[49m\n",
      "File \u001b[1;32m~\\anaconda3\\envs\\law\\lib\\site-packages\\catalyst\\core\\runner.py:780\u001b[0m, in \u001b[0;36mIRunner._run_event\u001b[1;34m(self, event)\u001b[0m\n\u001b[0;32m    769\u001b[0m \u001b[38;5;124;03m\"\"\"Inner method to run specified event on Runners' callbacks.\u001b[39;00m\n\u001b[0;32m    770\u001b[0m \n\u001b[0;32m    771\u001b[0m \u001b[38;5;124;03mArgs:\u001b[39;00m\n\u001b[1;32m   (...)\u001b[0m\n\u001b[0;32m    777\u001b[0m \n\u001b[0;32m    778\u001b[0m \u001b[38;5;124;03m\"\"\"\u001b[39;00m\n\u001b[0;32m    779\u001b[0m \u001b[38;5;28;01mfor\u001b[39;00m callback \u001b[38;5;129;01min\u001b[39;00m \u001b[38;5;28mself\u001b[39m\u001b[38;5;241m.\u001b[39mcallbacks\u001b[38;5;241m.\u001b[39mvalues():\n\u001b[1;32m--> 780\u001b[0m     \u001b[38;5;28;43mgetattr\u001b[39;49m\u001b[43m(\u001b[49m\u001b[43mcallback\u001b[49m\u001b[43m,\u001b[49m\u001b[43m \u001b[49m\u001b[43mevent\u001b[49m\u001b[43m)\u001b[49m\u001b[43m(\u001b[49m\u001b[38;5;28;43mself\u001b[39;49m\u001b[43m)\u001b[49m\n",
      "File \u001b[1;32m~\\anaconda3\\envs\\law\\lib\\site-packages\\catalyst\\core\\callbacks\\metrics.py:109\u001b[0m, in \u001b[0;36mIBatchMetricCallback.on_batch_end\u001b[1;34m(self, runner)\u001b[0m\n\u001b[0;32m    107\u001b[0m \u001b[38;5;28;01mdef\u001b[39;00m \u001b[38;5;21mon_batch_end\u001b[39m(\u001b[38;5;28mself\u001b[39m, runner: IRunner) \u001b[38;5;241m-\u001b[39m\u001b[38;5;241m>\u001b[39m \u001b[38;5;28;01mNone\u001b[39;00m:\n\u001b[0;32m    108\u001b[0m     \u001b[38;5;124;03m\"\"\"Computes metrics and add them to batch metrics.\"\"\"\u001b[39;00m\n\u001b[1;32m--> 109\u001b[0m     metrics \u001b[38;5;241m=\u001b[39m \u001b[38;5;28;43mself\u001b[39;49m\u001b[38;5;241;43m.\u001b[39;49m\u001b[43m_compute_metric\u001b[49m\u001b[43m(\u001b[49m\u001b[43mrunner\u001b[49m\u001b[38;5;241;43m.\u001b[39;49m\u001b[43moutput\u001b[49m\u001b[43m,\u001b[49m\u001b[43m \u001b[49m\u001b[43mrunner\u001b[49m\u001b[38;5;241;43m.\u001b[39;49m\u001b[43minput\u001b[49m\u001b[43m)\u001b[49m\n\u001b[0;32m    110\u001b[0m     metrics \u001b[38;5;241m=\u001b[39m \u001b[38;5;28mself\u001b[39m\u001b[38;5;241m.\u001b[39m_process_computed_metric(metrics)\n\u001b[0;32m    111\u001b[0m     runner\u001b[38;5;241m.\u001b[39mbatch_metrics\u001b[38;5;241m.\u001b[39mupdate(\u001b[38;5;241m*\u001b[39m\u001b[38;5;241m*\u001b[39mmetrics)\n",
      "File \u001b[1;32m~\\anaconda3\\envs\\law\\lib\\site-packages\\catalyst\\core\\callbacks\\metrics.py:79\u001b[0m, in \u001b[0;36mIMetricCallback._compute_metric_value\u001b[1;34m(self, output, input)\u001b[0m\n\u001b[0;32m     76\u001b[0m output \u001b[38;5;241m=\u001b[39m \u001b[38;5;28mself\u001b[39m\u001b[38;5;241m.\u001b[39m_get_output(output, \u001b[38;5;28mself\u001b[39m\u001b[38;5;241m.\u001b[39moutput_key)\n\u001b[0;32m     77\u001b[0m \u001b[38;5;28minput\u001b[39m \u001b[38;5;241m=\u001b[39m \u001b[38;5;28mself\u001b[39m\u001b[38;5;241m.\u001b[39m_get_input(\u001b[38;5;28minput\u001b[39m, \u001b[38;5;28mself\u001b[39m\u001b[38;5;241m.\u001b[39minput_key)\n\u001b[1;32m---> 79\u001b[0m metric \u001b[38;5;241m=\u001b[39m \u001b[38;5;28mself\u001b[39m\u001b[38;5;241m.\u001b[39mmetric_fn(output, \u001b[38;5;28minput\u001b[39m, \u001b[38;5;241m*\u001b[39m\u001b[38;5;241m*\u001b[39m\u001b[38;5;28mself\u001b[39m\u001b[38;5;241m.\u001b[39mmetrics_kwargs)\n\u001b[0;32m     80\u001b[0m \u001b[38;5;28;01mreturn\u001b[39;00m metric\n",
      "File \u001b[1;32m~\\anaconda3\\envs\\law\\lib\\site-packages\\catalyst\\utils\\metrics\\functional.py:161\u001b[0m, in \u001b[0;36mwrap_topk_metric2dict.<locals>.topk_metric_with_dict_output\u001b[1;34m(*args, **kwargs)\u001b[0m\n\u001b[0;32m    160\u001b[0m \u001b[38;5;28;01mdef\u001b[39;00m \u001b[38;5;21mtopk_metric_with_dict_output\u001b[39m(\u001b[38;5;241m*\u001b[39margs, \u001b[38;5;241m*\u001b[39m\u001b[38;5;241m*\u001b[39mkwargs):\n\u001b[1;32m--> 161\u001b[0m     output: Sequence \u001b[38;5;241m=\u001b[39m metric_fn(\u001b[38;5;241m*\u001b[39margs, \u001b[38;5;241m*\u001b[39m\u001b[38;5;241m*\u001b[39mkwargs)\n\u001b[0;32m    163\u001b[0m     \u001b[38;5;28;01mif\u001b[39;00m \u001b[38;5;28misinstance\u001b[39m(output[\u001b[38;5;241m0\u001b[39m], (\u001b[38;5;28mint\u001b[39m, \u001b[38;5;28mfloat\u001b[39m, torch\u001b[38;5;241m.\u001b[39mTensor)):\n\u001b[0;32m    164\u001b[0m         output \u001b[38;5;241m=\u001b[39m {\n\u001b[0;32m    165\u001b[0m             \u001b[38;5;124mf\u001b[39m\u001b[38;5;124m\"\u001b[39m\u001b[38;5;132;01m{\u001b[39;00mtopk_key\u001b[38;5;132;01m:\u001b[39;00m\u001b[38;5;124m02\u001b[39m\u001b[38;5;132;01m}\u001b[39;00m\u001b[38;5;124m\"\u001b[39m: metric_value\n\u001b[0;32m    166\u001b[0m             \u001b[38;5;28;01mfor\u001b[39;00m topk_key, metric_value \u001b[38;5;129;01min\u001b[39;00m \u001b[38;5;28mzip\u001b[39m(topk_args, output)\n\u001b[0;32m    167\u001b[0m         }\n",
      "File \u001b[1;32m~\\anaconda3\\envs\\law\\lib\\site-packages\\catalyst\\utils\\metrics\\accuracy.py:53\u001b[0m, in \u001b[0;36maccuracy\u001b[1;34m(outputs, targets, topk, activation)\u001b[0m\n\u001b[0;32m     51\u001b[0m output \u001b[38;5;241m=\u001b[39m []\n\u001b[0;32m     52\u001b[0m \u001b[38;5;28;01mfor\u001b[39;00m k \u001b[38;5;129;01min\u001b[39;00m topk:\n\u001b[1;32m---> 53\u001b[0m     correct_k \u001b[38;5;241m=\u001b[39m \u001b[43mcorrect\u001b[49m\u001b[43m[\u001b[49m\u001b[43m:\u001b[49m\u001b[43mk\u001b[49m\u001b[43m]\u001b[49m\u001b[38;5;241;43m.\u001b[39;49m\u001b[43mview\u001b[49m\u001b[43m(\u001b[49m\u001b[38;5;241;43m-\u001b[39;49m\u001b[38;5;241;43m1\u001b[39;49m\u001b[43m)\u001b[49m\u001b[38;5;241m.\u001b[39mfloat()\u001b[38;5;241m.\u001b[39msum(\u001b[38;5;241m0\u001b[39m, keepdim\u001b[38;5;241m=\u001b[39m\u001b[38;5;28;01mTrue\u001b[39;00m)\n\u001b[0;32m     54\u001b[0m     output\u001b[38;5;241m.\u001b[39mappend(correct_k\u001b[38;5;241m.\u001b[39mmul_(\u001b[38;5;241m1.0\u001b[39m \u001b[38;5;241m/\u001b[39m batch_size))\n\u001b[0;32m     55\u001b[0m \u001b[38;5;28;01mreturn\u001b[39;00m output\n",
      "\u001b[1;31mRuntimeError\u001b[0m: view size is not compatible with input tensor's size and stride (at least one dimension spans across two contiguous subspaces). Use .reshape(...) instead."
     ]
    }
   ],
   "source": [
    "runner = SupervisedRunner(input_key=(\"features\", \"attention_mask\"))\n",
    "\n",
    "# finally, training the model with Catalyst\n",
    "runner.train(\n",
    "    model=clf_model,\n",
    "    criterion=criterion,\n",
    "    optimizer=optimizer,\n",
    "    scheduler=scheduler,\n",
    "    loaders=train_val_loaders,\n",
    "    callbacks=[\n",
    "        AccuracyCallback(num_classes=10),\n",
    "        OptimizerCallback(accumulation_steps=4),\n",
    "    ],\n",
    "    logdir='../logdir/',\n",
    "    num_epochs=1,\n",
    "    verbose=True,\n",
    ")"
   ]
  },
  {
   "cell_type": "code",
   "execution_count": null,
   "id": "c4e8dbda",
   "metadata": {},
   "outputs": [],
   "source": []
  },
  {
   "cell_type": "code",
   "execution_count": null,
   "id": "dccd81bc",
   "metadata": {},
   "outputs": [],
   "source": []
  },
  {
   "cell_type": "code",
   "execution_count": null,
   "id": "ba5a14af",
   "metadata": {},
   "outputs": [],
   "source": []
  },
  {
   "cell_type": "code",
   "execution_count": null,
   "id": "9ae4c965",
   "metadata": {},
   "outputs": [],
   "source": []
  },
  {
   "cell_type": "code",
   "execution_count": null,
   "id": "20f0a26c",
   "metadata": {},
   "outputs": [],
   "source": []
  }
 ],
 "metadata": {
  "kernelspec": {
   "display_name": "Python 3 (ipykernel)",
   "language": "python",
   "name": "python3"
  },
  "language_info": {
   "codemirror_mode": {
    "name": "ipython",
    "version": 3
   },
   "file_extension": ".py",
   "mimetype": "text/x-python",
   "name": "python",
   "nbconvert_exporter": "python",
   "pygments_lexer": "ipython3",
   "version": "3.9.7"
  }
 },
 "nbformat": 4,
 "nbformat_minor": 5
}
