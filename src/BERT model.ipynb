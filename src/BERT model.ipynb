{
 "cells": [
  {
   "cell_type": "code",
   "execution_count": 1,
   "id": "6f906f9e",
   "metadata": {},
   "outputs": [],
   "source": [
    "import logging\n",
    "from pathlib import Path\n",
    "from typing import List, Mapping, Tuple\n",
    "\n",
    "import pandas as pd\n",
    "import torch as nn\n",
    "import numpy as np\n",
    "from torch.utils.data import DataLoader, Dataset\n",
    "from transformers import AutoTokenizer, AutoConfig, AutoModel\n",
    "from catalyst.utils import set_global_seed\n",
    "from data import TextClassificationDataset\n",
    "#sklearn -> train_test_split \n",
    "from sklearn.model_selection import train_test_split"
   ]
  },
  {
   "cell_type": "code",
   "execution_count": 2,
   "id": "89f43590",
   "metadata": {},
   "outputs": [],
   "source": [
    "MODEL_NAME = 'distilbert-base-uncased'"
   ]
  },
  {
   "cell_type": "code",
   "execution_count": 3,
   "id": "6db15861",
   "metadata": {
    "scrolled": true
   },
   "outputs": [],
   "source": [
    "tokenizer = AutoTokenizer.from_pretrained(MODEL_NAME)"
   ]
  },
  {
   "cell_type": "code",
   "execution_count": 4,
   "id": "1496e49b",
   "metadata": {
    "scrolled": true
   },
   "outputs": [
    {
     "data": {
      "text/plain": [
       "PreTrainedTokenizerFast(name_or_path='distilbert-base-uncased', vocab_size=30522, model_max_len=512, is_fast=True, padding_side='right', truncation_side='right', special_tokens={'unk_token': '[UNK]', 'sep_token': '[SEP]', 'pad_token': '[PAD]', 'cls_token': '[CLS]', 'mask_token': '[MASK]'})"
      ]
     },
     "execution_count": 4,
     "metadata": {},
     "output_type": "execute_result"
    }
   ],
   "source": [
    "tokenizer"
   ]
  },
  {
   "cell_type": "code",
   "execution_count": 5,
   "id": "3c12195c",
   "metadata": {},
   "outputs": [],
   "source": [
    "input_text = 'MOTION for Protective Order Re HIPAA by Defendants Marvin Powers'"
   ]
  },
  {
   "cell_type": "code",
   "execution_count": 6,
   "id": "90690882",
   "metadata": {},
   "outputs": [],
   "source": [
    "output_dict = tokenizer.encode_plus(\n",
    "    input_text,\n",
    "    add_special_tokens=True, #adding special tokens like MASK, CLS, PAD\n",
    "    padding=\"max_length\", #will take a text and enlarge it to length of 16\n",
    "    max_length=16,\n",
    "    return_tensors=\"pt\",\n",
    "    truncation=True,#long texts will be cut to 16 words or technically wordpiece tokens \n",
    "    return_attention_mask=True,\n",
    ")"
   ]
  },
  {
   "cell_type": "code",
   "execution_count": 7,
   "id": "41b477b2",
   "metadata": {
    "scrolled": true
   },
   "outputs": [
    {
     "data": {
      "text/plain": [
       "{'input_ids': tensor([[  101,  4367,  2005,  9474,  2344,  2128,  5099, 11057,  2011, 16362,\n",
       "         13748,  4204,   102,     0,     0,     0]]), 'attention_mask': tensor([[1, 1, 1, 1, 1, 1, 1, 1, 1, 1, 1, 1, 1, 0, 0, 0]])}"
      ]
     },
     "execution_count": 7,
     "metadata": {},
     "output_type": "execute_result"
    }
   ],
   "source": [
    "output_dict\n",
    "#input_ids are our words encoded into numbers and #attention mask is just where 1's are our words and the 0's are padding "
   ]
  },
  {
   "cell_type": "code",
   "execution_count": 8,
   "id": "05f73bb7",
   "metadata": {},
   "outputs": [],
   "source": [
    "voc = tokenizer.get_vocab()"
   ]
  },
  {
   "cell_type": "code",
   "execution_count": 9,
   "id": "ede9c9bc",
   "metadata": {},
   "outputs": [
    {
     "data": {
      "text/plain": [
       "10930"
      ]
     },
     "execution_count": 9,
     "metadata": {},
     "output_type": "execute_result"
    }
   ],
   "source": [
    "voc.get('yo')"
   ]
  },
  {
   "cell_type": "code",
   "execution_count": 10,
   "id": "8fbb2cf0",
   "metadata": {},
   "outputs": [
    {
     "data": {
      "text/plain": [
       "30522"
      ]
     },
     "execution_count": 10,
     "metadata": {},
     "output_type": "execute_result"
    }
   ],
   "source": [
    "len(voc)"
   ]
  },
  {
   "cell_type": "code",
   "execution_count": 11,
   "id": "d41e4afe",
   "metadata": {},
   "outputs": [],
   "source": [
    "inv_vocab = {v:k for (k, v) in voc.items()}"
   ]
  },
  {
   "cell_type": "code",
   "execution_count": 12,
   "id": "37f0f183",
   "metadata": {},
   "outputs": [
    {
     "data": {
      "text/plain": [
       "['[CLS]',\n",
       " 'motion',\n",
       " 'for',\n",
       " 'protective',\n",
       " 'order',\n",
       " 're',\n",
       " 'hip',\n",
       " '##aa',\n",
       " 'by',\n",
       " 'defendants',\n",
       " 'marvin',\n",
       " 'powers',\n",
       " '[SEP]',\n",
       " '[PAD]',\n",
       " '[PAD]',\n",
       " '[PAD]']"
      ]
     },
     "execution_count": 12,
     "metadata": {},
     "output_type": "execute_result"
    }
   ],
   "source": [
    "[inv_vocab[i] for i in output_dict['input_ids'].tolist()[0]] "
   ]
  },
  {
   "cell_type": "markdown",
   "id": "9ee188e2",
   "metadata": {},
   "source": [
    "## Statistics for DataSet and Data Preparation\n",
    "Kaggle Notebook example\n",
    "https://www.kaggle.com/kashnitsky/distillbert-catalyst-amazon-product-reviews"
   ]
  },
  {
   "cell_type": "code",
   "execution_count": 2,
   "id": "26a14ee1",
   "metadata": {
    "scrolled": true
   },
   "outputs": [
    {
     "data": {
      "text/html": [
       "<div>\n",
       "<style scoped>\n",
       "    .dataframe tbody tr th:only-of-type {\n",
       "        vertical-align: middle;\n",
       "    }\n",
       "\n",
       "    .dataframe tbody tr th {\n",
       "        vertical-align: top;\n",
       "    }\n",
       "\n",
       "    .dataframe thead th {\n",
       "        text-align: right;\n",
       "    }\n",
       "</style>\n",
       "<table border=\"1\" class=\"dataframe\">\n",
       "  <thead>\n",
       "    <tr style=\"text-align: right;\">\n",
       "      <th></th>\n",
       "      <th>legacyid</th>\n",
       "      <th>date</th>\n",
       "      <th>number</th>\n",
       "      <th>description</th>\n",
       "    </tr>\n",
       "  </thead>\n",
       "  <tbody>\n",
       "    <tr>\n",
       "      <th>0</th>\n",
       "      <td>IL-CDCT1:15CV01001</td>\n",
       "      <td>03/10/2015</td>\n",
       "      <td>4.0</td>\n",
       "      <td>NOTICE of Appearance of Attorney by Joseph S T...</td>\n",
       "    </tr>\n",
       "    <tr>\n",
       "      <th>1</th>\n",
       "      <td>IL-CDCT1:15CV01001</td>\n",
       "      <td>04/23/2015</td>\n",
       "      <td>9.0</td>\n",
       "      <td>NOTICE of Appearance of Attorney by Christophe...</td>\n",
       "    </tr>\n",
       "    <tr>\n",
       "      <th>2</th>\n",
       "      <td>IL-CDCT1:15CV01001</td>\n",
       "      <td>01/04/2016</td>\n",
       "      <td>11.0</td>\n",
       "      <td>Joint MOTION for Extension of Time to Complete...</td>\n",
       "    </tr>\n",
       "    <tr>\n",
       "      <th>3</th>\n",
       "      <td>IL-CDCT1:15CV01001</td>\n",
       "      <td>01/11/2016</td>\n",
       "      <td>NaN</td>\n",
       "      <td>TEXT ORDER granting  &lt;gil&gt;11&lt;/gil&gt;  Motion for...</td>\n",
       "    </tr>\n",
       "    <tr>\n",
       "      <th>4</th>\n",
       "      <td>IL-CDCT1:15CV01001</td>\n",
       "      <td>04/22/2016</td>\n",
       "      <td>NaN</td>\n",
       "      <td>ORAL MOTION by Attorney Busey for continuance ...</td>\n",
       "    </tr>\n",
       "  </tbody>\n",
       "</table>\n",
       "</div>"
      ],
      "text/plain": [
       "             legacyid        date  number  \\\n",
       "0  IL-CDCT1:15CV01001  03/10/2015     4.0   \n",
       "1  IL-CDCT1:15CV01001  04/23/2015     9.0   \n",
       "2  IL-CDCT1:15CV01001  01/04/2016    11.0   \n",
       "3  IL-CDCT1:15CV01001  01/11/2016     NaN   \n",
       "4  IL-CDCT1:15CV01001  04/22/2016     NaN   \n",
       "\n",
       "                                         description  \n",
       "0  NOTICE of Appearance of Attorney by Joseph S T...  \n",
       "1  NOTICE of Appearance of Attorney by Christophe...  \n",
       "2  Joint MOTION for Extension of Time to Complete...  \n",
       "3  TEXT ORDER granting  <gil>11</gil>  Motion for...  \n",
       "4  ORAL MOTION by Attorney Busey for continuance ...  "
      ]
     },
     "execution_count": 2,
     "metadata": {},
     "output_type": "execute_result"
    }
   ],
   "source": [
    "train_df = pd.read_csv('../data/motions_laws/nwu_docket_entries.csv')\n",
    "train_df.head()"
   ]
  },
  {
   "cell_type": "code",
   "execution_count": 14,
   "id": "046dc0fa",
   "metadata": {},
   "outputs": [
    {
     "data": {
      "text/html": [
       "<div>\n",
       "<style scoped>\n",
       "    .dataframe tbody tr th:only-of-type {\n",
       "        vertical-align: middle;\n",
       "    }\n",
       "\n",
       "    .dataframe tbody tr th {\n",
       "        vertical-align: top;\n",
       "    }\n",
       "\n",
       "    .dataframe thead th {\n",
       "        text-align: right;\n",
       "    }\n",
       "</style>\n",
       "<table border=\"1\" class=\"dataframe\">\n",
       "  <thead>\n",
       "    <tr style=\"text-align: right;\">\n",
       "      <th></th>\n",
       "      <th>legacyid</th>\n",
       "      <th>date</th>\n",
       "      <th>number</th>\n",
       "      <th>description</th>\n",
       "    </tr>\n",
       "  </thead>\n",
       "  <tbody>\n",
       "    <tr>\n",
       "      <th>0</th>\n",
       "      <td>IL-CDCT1:15CV01001</td>\n",
       "      <td>03/10/2015</td>\n",
       "      <td>4.0</td>\n",
       "      <td>NOTICE of Appearance of Attorney by Joseph S T...</td>\n",
       "    </tr>\n",
       "    <tr>\n",
       "      <th>1</th>\n",
       "      <td>IL-CDCT1:15CV01001</td>\n",
       "      <td>04/23/2015</td>\n",
       "      <td>9.0</td>\n",
       "      <td>NOTICE of Appearance of Attorney by Christophe...</td>\n",
       "    </tr>\n",
       "    <tr>\n",
       "      <th>2</th>\n",
       "      <td>IL-CDCT1:15CV01001</td>\n",
       "      <td>01/04/2016</td>\n",
       "      <td>11.0</td>\n",
       "      <td>Joint MOTION for Extension of Time to Complete...</td>\n",
       "    </tr>\n",
       "    <tr>\n",
       "      <th>3</th>\n",
       "      <td>IL-CDCT1:15CV01001</td>\n",
       "      <td>01/11/2016</td>\n",
       "      <td>NaN</td>\n",
       "      <td>TEXT ORDER granting  &lt;gil&gt;11&lt;/gil&gt;  Motion for...</td>\n",
       "    </tr>\n",
       "    <tr>\n",
       "      <th>4</th>\n",
       "      <td>IL-CDCT1:15CV01001</td>\n",
       "      <td>04/22/2016</td>\n",
       "      <td>NaN</td>\n",
       "      <td>ORAL MOTION by Attorney Busey for continuance ...</td>\n",
       "    </tr>\n",
       "    <tr>\n",
       "      <th>...</th>\n",
       "      <td>...</td>\n",
       "      <td>...</td>\n",
       "      <td>...</td>\n",
       "      <td>...</td>\n",
       "    </tr>\n",
       "    <tr>\n",
       "      <th>637599</th>\n",
       "      <td>WI-WDCT3:19CV01066</td>\n",
       "      <td>01/08/2020</td>\n",
       "      <td>3.0</td>\n",
       "      <td>Motion to Admit Bradley Bodiford Pro Hac Vice....</td>\n",
       "    </tr>\n",
       "    <tr>\n",
       "      <th>637600</th>\n",
       "      <td>WI-WDCT3:19CV01066</td>\n",
       "      <td>01/08/2020</td>\n",
       "      <td>4.0</td>\n",
       "      <td>** TEXT ONLY ORDER ** ORDER granting  &lt;gil&gt;3&lt;/...</td>\n",
       "    </tr>\n",
       "    <tr>\n",
       "      <th>637601</th>\n",
       "      <td>WI-WDCT3:19CV01066</td>\n",
       "      <td>01/28/2020</td>\n",
       "      <td>7.0</td>\n",
       "      <td>Motion for Extension of Time by Plaintiff Step...</td>\n",
       "    </tr>\n",
       "    <tr>\n",
       "      <th>637602</th>\n",
       "      <td>WI-WDCT3:19CV01066</td>\n",
       "      <td>01/31/2020</td>\n",
       "      <td>8.0</td>\n",
       "      <td>ORDER denying as premature  &lt;gil&gt;7&lt;/gil&gt;  Moti...</td>\n",
       "    </tr>\n",
       "    <tr>\n",
       "      <th>637603</th>\n",
       "      <td>WI-WDCT3:19CV01066</td>\n",
       "      <td>02/24/2020</td>\n",
       "      <td>15.0</td>\n",
       "      <td>Motion to Admit Gwyn Williams Pro Hac Vice. ( ...</td>\n",
       "    </tr>\n",
       "  </tbody>\n",
       "</table>\n",
       "<p>245626 rows × 4 columns</p>\n",
       "</div>"
      ],
      "text/plain": [
       "                  legacyid        date  number  \\\n",
       "0       IL-CDCT1:15CV01001  03/10/2015     4.0   \n",
       "1       IL-CDCT1:15CV01001  04/23/2015     9.0   \n",
       "2       IL-CDCT1:15CV01001  01/04/2016    11.0   \n",
       "3       IL-CDCT1:15CV01001  01/11/2016     NaN   \n",
       "4       IL-CDCT1:15CV01001  04/22/2016     NaN   \n",
       "...                    ...         ...     ...   \n",
       "637599  WI-WDCT3:19CV01066  01/08/2020     3.0   \n",
       "637600  WI-WDCT3:19CV01066  01/08/2020     4.0   \n",
       "637601  WI-WDCT3:19CV01066  01/28/2020     7.0   \n",
       "637602  WI-WDCT3:19CV01066  01/31/2020     8.0   \n",
       "637603  WI-WDCT3:19CV01066  02/24/2020    15.0   \n",
       "\n",
       "                                              description  \n",
       "0       NOTICE of Appearance of Attorney by Joseph S T...  \n",
       "1       NOTICE of Appearance of Attorney by Christophe...  \n",
       "2       Joint MOTION for Extension of Time to Complete...  \n",
       "3       TEXT ORDER granting  <gil>11</gil>  Motion for...  \n",
       "4       ORAL MOTION by Attorney Busey for continuance ...  \n",
       "...                                                   ...  \n",
       "637599  Motion to Admit Bradley Bodiford Pro Hac Vice....  \n",
       "637600  ** TEXT ONLY ORDER ** ORDER granting  <gil>3</...  \n",
       "637601  Motion for Extension of Time by Plaintiff Step...  \n",
       "637602  ORDER denying as premature  <gil>7</gil>  Moti...  \n",
       "637603  Motion to Admit Gwyn Williams Pro Hac Vice. ( ...  \n",
       "\n",
       "[245626 rows x 4 columns]"
      ]
     },
     "execution_count": 14,
     "metadata": {},
     "output_type": "execute_result"
    }
   ],
   "source": [
    "df = train_df.groupby('legacyid')\n",
    "df.head()"
   ]
  },
  {
   "cell_type": "code",
   "execution_count": 15,
   "id": "cba3c31a",
   "metadata": {},
   "outputs": [
    {
     "data": {
      "text/plain": [
       "23"
      ]
     },
     "execution_count": 15,
     "metadata": {},
     "output_type": "execute_result"
    }
   ],
   "source": [
    "series = train_df['legacyid'].value_counts()\n",
    "series['IL-CDCT1:15CV01001']"
   ]
  },
  {
   "cell_type": "code",
   "execution_count": 16,
   "id": "fc479963",
   "metadata": {},
   "outputs": [
    {
     "data": {
      "text/plain": [
       "999"
      ]
     },
     "execution_count": 16,
     "metadata": {},
     "output_type": "execute_result"
    }
   ],
   "source": [
    "len(train_df['number'].value_counts())"
   ]
  },
  {
   "cell_type": "code",
   "execution_count": 17,
   "id": "0daedf1d",
   "metadata": {
    "scrolled": true
   },
   "outputs": [
    {
     "data": {
      "text/plain": [
       "count    637626.000000\n",
       "mean         50.278823\n",
       "std          47.947418\n",
       "min           3.000000\n",
       "25%          23.000000\n",
       "50%          35.000000\n",
       "75%          59.000000\n",
       "max        1553.000000\n",
       "Name: description, dtype: float64"
      ]
     },
     "execution_count": 17,
     "metadata": {},
     "output_type": "execute_result"
    }
   ],
   "source": [
    "train_df['description'].apply(lambda s: len(s.split())).describe()"
   ]
  },
  {
   "cell_type": "code",
   "execution_count": 18,
   "id": "0e62f248",
   "metadata": {},
   "outputs": [],
   "source": [
    "#another function we can use to split dataset\n",
    "def train_validate_test_split(df, train_percent=.8, validate_percent=.1, seed=None):\n",
    "    np.random.seed(seed)\n",
    "    perm = np.random.permutation(df.index)\n",
    "    m = len(df.index)\n",
    "    train_end = int(train_percent * m)\n",
    "    validate_end = int(validate_percent * m) + train_end\n",
    "    train = df.iloc[perm[:train_end]]\n",
    "    validate = df.iloc[perm[train_end:validate_end]]\n",
    "    test = df.iloc[perm[validate_end:]]\n",
    "    return train, validate, test"
   ]
  },
  {
   "cell_type": "code",
   "execution_count": 4,
   "id": "9656ba93",
   "metadata": {},
   "outputs": [],
   "source": [
    "train, remaining = train_test_split(train_df, train_size=.8)\n",
    "valid, test = train_test_split(remaining, test_size=0.5)"
   ]
  },
  {
   "cell_type": "code",
   "execution_count": 5,
   "id": "60e0d9f8",
   "metadata": {},
   "outputs": [
    {
     "name": "stdout",
     "output_type": "stream",
     "text": [
      "(510100, 4)\n",
      "(63763, 4)\n",
      "(63763, 4)\n"
     ]
    }
   ],
   "source": [
    "print(train.shape)\n",
    "print(valid.shape)\n",
    "print(test.shape)\n",
    "assert train.shape[0] + valid.shape[0] + test.shape[0] == len(train_df)"
   ]
  },
  {
   "cell_type": "code",
   "execution_count": 7,
   "id": "a96d672d",
   "metadata": {},
   "outputs": [],
   "source": [
    "train_file = Path('../data/motions_laws/train.csv')\n",
    "valid_file = Path('../data/motions_laws/valid.csv')\n",
    "test_file = Path('../data/motions_laws/test.csv')\n",
    "if not train_file.is_file(): \n",
    "    train.to_csv('../data/motions_laws/train.csv', index=False)\n",
    "if not valid_file.is_file():\n",
    "    valid.to_csv('../data/motions_laws/valid.csv', index=False)\n",
    "if not test_file.is_file():\n",
    "    test.to_csv('../data/motions_laws/test.csv', index=False)"
   ]
  },
  {
   "cell_type": "code",
   "execution_count": 22,
   "id": "badc6d93",
   "metadata": {},
   "outputs": [
    {
     "name": "stdout",
     "output_type": "stream",
     "text": [
      "length of TRAIN set: 510100\n",
      "length of VALID set: 63763\n",
      "length of TEST set: 63763\n"
     ]
    }
   ],
   "source": [
    "SEQ_LENGTH = 45\n",
    "train_dataset = TextClassificationDataset(\n",
    "    texts=train['description'].values.tolist(),\n",
    "    labels=train['number'].values.tolist(),\n",
    "    max_seq_length=SEQ_LENGTH,\n",
    "    model_name=MODEL_NAME,\n",
    ")\n",
    "print('length of TRAIN set:', len(train_dataset))\n",
    "\n",
    "valid_dataset = TextClassificationDataset(\n",
    "    texts=valid['description'].values.tolist(),\n",
    "    labels=valid['number'].values.tolist(),\n",
    "    max_seq_length=SEQ_LENGTH,\n",
    "    model_name=MODEL_NAME,\n",
    ")\n",
    "print('length of VALID set:', len(valid_dataset))\n",
    "\n",
    "test_dataset = TextClassificationDataset(\n",
    "    texts=test['description'].values.tolist(),\n",
    "    labels=test['number'].values.tolist(),\n",
    "    max_seq_length=SEQ_LENGTH,\n",
    "    model_name=MODEL_NAME,\n",
    ")\n",
    "print('length of TEST set:', len(test_dataset))"
   ]
  },
  {
   "cell_type": "code",
   "execution_count": 23,
   "id": "ab54b663",
   "metadata": {},
   "outputs": [
    {
     "data": {
      "text/plain": [
       "{'attention_mask': tensor([[1, 1, 1, 1, 1, 1, 1, 1, 1, 1, 1, 1, 1, 1, 1, 1, 1, 1, 1, 1, 1, 1, 1, 1,\n",
       "         1, 1, 1, 1, 1, 1, 1, 1, 1, 1, 1, 1, 1, 1, 1, 1, 1, 1, 1, 1, 1]]), 'features': tensor([  101,  5448,  1998,  2344, 15080,  1026, 13097,  1028,  2260,  1026,\n",
       "         1013, 13097,  1028,  4367,  2000, 19776,  6406,  2011,  6465,  2103,\n",
       "         8329,  2188,  1004, 24497,  1012,  2023,  2553,  2003,  7219,  1012,\n",
       "         2772,  2011,  3648,  2520,  1039,  3389,  2006,  2184,  1013,  2570,\n",
       "         1013,  2760,  1012,  1006,   102])}"
      ]
     },
     "execution_count": 23,
     "metadata": {},
     "output_type": "execute_result"
    }
   ],
   "source": [
    "train_dataset[17]"
   ]
  },
  {
   "cell_type": "code",
   "execution_count": 24,
   "id": "f928dad4",
   "metadata": {},
   "outputs": [],
   "source": [
    "train_val_loaders = {\n",
    "    \"train\": DataLoader(\n",
    "        dataset=train_dataset,\n",
    "        batch_size=16,\n",
    "        shuffle=True,\n",
    "    ),\n",
    "    \"valid\": DataLoader(\n",
    "        dataset=valid_dataset,\n",
    "        batch_size=16,\n",
    "        shuffle=False,\n",
    "    ),\n",
    "}"
   ]
  },
  {
   "cell_type": "code",
   "execution_count": 25,
   "id": "623d58c9",
   "metadata": {
    "scrolled": true
   },
   "outputs": [],
   "source": [
    "mini_batch = next(iter(train_val_loaders['train']))"
   ]
  },
  {
   "cell_type": "code",
   "execution_count": 26,
   "id": "abefc7f3",
   "metadata": {},
   "outputs": [
    {
     "data": {
      "text/plain": [
       "dict_keys(['attention_mask', 'features'])"
      ]
     },
     "execution_count": 26,
     "metadata": {},
     "output_type": "execute_result"
    }
   ],
   "source": [
    "mini_batch.keys()"
   ]
  },
  {
   "cell_type": "code",
   "execution_count": 27,
   "id": "91dda67e",
   "metadata": {
    "scrolled": true
   },
   "outputs": [
    {
     "data": {
      "text/plain": [
       "torch.Size([16, 45])"
      ]
     },
     "execution_count": 27,
     "metadata": {},
     "output_type": "execute_result"
    }
   ],
   "source": [
    "mini_batch['features'].size()"
   ]
  },
  {
   "cell_type": "markdown",
   "id": "18cd03a3",
   "metadata": {},
   "source": [
    "## Creating the Model"
   ]
  },
  {
   "cell_type": "code",
   "execution_count": 52,
   "id": "1745fea2",
   "metadata": {},
   "outputs": [],
   "source": [
    "import torch.nn as nn\n",
    "from transformers import AutoConfig, AutoModel\n",
    "from model import BertForSequenceClassification"
   ]
  },
  {
   "cell_type": "code",
   "execution_count": 29,
   "id": "c2ce707d",
   "metadata": {},
   "outputs": [
    {
     "data": {
      "text/plain": [
       "'distilbert-base-uncased'"
      ]
     },
     "execution_count": 29,
     "metadata": {},
     "output_type": "execute_result"
    }
   ],
   "source": [
    "MODEL_NAME"
   ]
  },
  {
   "cell_type": "code",
   "execution_count": 30,
   "id": "af168afd",
   "metadata": {},
   "outputs": [],
   "source": [
    "config = AutoConfig.from_pretrained(\n",
    "    MODEL_NAME, num_labels=10\n",
    ")"
   ]
  },
  {
   "cell_type": "code",
   "execution_count": 31,
   "id": "e0ea3829",
   "metadata": {},
   "outputs": [
    {
     "name": "stderr",
     "output_type": "stream",
     "text": [
      "Some weights of the model checkpoint at distilbert-base-uncased were not used when initializing DistilBertModel: ['vocab_layer_norm.bias', 'vocab_projector.bias', 'vocab_layer_norm.weight', 'vocab_projector.weight', 'vocab_transform.weight', 'vocab_transform.bias']\n",
      "- This IS expected if you are initializing DistilBertModel from the checkpoint of a model trained on another task or with another architecture (e.g. initializing a BertForSequenceClassification model from a BertForPreTraining model).\n",
      "- This IS NOT expected if you are initializing DistilBertModel from the checkpoint of a model that you expect to be exactly identical (initializing a BertForSequenceClassification model from a BertForSequenceClassification model).\n"
     ]
    }
   ],
   "source": [
    "model = AutoModel.from_pretrained(MODEL_NAME, config=config)"
   ]
  },
  {
   "cell_type": "code",
   "execution_count": 32,
   "id": "7eb44406",
   "metadata": {},
   "outputs": [],
   "source": [
    "bert_output = model(\n",
    "                input_ids = mini_batch['features'],\n",
    "                attention_mask=mini_batch['attention_mask']\n",
    ")"
   ]
  },
  {
   "cell_type": "code",
   "execution_count": 33,
   "id": "5dc99ce1",
   "metadata": {},
   "outputs": [
    {
     "data": {
      "text/plain": [
       "(transformers.modeling_outputs.BaseModelOutput, 1)"
      ]
     },
     "execution_count": 33,
     "metadata": {},
     "output_type": "execute_result"
    }
   ],
   "source": [
    "type(bert_output), len(bert_output)"
   ]
  },
  {
   "cell_type": "code",
   "execution_count": 34,
   "id": "19edd675",
   "metadata": {},
   "outputs": [
    {
     "data": {
      "text/plain": [
       "torch.Size([16, 45, 768])"
      ]
     },
     "execution_count": 34,
     "metadata": {},
     "output_type": "execute_result"
    }
   ],
   "source": [
    "bert_output[0].size() #(batch size, sequence_length, embedding space)"
   ]
  },
  {
   "cell_type": "code",
   "execution_count": 35,
   "id": "46881e7d",
   "metadata": {},
   "outputs": [],
   "source": [
    "seq_output = bert_output[0]  # (bs, seq_len, dim)\n"
   ]
  },
  {
   "cell_type": "code",
   "execution_count": 36,
   "id": "450e5148",
   "metadata": {},
   "outputs": [
    {
     "data": {
      "text/plain": [
       "torch.Size([16, 768])"
      ]
     },
     "execution_count": 36,
     "metadata": {},
     "output_type": "execute_result"
    }
   ],
   "source": [
    "pooled_output = seq_output.mean(axis=1)\n",
    "pooled_output.size()"
   ]
  },
  {
   "cell_type": "code",
   "execution_count": 37,
   "id": "35324e8b",
   "metadata": {},
   "outputs": [],
   "source": [
    "classifier = nn.Linear(768, 10)\n",
    "dropout = nn.Dropout(0.3)"
   ]
  },
  {
   "cell_type": "code",
   "execution_count": 38,
   "id": "008a1474",
   "metadata": {},
   "outputs": [
    {
     "data": {
      "text/plain": [
       "torch.Size([16, 10])"
      ]
     },
     "execution_count": 38,
     "metadata": {},
     "output_type": "execute_result"
    }
   ],
   "source": [
    "pooled_output = dropout(pooled_output)  # (bs, dim)\n",
    "scores = classifier(pooled_output)  # (bs, num_classes)\n",
    "scores.size()"
   ]
  },
  {
   "cell_type": "code",
   "execution_count": 53,
   "id": "9a80620e",
   "metadata": {},
   "outputs": [
    {
     "name": "stderr",
     "output_type": "stream",
     "text": [
      "Some weights of the model checkpoint at distilbert-base-uncased were not used when initializing DistilBertModel: ['vocab_layer_norm.bias', 'vocab_projector.bias', 'vocab_layer_norm.weight', 'vocab_projector.weight', 'vocab_transform.weight', 'vocab_transform.bias']\n",
      "- This IS expected if you are initializing DistilBertModel from the checkpoint of a model trained on another task or with another architecture (e.g. initializing a BertForSequenceClassification model from a BertForPreTraining model).\n",
      "- This IS NOT expected if you are initializing DistilBertModel from the checkpoint of a model that you expect to be exactly identical (initializing a BertForSequenceClassification model from a BertForSequenceClassification model).\n"
     ]
    }
   ],
   "source": [
    "clf_model = BertForSequenceClassification(pretrained_model_name=MODEL_NAME, num_classes=10)"
   ]
  },
  {
   "cell_type": "code",
   "execution_count": 56,
   "id": "2e6191a2",
   "metadata": {},
   "outputs": [
    {
     "data": {
      "text/plain": [
       "tensor([[ 1.6032e-01, -1.1718e-01, -1.4904e-01,  1.4852e-01,  1.8016e-01,\n",
       "         -5.4257e-02,  2.8516e-01,  1.4599e-01,  7.4595e-02,  1.7470e-01],\n",
       "        [ 1.0880e-01, -1.2553e-01, -3.3885e-01,  1.6453e-01,  2.6162e-01,\n",
       "          7.0233e-03,  2.3627e-01,  1.8044e-01, -3.2204e-02,  1.4183e-01],\n",
       "        [-7.3531e-02, -1.0780e-01, -2.9472e-01,  2.0896e-01,  1.6161e-01,\n",
       "          8.3599e-02,  9.9036e-02,  1.3906e-01,  1.0407e-02,  2.6947e-01],\n",
       "        [ 1.9877e-01,  1.8534e-01, -2.0612e-01,  1.9394e-01,  3.1526e-01,\n",
       "         -1.6177e-02,  2.7526e-01, -3.2886e-02, -3.6064e-02, -1.8960e-01],\n",
       "        [ 1.2037e-01, -1.3365e-02, -3.4518e-01,  3.5638e-01,  1.3495e-01,\n",
       "          4.0916e-01, -5.6174e-02,  2.0182e-01, -1.9149e-01,  2.1941e-01],\n",
       "        [-2.3680e-02, -1.0082e-01, -3.1066e-01,  9.5222e-02,  9.9221e-02,\n",
       "         -2.2106e-02,  1.0827e-01,  8.0604e-02, -9.4855e-02, -1.0121e-02],\n",
       "        [ 2.5828e-02, -9.2505e-02, -1.8566e-01,  1.5773e-01,  2.1482e-01,\n",
       "         -1.1149e-01,  2.0896e-01,  1.5042e-01,  2.1315e-02,  1.7688e-01],\n",
       "        [ 2.0087e-01,  9.7246e-02, -2.9561e-01,  9.3122e-02,  1.3826e-01,\n",
       "         -1.5815e-01,  9.9142e-02, -3.3197e-02,  9.6667e-02,  1.1720e-01],\n",
       "        [ 6.8351e-02,  1.2955e-01, -2.3007e-01,  3.0055e-02, -1.9348e-01,\n",
       "          4.8906e-02,  3.0833e-02,  1.7828e-01, -1.7132e-01,  6.4078e-02],\n",
       "        [ 2.5104e-02,  5.0343e-02, -4.9560e-01,  2.8238e-02,  3.2078e-01,\n",
       "         -1.4303e-01,  4.0176e-02, -3.3694e-02,  7.0948e-02, -1.1624e-02],\n",
       "        [ 3.9045e-02,  1.7684e-01, -2.8739e-01,  1.4834e-01,  1.5819e-01,\n",
       "          4.9804e-02,  1.3565e-01,  4.9699e-02, -1.0131e-01,  8.2757e-03],\n",
       "        [-2.9114e-02,  1.6823e-02, -3.0768e-01,  2.1071e-02,  2.6202e-01,\n",
       "          1.0540e-02,  7.9249e-02,  9.1832e-02,  2.0912e-02,  6.2963e-02],\n",
       "        [ 2.1721e-02, -4.2121e-02, -4.7209e-01,  1.0534e-01,  1.9205e-01,\n",
       "         -8.0799e-02,  4.0286e-02,  2.6938e-01, -8.8943e-03,  1.8615e-01],\n",
       "        [-8.2234e-02,  5.1994e-02, -3.4032e-01,  1.9539e-01,  3.9950e-01,\n",
       "         -1.6651e-01,  1.8810e-01,  1.6607e-01,  4.9683e-02,  1.0870e-01],\n",
       "        [ 2.7431e-01, -1.1768e-01, -6.8950e-01,  2.3576e-01,  1.4100e-02,\n",
       "          3.2340e-03, -1.5406e-01,  2.5807e-01, -9.7167e-03,  1.4297e-01],\n",
       "        [ 2.4651e-01, -7.1938e-03, -2.4271e-01,  1.7248e-02,  3.2835e-01,\n",
       "         -2.8300e-04,  1.1156e-01, -2.1714e-01,  1.6128e-01,  2.2067e-01]],\n",
       "       grad_fn=<AddmmBackward0>)"
      ]
     },
     "execution_count": 56,
     "metadata": {},
     "output_type": "execute_result"
    }
   ],
   "source": [
    "clf_model(features=mini_batch['features'], attention_mask=mini_batch['attention_mask'])"
   ]
  },
  {
   "cell_type": "markdown",
   "id": "fa146395",
   "metadata": {},
   "source": [
    "## Training"
   ]
  },
  {
   "cell_type": "code",
   "execution_count": 42,
   "id": "b93981e5",
   "metadata": {},
   "outputs": [],
   "source": [
    "import torch\n",
    "import yaml\n",
    "import transformers\n",
    "import catalyst\n",
    "from catalyst.dl import SupervisedRunner\n",
    "from catalyst.dl.callbacks import (\n",
    "    AccuracyCallback,\n",
    "    CheckpointCallback,\n",
    "    InferCallback,\n",
    "    OptimizerCallback,\n",
    ")\n",
    "from catalyst.utils import prepare_cudnn, set_global_seed"
   ]
  },
  {
   "cell_type": "code",
   "execution_count": 43,
   "id": "928544a4",
   "metadata": {},
   "outputs": [
    {
     "data": {
      "text/plain": [
       "'1.10.2+cpu'"
      ]
     },
     "execution_count": 43,
     "metadata": {},
     "output_type": "execute_result"
    }
   ],
   "source": [
    "torch.__version__"
   ]
  },
  {
   "cell_type": "code",
   "execution_count": 44,
   "id": "fc3ea567",
   "metadata": {},
   "outputs": [
    {
     "data": {
      "text/plain": [
       "'4.16.2'"
      ]
     },
     "execution_count": 44,
     "metadata": {},
     "output_type": "execute_result"
    }
   ],
   "source": [
    "transformers.__version__"
   ]
  },
  {
   "cell_type": "code",
   "execution_count": 45,
   "id": "52c7b938",
   "metadata": {},
   "outputs": [
    {
     "data": {
      "text/plain": [
       "'20.08.2'"
      ]
     },
     "execution_count": 45,
     "metadata": {},
     "output_type": "execute_result"
    }
   ],
   "source": [
    "catalyst.__version__"
   ]
  },
  {
   "cell_type": "code",
   "execution_count": 46,
   "id": "face716b",
   "metadata": {},
   "outputs": [],
   "source": [
    "# specify criterion for the multi-class classification task, optimizer and scheduler\n",
    "criterion = torch.nn.CrossEntropyLoss()\n",
    "optimizer = torch.optim.Adam(\n",
    "    model.parameters(), lr=3e-5\n",
    ")\n",
    "scheduler = torch.optim.lr_scheduler.ReduceLROnPlateau(optimizer)"
   ]
  },
  {
   "cell_type": "code",
   "execution_count": 47,
   "id": "866e977a",
   "metadata": {},
   "outputs": [],
   "source": [
    "set_global_seed(17)\n",
    "prepare_cudnn(deterministic=True)"
   ]
  },
  {
   "cell_type": "code",
   "execution_count": 58,
   "id": "8f34c510",
   "metadata": {},
   "outputs": [
    {
     "name": "stdout",
     "output_type": "stream",
     "text": [
      "length of TRAIN set: 510100\n",
      "length of VALID set: 63763\n",
      "length of TEST set: 63763\n"
     ]
    }
   ],
   "source": [
    "SEQ_LENGTH = 45\n",
    "train_dataset = TextClassificationDataset(\n",
    "    texts=train['description'].values.tolist(),\n",
    "    max_seq_length=SEQ_LENGTH,\n",
    "    model_name=MODEL_NAME,\n",
    ")\n",
    "print('length of TRAIN set:', len(train_dataset))\n",
    "\n",
    "valid_dataset = TextClassificationDataset(\n",
    "    texts=valid['description'].values.tolist(),\n",
    "    max_seq_length=SEQ_LENGTH,\n",
    "    model_name=MODEL_NAME,\n",
    ")\n",
    "print('length of VALID set:', len(valid_dataset))\n",
    "\n",
    "test_dataset = TextClassificationDataset(\n",
    "    texts=test['description'].values.tolist(),\n",
    "    max_seq_length=SEQ_LENGTH,\n",
    "    model_name=MODEL_NAME,\n",
    ")\n",
    "print('length of TEST set:', len(test_dataset))"
   ]
  },
  {
   "cell_type": "code",
   "execution_count": 59,
   "id": "a9ec1a91",
   "metadata": {},
   "outputs": [],
   "source": [
    "train_val_loaders = {\n",
    "    \"train\": DataLoader(\n",
    "        dataset=train_dataset,\n",
    "        batch_size=16,\n",
    "        shuffle=True,\n",
    "    ),\n",
    "    \"valid\": DataLoader(\n",
    "        dataset=valid_dataset,\n",
    "        batch_size=16,\n",
    "        shuffle=False,\n",
    "    ),\n",
    "}"
   ]
  },
  {
   "cell_type": "code",
   "execution_count": 60,
   "id": "9c672232",
   "metadata": {},
   "outputs": [],
   "source": [
    "test_loaders = {\n",
    "    \"test\": DataLoader(\n",
    "        dataset=test_dataset,\n",
    "        batch_size=16,\n",
    "        shuffle=True,\n",
    "    ),\n",
    "}"
   ]
  },
  {
   "cell_type": "code",
   "execution_count": 61,
   "id": "e673632a",
   "metadata": {},
   "outputs": [
    {
     "name": "stdout",
     "output_type": "stream",
     "text": [
      "\r",
      "1/1 * Epoch (train):   0% 0/31882 [00:00<?, ?it/s]"
     ]
    },
    {
     "ename": "KeyError",
     "evalue": "'targets'",
     "output_type": "error",
     "traceback": [
      "\u001b[1;31m---------------------------------------------------------------------------\u001b[0m",
      "\u001b[1;31mKeyError\u001b[0m                                  Traceback (most recent call last)",
      "Input \u001b[1;32mIn [61]\u001b[0m, in \u001b[0;36m<module>\u001b[1;34m\u001b[0m\n\u001b[0;32m      1\u001b[0m runner \u001b[38;5;241m=\u001b[39m SupervisedRunner(input_key\u001b[38;5;241m=\u001b[39m(\u001b[38;5;124m\"\u001b[39m\u001b[38;5;124mfeatures\u001b[39m\u001b[38;5;124m\"\u001b[39m, \u001b[38;5;124m\"\u001b[39m\u001b[38;5;124mattention_mask\u001b[39m\u001b[38;5;124m\"\u001b[39m))\n\u001b[0;32m      3\u001b[0m \u001b[38;5;66;03m# finally, training the model with Catalyst\u001b[39;00m\n\u001b[1;32m----> 4\u001b[0m \u001b[43mrunner\u001b[49m\u001b[38;5;241;43m.\u001b[39;49m\u001b[43mtrain\u001b[49m\u001b[43m(\u001b[49m\n\u001b[0;32m      5\u001b[0m \u001b[43m    \u001b[49m\u001b[43mmodel\u001b[49m\u001b[38;5;241;43m=\u001b[39;49m\u001b[43mclf_model\u001b[49m\u001b[43m,\u001b[49m\n\u001b[0;32m      6\u001b[0m \u001b[43m    \u001b[49m\u001b[43mcriterion\u001b[49m\u001b[38;5;241;43m=\u001b[39;49m\u001b[43mcriterion\u001b[49m\u001b[43m,\u001b[49m\n\u001b[0;32m      7\u001b[0m \u001b[43m    \u001b[49m\u001b[43moptimizer\u001b[49m\u001b[38;5;241;43m=\u001b[39;49m\u001b[43moptimizer\u001b[49m\u001b[43m,\u001b[49m\n\u001b[0;32m      8\u001b[0m \u001b[43m    \u001b[49m\u001b[43mscheduler\u001b[49m\u001b[38;5;241;43m=\u001b[39;49m\u001b[43mscheduler\u001b[49m\u001b[43m,\u001b[49m\n\u001b[0;32m      9\u001b[0m \u001b[43m    \u001b[49m\u001b[43mloaders\u001b[49m\u001b[38;5;241;43m=\u001b[39;49m\u001b[43mtrain_val_loaders\u001b[49m\u001b[43m,\u001b[49m\n\u001b[0;32m     10\u001b[0m \u001b[43m    \u001b[49m\u001b[43mcallbacks\u001b[49m\u001b[38;5;241;43m=\u001b[39;49m\u001b[43m[\u001b[49m\n\u001b[0;32m     11\u001b[0m \u001b[43m        \u001b[49m\u001b[43mAccuracyCallback\u001b[49m\u001b[43m(\u001b[49m\u001b[43mnum_classes\u001b[49m\u001b[38;5;241;43m=\u001b[39;49m\u001b[38;5;241;43m10\u001b[39;49m\u001b[43m)\u001b[49m\u001b[43m,\u001b[49m\n\u001b[0;32m     12\u001b[0m \u001b[43m        \u001b[49m\u001b[43mOptimizerCallback\u001b[49m\u001b[43m(\u001b[49m\u001b[43maccumulation_steps\u001b[49m\u001b[38;5;241;43m=\u001b[39;49m\u001b[38;5;241;43m4\u001b[39;49m\u001b[43m)\u001b[49m\u001b[43m,\u001b[49m\n\u001b[0;32m     13\u001b[0m \u001b[43m    \u001b[49m\u001b[43m]\u001b[49m\u001b[43m,\u001b[49m\n\u001b[0;32m     14\u001b[0m \u001b[43m    \u001b[49m\u001b[43mlogdir\u001b[49m\u001b[38;5;241;43m=\u001b[39;49m\u001b[38;5;124;43m'\u001b[39;49m\u001b[38;5;124;43m../logdir/\u001b[39;49m\u001b[38;5;124;43m'\u001b[39;49m\u001b[43m,\u001b[49m\n\u001b[0;32m     15\u001b[0m \u001b[43m    \u001b[49m\u001b[43mnum_epochs\u001b[49m\u001b[38;5;241;43m=\u001b[39;49m\u001b[38;5;241;43m1\u001b[39;49m\u001b[43m,\u001b[49m\n\u001b[0;32m     16\u001b[0m \u001b[43m    \u001b[49m\u001b[43mverbose\u001b[49m\u001b[38;5;241;43m=\u001b[39;49m\u001b[38;5;28;43;01mTrue\u001b[39;49;00m\u001b[43m,\u001b[49m\n\u001b[0;32m     17\u001b[0m \u001b[43m)\u001b[49m\n",
      "File \u001b[1;32m~\\anaconda3\\envs\\law\\lib\\site-packages\\catalyst\\dl\\runner\\runner.py:163\u001b[0m, in \u001b[0;36mRunner.train\u001b[1;34m(self, model, criterion, optimizer, scheduler, datasets, loaders, callbacks, logdir, resume, num_epochs, valid_loader, main_metric, minimize_metric, verbose, stage_kwargs, checkpoint_data, fp16, distributed, check, overfit, timeit, load_best_on_end, initial_seed, state_kwargs)\u001b[0m\n\u001b[0;32m    139\u001b[0m experiment \u001b[38;5;241m=\u001b[39m \u001b[38;5;28mself\u001b[39m\u001b[38;5;241m.\u001b[39m_experiment_fn(\n\u001b[0;32m    140\u001b[0m     stage\u001b[38;5;241m=\u001b[39m\u001b[38;5;124m\"\u001b[39m\u001b[38;5;124mtrain\u001b[39m\u001b[38;5;124m\"\u001b[39m,\n\u001b[0;32m    141\u001b[0m     model\u001b[38;5;241m=\u001b[39mmodel,\n\u001b[1;32m   (...)\u001b[0m\n\u001b[0;32m    160\u001b[0m     initial_seed\u001b[38;5;241m=\u001b[39minitial_seed,\n\u001b[0;32m    161\u001b[0m )\n\u001b[0;32m    162\u001b[0m \u001b[38;5;28mself\u001b[39m\u001b[38;5;241m.\u001b[39mexperiment \u001b[38;5;241m=\u001b[39m experiment\n\u001b[1;32m--> 163\u001b[0m \u001b[43mutils\u001b[49m\u001b[38;5;241;43m.\u001b[39;49m\u001b[43mdistributed_cmd_run\u001b[49m\u001b[43m(\u001b[49m\u001b[38;5;28;43mself\u001b[39;49m\u001b[38;5;241;43m.\u001b[39;49m\u001b[43mrun_experiment\u001b[49m\u001b[43m,\u001b[49m\u001b[43m \u001b[49m\u001b[43mdistributed\u001b[49m\u001b[43m)\u001b[49m\n",
      "File \u001b[1;32m~\\anaconda3\\envs\\law\\lib\\site-packages\\catalyst\\utils\\scripts.py:132\u001b[0m, in \u001b[0;36mdistributed_cmd_run\u001b[1;34m(worker_fn, distributed, *args, **kwargs)\u001b[0m\n\u001b[0;32m    122\u001b[0m     warnings\u001b[38;5;241m.\u001b[39mwarn(\n\u001b[0;32m    123\u001b[0m         \u001b[38;5;124m\"\u001b[39m\u001b[38;5;124mLooks like you are trying to call distributed setup twice, \u001b[39m\u001b[38;5;124m\"\u001b[39m\n\u001b[0;32m    124\u001b[0m         \u001b[38;5;124m\"\u001b[39m\u001b[38;5;124mswitching to normal run for correct distributed training.\u001b[39m\u001b[38;5;124m\"\u001b[39m\n\u001b[0;32m    125\u001b[0m     )\n\u001b[0;32m    127\u001b[0m \u001b[38;5;28;01mif\u001b[39;00m (\n\u001b[0;32m    128\u001b[0m     \u001b[38;5;129;01mnot\u001b[39;00m distributed\n\u001b[0;32m    129\u001b[0m     \u001b[38;5;129;01mor\u001b[39;00m torch\u001b[38;5;241m.\u001b[39mdistributed\u001b[38;5;241m.\u001b[39mis_initialized()\n\u001b[0;32m    130\u001b[0m     \u001b[38;5;129;01mor\u001b[39;00m world_size \u001b[38;5;241m<\u001b[39m\u001b[38;5;241m=\u001b[39m \u001b[38;5;241m1\u001b[39m\n\u001b[0;32m    131\u001b[0m ):\n\u001b[1;32m--> 132\u001b[0m     worker_fn(\u001b[38;5;241m*\u001b[39margs, \u001b[38;5;241m*\u001b[39m\u001b[38;5;241m*\u001b[39mkwargs)\n\u001b[0;32m    133\u001b[0m \u001b[38;5;28;01melif\u001b[39;00m local_rank \u001b[38;5;129;01mis\u001b[39;00m \u001b[38;5;129;01mnot\u001b[39;00m \u001b[38;5;28;01mNone\u001b[39;00m:\n\u001b[0;32m    134\u001b[0m     torch\u001b[38;5;241m.\u001b[39mcuda\u001b[38;5;241m.\u001b[39mset_device(\u001b[38;5;28mint\u001b[39m(local_rank))\n",
      "File \u001b[1;32m~\\anaconda3\\envs\\law\\lib\\site-packages\\catalyst\\core\\runner.py:987\u001b[0m, in \u001b[0;36mIRunner.run_experiment\u001b[1;34m(self, experiment)\u001b[0m\n\u001b[0;32m    985\u001b[0m \u001b[38;5;28;01mif\u001b[39;00m _exception_handler_check(\u001b[38;5;28mgetattr\u001b[39m(\u001b[38;5;28mself\u001b[39m, \u001b[38;5;124m\"\u001b[39m\u001b[38;5;124mcallbacks\u001b[39m\u001b[38;5;124m\"\u001b[39m, \u001b[38;5;28;01mNone\u001b[39;00m)):\n\u001b[0;32m    986\u001b[0m     \u001b[38;5;28mself\u001b[39m\u001b[38;5;241m.\u001b[39mexception \u001b[38;5;241m=\u001b[39m ex\n\u001b[1;32m--> 987\u001b[0m     \u001b[38;5;28;43mself\u001b[39;49m\u001b[38;5;241;43m.\u001b[39;49m\u001b[43m_run_event\u001b[49m\u001b[43m(\u001b[49m\u001b[38;5;124;43m\"\u001b[39;49m\u001b[38;5;124;43mon_exception\u001b[39;49m\u001b[38;5;124;43m\"\u001b[39;49m\u001b[43m)\u001b[49m\n\u001b[0;32m    988\u001b[0m \u001b[38;5;28;01melse\u001b[39;00m:\n\u001b[0;32m    989\u001b[0m     \u001b[38;5;28;01mraise\u001b[39;00m ex\n",
      "File \u001b[1;32m~\\anaconda3\\envs\\law\\lib\\site-packages\\catalyst\\core\\runner.py:780\u001b[0m, in \u001b[0;36mIRunner._run_event\u001b[1;34m(self, event)\u001b[0m\n\u001b[0;32m    769\u001b[0m \u001b[38;5;124;03m\"\"\"Inner method to run specified event on Runners' callbacks.\u001b[39;00m\n\u001b[0;32m    770\u001b[0m \n\u001b[0;32m    771\u001b[0m \u001b[38;5;124;03mArgs:\u001b[39;00m\n\u001b[1;32m   (...)\u001b[0m\n\u001b[0;32m    777\u001b[0m \n\u001b[0;32m    778\u001b[0m \u001b[38;5;124;03m\"\"\"\u001b[39;00m\n\u001b[0;32m    779\u001b[0m \u001b[38;5;28;01mfor\u001b[39;00m callback \u001b[38;5;129;01min\u001b[39;00m \u001b[38;5;28mself\u001b[39m\u001b[38;5;241m.\u001b[39mcallbacks\u001b[38;5;241m.\u001b[39mvalues():\n\u001b[1;32m--> 780\u001b[0m     \u001b[38;5;28;43mgetattr\u001b[39;49m\u001b[43m(\u001b[49m\u001b[43mcallback\u001b[49m\u001b[43m,\u001b[49m\u001b[43m \u001b[49m\u001b[43mevent\u001b[49m\u001b[43m)\u001b[49m\u001b[43m(\u001b[49m\u001b[38;5;28;43mself\u001b[39;49m\u001b[43m)\u001b[49m\n",
      "File \u001b[1;32m~\\anaconda3\\envs\\law\\lib\\site-packages\\catalyst\\core\\callbacks\\exception.py:24\u001b[0m, in \u001b[0;36mExceptionCallback.on_exception\u001b[1;34m(self, runner)\u001b[0m\n\u001b[0;32m     21\u001b[0m     \u001b[38;5;28;01mreturn\u001b[39;00m\n\u001b[0;32m     23\u001b[0m \u001b[38;5;28;01mif\u001b[39;00m runner\u001b[38;5;241m.\u001b[39mneed_exception_reraise:\n\u001b[1;32m---> 24\u001b[0m     \u001b[38;5;28;01mraise\u001b[39;00m exception\n",
      "File \u001b[1;32m~\\anaconda3\\envs\\law\\lib\\site-packages\\catalyst\\core\\runner.py:975\u001b[0m, in \u001b[0;36mIRunner.run_experiment\u001b[1;34m(self, experiment)\u001b[0m\n\u001b[0;32m    973\u001b[0m \u001b[38;5;28;01mtry\u001b[39;00m:\n\u001b[0;32m    974\u001b[0m     \u001b[38;5;28;01mfor\u001b[39;00m stage \u001b[38;5;129;01min\u001b[39;00m \u001b[38;5;28mself\u001b[39m\u001b[38;5;241m.\u001b[39mexperiment\u001b[38;5;241m.\u001b[39mstages:\n\u001b[1;32m--> 975\u001b[0m         \u001b[38;5;28;43mself\u001b[39;49m\u001b[38;5;241;43m.\u001b[39;49m\u001b[43m_run_stage\u001b[49m\u001b[43m(\u001b[49m\u001b[43mstage\u001b[49m\u001b[43m)\u001b[49m\n\u001b[0;32m    976\u001b[0m \u001b[38;5;28;01mexcept\u001b[39;00m (\u001b[38;5;167;01mException\u001b[39;00m, \u001b[38;5;167;01mKeyboardInterrupt\u001b[39;00m) \u001b[38;5;28;01mas\u001b[39;00m ex:\n\u001b[0;32m    977\u001b[0m     \u001b[38;5;28;01mfrom\u001b[39;00m \u001b[38;5;21;01mcatalyst\u001b[39;00m\u001b[38;5;21;01m.\u001b[39;00m\u001b[38;5;21;01mcore\u001b[39;00m\u001b[38;5;21;01m.\u001b[39;00m\u001b[38;5;21;01mcallbacks\u001b[39;00m\u001b[38;5;21;01m.\u001b[39;00m\u001b[38;5;21;01mexception\u001b[39;00m \u001b[38;5;28;01mimport\u001b[39;00m ExceptionCallback\n",
      "File \u001b[1;32m~\\anaconda3\\envs\\law\\lib\\site-packages\\catalyst\\core\\runner.py:943\u001b[0m, in \u001b[0;36mIRunner._run_stage\u001b[1;34m(self, stage)\u001b[0m\n\u001b[0;32m    939\u001b[0m utils\u001b[38;5;241m.\u001b[39mset_global_seed(\n\u001b[0;32m    940\u001b[0m     \u001b[38;5;28mself\u001b[39m\u001b[38;5;241m.\u001b[39mexperiment\u001b[38;5;241m.\u001b[39minitial_seed \u001b[38;5;241m+\u001b[39m \u001b[38;5;28mself\u001b[39m\u001b[38;5;241m.\u001b[39mglobal_epoch \u001b[38;5;241m+\u001b[39m \u001b[38;5;241m1\u001b[39m\n\u001b[0;32m    941\u001b[0m )\n\u001b[0;32m    942\u001b[0m \u001b[38;5;28mself\u001b[39m\u001b[38;5;241m.\u001b[39m_run_event(\u001b[38;5;124m\"\u001b[39m\u001b[38;5;124mon_epoch_start\u001b[39m\u001b[38;5;124m\"\u001b[39m)\n\u001b[1;32m--> 943\u001b[0m \u001b[38;5;28;43mself\u001b[39;49m\u001b[38;5;241;43m.\u001b[39;49m\u001b[43m_run_epoch\u001b[49m\u001b[43m(\u001b[49m\u001b[43mstage\u001b[49m\u001b[38;5;241;43m=\u001b[39;49m\u001b[43mstage\u001b[49m\u001b[43m,\u001b[49m\u001b[43m \u001b[49m\u001b[43mepoch\u001b[49m\u001b[38;5;241;43m=\u001b[39;49m\u001b[38;5;28;43mself\u001b[39;49m\u001b[38;5;241;43m.\u001b[39;49m\u001b[43mepoch\u001b[49m\u001b[43m)\u001b[49m\n\u001b[0;32m    944\u001b[0m \u001b[38;5;28mself\u001b[39m\u001b[38;5;241m.\u001b[39m_run_event(\u001b[38;5;124m\"\u001b[39m\u001b[38;5;124mon_epoch_end\u001b[39m\u001b[38;5;124m\"\u001b[39m)\n\u001b[0;32m    946\u001b[0m \u001b[38;5;28;01mif\u001b[39;00m \u001b[38;5;28mself\u001b[39m\u001b[38;5;241m.\u001b[39mneed_early_stop:\n",
      "File \u001b[1;32m~\\anaconda3\\envs\\law\\lib\\site-packages\\catalyst\\core\\runner.py:922\u001b[0m, in \u001b[0;36mIRunner._run_epoch\u001b[1;34m(self, stage, epoch)\u001b[0m\n\u001b[0;32m    920\u001b[0m \u001b[38;5;28mself\u001b[39m\u001b[38;5;241m.\u001b[39m_run_event(\u001b[38;5;124m\"\u001b[39m\u001b[38;5;124mon_loader_start\u001b[39m\u001b[38;5;124m\"\u001b[39m)\n\u001b[0;32m    921\u001b[0m \u001b[38;5;28;01mwith\u001b[39;00m torch\u001b[38;5;241m.\u001b[39mset_grad_enabled(\u001b[38;5;28mself\u001b[39m\u001b[38;5;241m.\u001b[39mis_train_loader):\n\u001b[1;32m--> 922\u001b[0m     \u001b[38;5;28;43mself\u001b[39;49m\u001b[38;5;241;43m.\u001b[39;49m\u001b[43m_run_loader\u001b[49m\u001b[43m(\u001b[49m\u001b[43mloader\u001b[49m\u001b[43m)\u001b[49m\n\u001b[0;32m    923\u001b[0m \u001b[38;5;28mself\u001b[39m\u001b[38;5;241m.\u001b[39m_run_event(\u001b[38;5;124m\"\u001b[39m\u001b[38;5;124mon_loader_end\u001b[39m\u001b[38;5;124m\"\u001b[39m)\n",
      "File \u001b[1;32m~\\anaconda3\\envs\\law\\lib\\site-packages\\catalyst\\core\\runner.py:857\u001b[0m, in \u001b[0;36mIRunner._run_loader\u001b[1;34m(self, loader)\u001b[0m\n\u001b[0;32m    855\u001b[0m \u001b[38;5;28mself\u001b[39m\u001b[38;5;241m.\u001b[39mglobal_batch_step \u001b[38;5;241m+\u001b[39m\u001b[38;5;241m=\u001b[39m \u001b[38;5;241m1\u001b[39m\n\u001b[0;32m    856\u001b[0m \u001b[38;5;28mself\u001b[39m\u001b[38;5;241m.\u001b[39mloader_batch_step \u001b[38;5;241m=\u001b[39m i \u001b[38;5;241m+\u001b[39m \u001b[38;5;241m1\u001b[39m\n\u001b[1;32m--> 857\u001b[0m \u001b[38;5;28;43mself\u001b[39;49m\u001b[38;5;241;43m.\u001b[39;49m\u001b[43m_run_batch\u001b[49m\u001b[43m(\u001b[49m\u001b[43mbatch\u001b[49m\u001b[43m)\u001b[49m\n\u001b[0;32m    858\u001b[0m \u001b[38;5;28;01mif\u001b[39;00m \u001b[38;5;28mself\u001b[39m\u001b[38;5;241m.\u001b[39mneed_early_stop:\n\u001b[0;32m    859\u001b[0m     \u001b[38;5;28mself\u001b[39m\u001b[38;5;241m.\u001b[39mneed_early_stop \u001b[38;5;241m=\u001b[39m \u001b[38;5;28;01mFalse\u001b[39;00m\n",
      "File \u001b[1;32m~\\anaconda3\\envs\\law\\lib\\site-packages\\catalyst\\core\\runner.py:832\u001b[0m, in \u001b[0;36mIRunner._run_batch\u001b[1;34m(self, batch)\u001b[0m\n\u001b[0;32m    830\u001b[0m \u001b[38;5;28mself\u001b[39m\u001b[38;5;241m.\u001b[39m_run_event(\u001b[38;5;124m\"\u001b[39m\u001b[38;5;124mon_batch_start\u001b[39m\u001b[38;5;124m\"\u001b[39m)\n\u001b[0;32m    831\u001b[0m \u001b[38;5;28mself\u001b[39m\u001b[38;5;241m.\u001b[39m_handle_batch(batch\u001b[38;5;241m=\u001b[39mbatch)\n\u001b[1;32m--> 832\u001b[0m \u001b[38;5;28;43mself\u001b[39;49m\u001b[38;5;241;43m.\u001b[39;49m\u001b[43m_run_event\u001b[49m\u001b[43m(\u001b[49m\u001b[38;5;124;43m\"\u001b[39;49m\u001b[38;5;124;43mon_batch_end\u001b[39;49m\u001b[38;5;124;43m\"\u001b[39;49m\u001b[43m)\u001b[49m\n",
      "File \u001b[1;32m~\\anaconda3\\envs\\law\\lib\\site-packages\\catalyst\\core\\runner.py:780\u001b[0m, in \u001b[0;36mIRunner._run_event\u001b[1;34m(self, event)\u001b[0m\n\u001b[0;32m    769\u001b[0m \u001b[38;5;124;03m\"\"\"Inner method to run specified event on Runners' callbacks.\u001b[39;00m\n\u001b[0;32m    770\u001b[0m \n\u001b[0;32m    771\u001b[0m \u001b[38;5;124;03mArgs:\u001b[39;00m\n\u001b[1;32m   (...)\u001b[0m\n\u001b[0;32m    777\u001b[0m \n\u001b[0;32m    778\u001b[0m \u001b[38;5;124;03m\"\"\"\u001b[39;00m\n\u001b[0;32m    779\u001b[0m \u001b[38;5;28;01mfor\u001b[39;00m callback \u001b[38;5;129;01min\u001b[39;00m \u001b[38;5;28mself\u001b[39m\u001b[38;5;241m.\u001b[39mcallbacks\u001b[38;5;241m.\u001b[39mvalues():\n\u001b[1;32m--> 780\u001b[0m     \u001b[38;5;28;43mgetattr\u001b[39;49m\u001b[43m(\u001b[49m\u001b[43mcallback\u001b[49m\u001b[43m,\u001b[49m\u001b[43m \u001b[49m\u001b[43mevent\u001b[49m\u001b[43m)\u001b[49m\u001b[43m(\u001b[49m\u001b[38;5;28;43mself\u001b[39;49m\u001b[43m)\u001b[49m\n",
      "File \u001b[1;32m~\\anaconda3\\envs\\law\\lib\\site-packages\\catalyst\\core\\callbacks\\metrics.py:109\u001b[0m, in \u001b[0;36mIBatchMetricCallback.on_batch_end\u001b[1;34m(self, runner)\u001b[0m\n\u001b[0;32m    107\u001b[0m \u001b[38;5;28;01mdef\u001b[39;00m \u001b[38;5;21mon_batch_end\u001b[39m(\u001b[38;5;28mself\u001b[39m, runner: IRunner) \u001b[38;5;241m-\u001b[39m\u001b[38;5;241m>\u001b[39m \u001b[38;5;28;01mNone\u001b[39;00m:\n\u001b[0;32m    108\u001b[0m     \u001b[38;5;124;03m\"\"\"Computes metrics and add them to batch metrics.\"\"\"\u001b[39;00m\n\u001b[1;32m--> 109\u001b[0m     metrics \u001b[38;5;241m=\u001b[39m \u001b[38;5;28;43mself\u001b[39;49m\u001b[38;5;241;43m.\u001b[39;49m\u001b[43m_compute_metric\u001b[49m\u001b[43m(\u001b[49m\u001b[43mrunner\u001b[49m\u001b[38;5;241;43m.\u001b[39;49m\u001b[43moutput\u001b[49m\u001b[43m,\u001b[49m\u001b[43m \u001b[49m\u001b[43mrunner\u001b[49m\u001b[38;5;241;43m.\u001b[39;49m\u001b[43minput\u001b[49m\u001b[43m)\u001b[49m\n\u001b[0;32m    110\u001b[0m     metrics \u001b[38;5;241m=\u001b[39m \u001b[38;5;28mself\u001b[39m\u001b[38;5;241m.\u001b[39m_process_computed_metric(metrics)\n\u001b[0;32m    111\u001b[0m     runner\u001b[38;5;241m.\u001b[39mbatch_metrics\u001b[38;5;241m.\u001b[39mupdate(\u001b[38;5;241m*\u001b[39m\u001b[38;5;241m*\u001b[39mmetrics)\n",
      "File \u001b[1;32m~\\anaconda3\\envs\\law\\lib\\site-packages\\catalyst\\core\\callbacks\\metrics.py:77\u001b[0m, in \u001b[0;36mIMetricCallback._compute_metric_value\u001b[1;34m(self, output, input)\u001b[0m\n\u001b[0;32m     75\u001b[0m \u001b[38;5;124;03m\"\"\"@TODO: Docs. Contribution is welcome.\"\"\"\u001b[39;00m\n\u001b[0;32m     76\u001b[0m output \u001b[38;5;241m=\u001b[39m \u001b[38;5;28mself\u001b[39m\u001b[38;5;241m.\u001b[39m_get_output(output, \u001b[38;5;28mself\u001b[39m\u001b[38;5;241m.\u001b[39moutput_key)\n\u001b[1;32m---> 77\u001b[0m \u001b[38;5;28minput\u001b[39m \u001b[38;5;241m=\u001b[39m \u001b[38;5;28;43mself\u001b[39;49m\u001b[38;5;241;43m.\u001b[39;49m\u001b[43m_get_input\u001b[49m\u001b[43m(\u001b[49m\u001b[38;5;28;43minput\u001b[39;49m\u001b[43m,\u001b[49m\u001b[43m \u001b[49m\u001b[38;5;28;43mself\u001b[39;49m\u001b[38;5;241;43m.\u001b[39;49m\u001b[43minput_key\u001b[49m\u001b[43m)\u001b[49m\n\u001b[0;32m     79\u001b[0m metric \u001b[38;5;241m=\u001b[39m \u001b[38;5;28mself\u001b[39m\u001b[38;5;241m.\u001b[39mmetric_fn(output, \u001b[38;5;28minput\u001b[39m, \u001b[38;5;241m*\u001b[39m\u001b[38;5;241m*\u001b[39m\u001b[38;5;28mself\u001b[39m\u001b[38;5;241m.\u001b[39mmetrics_kwargs)\n\u001b[0;32m     80\u001b[0m \u001b[38;5;28;01mreturn\u001b[39;00m metric\n",
      "File \u001b[1;32m~\\anaconda3\\envs\\law\\lib\\site-packages\\catalyst\\utils\\dict.py:20\u001b[0m, in \u001b[0;36mget_key_str\u001b[1;34m(dictionary, key)\u001b[0m\n\u001b[0;32m      8\u001b[0m \u001b[38;5;28;01mdef\u001b[39;00m \u001b[38;5;21mget_key_str\u001b[39m(\n\u001b[0;32m      9\u001b[0m     dictionary: \u001b[38;5;28mdict\u001b[39m, key: Optional[Union[\u001b[38;5;28mstr\u001b[39m, List[\u001b[38;5;28mstr\u001b[39m]]],\n\u001b[0;32m     10\u001b[0m ) \u001b[38;5;241m-\u001b[39m\u001b[38;5;241m>\u001b[39m Any:\n\u001b[0;32m     11\u001b[0m     \u001b[38;5;124;03m\"\"\"Returns value from dict by key.\u001b[39;00m\n\u001b[0;32m     12\u001b[0m \n\u001b[0;32m     13\u001b[0m \u001b[38;5;124;03m    Args:\u001b[39;00m\n\u001b[1;32m   (...)\u001b[0m\n\u001b[0;32m     18\u001b[0m \u001b[38;5;124;03m        value\u001b[39;00m\n\u001b[0;32m     19\u001b[0m \u001b[38;5;124;03m    \"\"\"\u001b[39;00m\n\u001b[1;32m---> 20\u001b[0m     \u001b[38;5;28;01mreturn\u001b[39;00m \u001b[43mdictionary\u001b[49m\u001b[43m[\u001b[49m\u001b[43mkey\u001b[49m\u001b[43m]\u001b[49m\n",
      "\u001b[1;31mKeyError\u001b[0m: 'targets'"
     ]
    }
   ],
   "source": [
    "runner = SupervisedRunner(input_key=(\"features\", \"attention_mask\"))\n",
    "\n",
    "# finally, training the model with Catalyst\n",
    "runner.train(\n",
    "    model=clf_model,\n",
    "    criterion=criterion,\n",
    "    optimizer=optimizer,\n",
    "    scheduler=scheduler,\n",
    "    loaders=train_val_loaders,\n",
    "    callbacks=[\n",
    "        AccuracyCallback(num_classes=10),\n",
    "        OptimizerCallback(accumulation_steps=4),\n",
    "    ],\n",
    "    logdir='../logdir/',\n",
    "    num_epochs=1,\n",
    "    verbose=True,\n",
    ")"
   ]
  },
  {
   "cell_type": "code",
   "execution_count": null,
   "id": "c4e8dbda",
   "metadata": {},
   "outputs": [],
   "source": []
  },
  {
   "cell_type": "code",
   "execution_count": null,
   "id": "dccd81bc",
   "metadata": {},
   "outputs": [],
   "source": []
  },
  {
   "cell_type": "code",
   "execution_count": null,
   "id": "ba5a14af",
   "metadata": {},
   "outputs": [],
   "source": []
  },
  {
   "cell_type": "code",
   "execution_count": null,
   "id": "9ae4c965",
   "metadata": {},
   "outputs": [],
   "source": []
  },
  {
   "cell_type": "code",
   "execution_count": null,
   "id": "20f0a26c",
   "metadata": {},
   "outputs": [],
   "source": []
  }
 ],
 "metadata": {
  "kernelspec": {
   "display_name": "Python 3 (ipykernel)",
   "language": "python",
   "name": "python3"
  },
  "language_info": {
   "codemirror_mode": {
    "name": "ipython",
    "version": 3
   },
   "file_extension": ".py",
   "mimetype": "text/x-python",
   "name": "python",
   "nbconvert_exporter": "python",
   "pygments_lexer": "ipython3",
   "version": "3.9.7"
  }
 },
 "nbformat": 4,
 "nbformat_minor": 5
}
