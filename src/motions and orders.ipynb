{
 "cells": [
  {
   "cell_type": "code",
   "execution_count": null,
   "metadata": {},
   "outputs": [],
   "source": []
  },
  {
   "cell_type": "code",
   "execution_count": 1,
   "id": "80e9a216",
   "metadata": {},
   "outputs": [],
   "source": [
    "import pandas as pd"
   ]
  },
  {
   "cell_type": "code",
   "execution_count": 4,
   "id": "f4819418",
   "metadata": {
    "scrolled": true
   },
   "outputs": [],
   "source": [
    "df = pd.read_csv('../data/motions_laws/balanced_set.csv')"
   ]
  },
  {
   "cell_type": "code",
   "execution_count": 5,
   "id": "e933e384",
   "metadata": {},
   "outputs": [
    {
     "data": {
      "text/html": [
       "<div>\n",
       "<style scoped>\n",
       "    .dataframe tbody tr th:only-of-type {\n",
       "        vertical-align: middle;\n",
       "    }\n",
       "\n",
       "    .dataframe tbody tr th {\n",
       "        vertical-align: top;\n",
       "    }\n",
       "\n",
       "    .dataframe thead th {\n",
       "        text-align: right;\n",
       "    }\n",
       "</style>\n",
       "<table border=\"1\" class=\"dataframe\">\n",
       "  <thead>\n",
       "    <tr style=\"text-align: right;\">\n",
       "      <th></th>\n",
       "      <th>legacyid</th>\n",
       "      <th>date</th>\n",
       "      <th>number</th>\n",
       "      <th>description</th>\n",
       "      <th>target</th>\n",
       "    </tr>\n",
       "  </thead>\n",
       "  <tbody>\n",
       "    <tr>\n",
       "      <th>0</th>\n",
       "      <td>IL-CDCT1:15CV01009</td>\n",
       "      <td>05/26/2015</td>\n",
       "      <td>22.0</td>\n",
       "      <td>motion to dismiss for failure to state a claim...</td>\n",
       "      <td>Motion to Dismiss</td>\n",
       "    </tr>\n",
       "    <tr>\n",
       "      <th>1</th>\n",
       "      <td>IL-CDCT1:15CV01013</td>\n",
       "      <td>02/27/2015</td>\n",
       "      <td>12.0</td>\n",
       "      <td>motion to dismiss the counterclaim and rule 12...</td>\n",
       "      <td>Motion to Dismiss</td>\n",
       "    </tr>\n",
       "    <tr>\n",
       "      <th>2</th>\n",
       "      <td>IL-CDCT1:15CV01023</td>\n",
       "      <td>01/30/2015</td>\n",
       "      <td>14.0</td>\n",
       "      <td>motion to dismiss by defendants geronimo wind ...</td>\n",
       "      <td>Motion to Dismiss</td>\n",
       "    </tr>\n",
       "    <tr>\n",
       "      <th>3</th>\n",
       "      <td>IL-CDCT1:15CV01023</td>\n",
       "      <td>01/30/2015</td>\n",
       "      <td>23.0</td>\n",
       "      <td>motion to dismiss by defendant general service...</td>\n",
       "      <td>Motion to Dismiss</td>\n",
       "    </tr>\n",
       "    <tr>\n",
       "      <th>4</th>\n",
       "      <td>IL-CDCT1:15CV01027</td>\n",
       "      <td>03/19/2015</td>\n",
       "      <td>8.0</td>\n",
       "      <td>motion to dismiss by defendants city of fairbu...</td>\n",
       "      <td>Motion to Dismiss</td>\n",
       "    </tr>\n",
       "  </tbody>\n",
       "</table>\n",
       "</div>"
      ],
      "text/plain": [
       "             legacyid        date  number  \\\n",
       "0  IL-CDCT1:15CV01009  05/26/2015    22.0   \n",
       "1  IL-CDCT1:15CV01013  02/27/2015    12.0   \n",
       "2  IL-CDCT1:15CV01023  01/30/2015    14.0   \n",
       "3  IL-CDCT1:15CV01023  01/30/2015    23.0   \n",
       "4  IL-CDCT1:15CV01027  03/19/2015     8.0   \n",
       "\n",
       "                                         description             target  \n",
       "0  motion to dismiss for failure to state a claim...  Motion to Dismiss  \n",
       "1  motion to dismiss the counterclaim and rule 12...  Motion to Dismiss  \n",
       "2  motion to dismiss by defendants geronimo wind ...  Motion to Dismiss  \n",
       "3  motion to dismiss by defendant general service...  Motion to Dismiss  \n",
       "4  motion to dismiss by defendants city of fairbu...  Motion to Dismiss  "
      ]
     },
     "execution_count": 5,
     "metadata": {},
     "output_type": "execute_result"
    }
   ],
   "source": [
    "df.head()"
   ]
  },
  {
   "cell_type": "code",
   "execution_count": 6,
   "id": "7a57ab3e",
   "metadata": {},
   "outputs": [
    {
     "data": {
      "text/html": [
       "<div>\n",
       "<style scoped>\n",
       "    .dataframe tbody tr th:only-of-type {\n",
       "        vertical-align: middle;\n",
       "    }\n",
       "\n",
       "    .dataframe tbody tr th {\n",
       "        vertical-align: top;\n",
       "    }\n",
       "\n",
       "    .dataframe thead th {\n",
       "        text-align: right;\n",
       "    }\n",
       "</style>\n",
       "<table border=\"1\" class=\"dataframe\">\n",
       "  <thead>\n",
       "    <tr style=\"text-align: right;\">\n",
       "      <th></th>\n",
       "      <th>legacyid</th>\n",
       "      <th>date</th>\n",
       "      <th>number</th>\n",
       "      <th>description</th>\n",
       "      <th>target</th>\n",
       "    </tr>\n",
       "  </thead>\n",
       "  <tbody>\n",
       "    <tr>\n",
       "      <th>1664</th>\n",
       "      <td>IL-CDCT1:15CV01001</td>\n",
       "      <td>01/04/2016</td>\n",
       "      <td>11.0</td>\n",
       "      <td>Joint MOTION for Extension of Time to Complete...</td>\n",
       "      <td>Other</td>\n",
       "    </tr>\n",
       "    <tr>\n",
       "      <th>1665</th>\n",
       "      <td>IL-CDCT1:15CV01001</td>\n",
       "      <td>04/22/2016</td>\n",
       "      <td>NaN</td>\n",
       "      <td>ORAL MOTION by Attorney Busey for continuance ...</td>\n",
       "      <td>Other</td>\n",
       "    </tr>\n",
       "    <tr>\n",
       "      <th>1666</th>\n",
       "      <td>IL-CDCT1:15CV01001</td>\n",
       "      <td>05/31/2016</td>\n",
       "      <td>12.0</td>\n",
       "      <td>Joint MOTION for Extension of Time to Complete...</td>\n",
       "      <td>Other</td>\n",
       "    </tr>\n",
       "    <tr>\n",
       "      <th>1667</th>\n",
       "      <td>IL-CDCT1:15CV01001</td>\n",
       "      <td>06/08/2016</td>\n",
       "      <td>14.0</td>\n",
       "      <td>First MOTION to Compel by Plaintiff Catherine ...</td>\n",
       "      <td>Other</td>\n",
       "    </tr>\n",
       "    <tr>\n",
       "      <th>1668</th>\n",
       "      <td>IL-CDCT1:15CV01001</td>\n",
       "      <td>01/20/2017</td>\n",
       "      <td>22.0</td>\n",
       "      <td>Consent MOTION for Extension of Time to Comple...</td>\n",
       "      <td>Other</td>\n",
       "    </tr>\n",
       "  </tbody>\n",
       "</table>\n",
       "</div>"
      ],
      "text/plain": [
       "                legacyid        date  number  \\\n",
       "1664  IL-CDCT1:15CV01001  01/04/2016    11.0   \n",
       "1665  IL-CDCT1:15CV01001  04/22/2016     NaN   \n",
       "1666  IL-CDCT1:15CV01001  05/31/2016    12.0   \n",
       "1667  IL-CDCT1:15CV01001  06/08/2016    14.0   \n",
       "1668  IL-CDCT1:15CV01001  01/20/2017    22.0   \n",
       "\n",
       "                                            description target  \n",
       "1664  Joint MOTION for Extension of Time to Complete...  Other  \n",
       "1665  ORAL MOTION by Attorney Busey for continuance ...  Other  \n",
       "1666  Joint MOTION for Extension of Time to Complete...  Other  \n",
       "1667  First MOTION to Compel by Plaintiff Catherine ...  Other  \n",
       "1668  Consent MOTION for Extension of Time to Comple...  Other  "
      ]
     },
     "execution_count": 6,
     "metadata": {},
     "output_type": "execute_result"
    }
   ],
   "source": [
    "motions = df.loc[df['description'].str.contains('MOTION')]\n",
    "false_dismiss = motions[~motions[\"description\"].str.contains('DISMISS')]\n",
    "false_dismiss.head()"
   ]
  },
  {
   "cell_type": "code",
   "execution_count": 7,
   "id": "afba7a28",
   "metadata": {},
   "outputs": [
    {
     "data": {
      "text/html": [
       "<div>\n",
       "<style scoped>\n",
       "    .dataframe tbody tr th:only-of-type {\n",
       "        vertical-align: middle;\n",
       "    }\n",
       "\n",
       "    .dataframe tbody tr th {\n",
       "        vertical-align: top;\n",
       "    }\n",
       "\n",
       "    .dataframe thead th {\n",
       "        text-align: right;\n",
       "    }\n",
       "</style>\n",
       "<table border=\"1\" class=\"dataframe\">\n",
       "  <thead>\n",
       "    <tr style=\"text-align: right;\">\n",
       "      <th></th>\n",
       "      <th>legacyid</th>\n",
       "      <th>date</th>\n",
       "      <th>number</th>\n",
       "      <th>description</th>\n",
       "      <th>target</th>\n",
       "    </tr>\n",
       "  </thead>\n",
       "  <tbody>\n",
       "    <tr>\n",
       "      <th>1682</th>\n",
       "      <td>IL-CDCT1:15CV01002</td>\n",
       "      <td>04/14/2016</td>\n",
       "      <td>NaN</td>\n",
       "      <td>TEXT ORDER entered by Chief Judge James E. Sha...</td>\n",
       "      <td>Other</td>\n",
       "    </tr>\n",
       "    <tr>\n",
       "      <th>1710</th>\n",
       "      <td>IL-CDCT1:15CV01002</td>\n",
       "      <td>05/15/2020</td>\n",
       "      <td>NaN</td>\n",
       "      <td>TEXT ORDER granting  &lt;gil&gt;101&lt;/gil&gt;  Motion fo...</td>\n",
       "      <td>Other</td>\n",
       "    </tr>\n",
       "    <tr>\n",
       "      <th>1808</th>\n",
       "      <td>IL-CDCT1:15CV01023</td>\n",
       "      <td>06/30/2015</td>\n",
       "      <td>NaN</td>\n",
       "      <td>TEXT ONLY ORDER granting  &lt;gil&gt;67&lt;/gil&gt;  Motio...</td>\n",
       "      <td>Other</td>\n",
       "    </tr>\n",
       "    <tr>\n",
       "      <th>1828</th>\n",
       "      <td>IL-CDCT1:15CV01028</td>\n",
       "      <td>09/03/2015</td>\n",
       "      <td>33.0</td>\n",
       "      <td>STRICKEN PURSUANT TO TEXT ORDER ENTERED ON 9/3...</td>\n",
       "      <td>Other</td>\n",
       "    </tr>\n",
       "    <tr>\n",
       "      <th>1829</th>\n",
       "      <td>IL-CDCT1:15CV01028</td>\n",
       "      <td>09/03/2015</td>\n",
       "      <td>33.0</td>\n",
       "      <td>STRICKEN PURSUANT TO TEXT ORDER ENTERED ON 9/3...</td>\n",
       "      <td>Other</td>\n",
       "    </tr>\n",
       "  </tbody>\n",
       "</table>\n",
       "</div>"
      ],
      "text/plain": [
       "                legacyid        date  number  \\\n",
       "1682  IL-CDCT1:15CV01002  04/14/2016     NaN   \n",
       "1710  IL-CDCT1:15CV01002  05/15/2020     NaN   \n",
       "1808  IL-CDCT1:15CV01023  06/30/2015     NaN   \n",
       "1828  IL-CDCT1:15CV01028  09/03/2015    33.0   \n",
       "1829  IL-CDCT1:15CV01028  09/03/2015    33.0   \n",
       "\n",
       "                                            description target  \n",
       "1682  TEXT ORDER entered by Chief Judge James E. Sha...  Other  \n",
       "1710  TEXT ORDER granting  <gil>101</gil>  Motion fo...  Other  \n",
       "1808  TEXT ONLY ORDER granting  <gil>67</gil>  Motio...  Other  \n",
       "1828  STRICKEN PURSUANT TO TEXT ORDER ENTERED ON 9/3...  Other  \n",
       "1829  STRICKEN PURSUANT TO TEXT ORDER ENTERED ON 9/3...  Other  "
      ]
     },
     "execution_count": 7,
     "metadata": {},
     "output_type": "execute_result"
    }
   ],
   "source": [
    "orders = df.loc[df['description'].str.contains('ORDER')]\n",
    "orders.head()"
   ]
  },
  {
   "cell_type": "code",
   "execution_count": 6,
   "id": "3db81cb8",
   "metadata": {},
   "outputs": [],
   "source": [
    "orders.to_csv('../data/motions_laws/orders.csv', index=False)"
   ]
  },
  {
   "cell_type": "code",
   "execution_count": 7,
   "id": "c1f619a3",
   "metadata": {},
   "outputs": [],
   "source": [
    "motions.to_csv('../data/motions_laws/motions.csv', index=False)"
   ]
  },
  {
   "cell_type": "code",
   "execution_count": 8,
   "id": "5186b817",
   "metadata": {},
   "outputs": [
    {
     "data": {
      "text/plain": [
       "12    Consent MOTION for Extension of Time to Comple...\n",
       "Name: description, dtype: object"
      ]
     },
     "execution_count": 8,
     "metadata": {},
     "output_type": "execute_result"
    }
   ],
   "source": [
    "motions.loc[(motions['legacyid'] == 'IL-CDCT1:15CV01001') & (motions['number'] == 22)]['description']\n"
   ]
  },
  {
   "cell_type": "code",
   "execution_count": 9,
   "id": "cb4c1429",
   "metadata": {},
   "outputs": [
    {
     "data": {
      "text/html": [
       "<div>\n",
       "<style scoped>\n",
       "    .dataframe tbody tr th:only-of-type {\n",
       "        vertical-align: middle;\n",
       "    }\n",
       "\n",
       "    .dataframe tbody tr th {\n",
       "        vertical-align: top;\n",
       "    }\n",
       "\n",
       "    .dataframe thead th {\n",
       "        text-align: right;\n",
       "    }\n",
       "</style>\n",
       "<table border=\"1\" class=\"dataframe\">\n",
       "  <thead>\n",
       "    <tr style=\"text-align: right;\">\n",
       "      <th></th>\n",
       "      <th>legacyid</th>\n",
       "      <th>date</th>\n",
       "      <th>number</th>\n",
       "      <th>description</th>\n",
       "    </tr>\n",
       "  </thead>\n",
       "  <tbody>\n",
       "    <tr>\n",
       "      <th>3</th>\n",
       "      <td>IL-CDCT1:15CV01001</td>\n",
       "      <td>01/11/2016</td>\n",
       "      <td>NaN</td>\n",
       "      <td>TEXT ORDER granting  &lt;gil&gt;11&lt;/gil&gt;  Motion for...</td>\n",
       "    </tr>\n",
       "    <tr>\n",
       "      <th>11</th>\n",
       "      <td>IL-CDCT1:15CV01001</td>\n",
       "      <td>08/26/2016</td>\n",
       "      <td>NaN</td>\n",
       "      <td>TEXT ORDER: The Court adopts the parties' join...</td>\n",
       "    </tr>\n",
       "    <tr>\n",
       "      <th>13</th>\n",
       "      <td>IL-CDCT1:15CV01001</td>\n",
       "      <td>01/23/2017</td>\n",
       "      <td>NaN</td>\n",
       "      <td>TEXT ORDER granting  &lt;gil&gt;22&lt;/gil&gt;  Motion for...</td>\n",
       "    </tr>\n",
       "    <tr>\n",
       "      <th>18</th>\n",
       "      <td>IL-CDCT1:15CV01001</td>\n",
       "      <td>05/16/2017</td>\n",
       "      <td>NaN</td>\n",
       "      <td>TEXT ORDER entered by Judge Sara Darrow on May...</td>\n",
       "    </tr>\n",
       "    <tr>\n",
       "      <th>20</th>\n",
       "      <td>IL-CDCT1:15CV01001</td>\n",
       "      <td>09/01/2017</td>\n",
       "      <td>39.0</td>\n",
       "      <td>ORDER entered by Judge Sara Darrow on Septembe...</td>\n",
       "    </tr>\n",
       "  </tbody>\n",
       "</table>\n",
       "</div>"
      ],
      "text/plain": [
       "              legacyid        date  number  \\\n",
       "3   IL-CDCT1:15CV01001  01/11/2016     NaN   \n",
       "11  IL-CDCT1:15CV01001  08/26/2016     NaN   \n",
       "13  IL-CDCT1:15CV01001  01/23/2017     NaN   \n",
       "18  IL-CDCT1:15CV01001  05/16/2017     NaN   \n",
       "20  IL-CDCT1:15CV01001  09/01/2017    39.0   \n",
       "\n",
       "                                          description  \n",
       "3   TEXT ORDER granting  <gil>11</gil>  Motion for...  \n",
       "11  TEXT ORDER: The Court adopts the parties' join...  \n",
       "13  TEXT ORDER granting  <gil>22</gil>  Motion for...  \n",
       "18  TEXT ORDER entered by Judge Sara Darrow on May...  \n",
       "20  ORDER entered by Judge Sara Darrow on Septembe...  "
      ]
     },
     "execution_count": 9,
     "metadata": {},
     "output_type": "execute_result"
    }
   ],
   "source": [
    "orders.head()"
   ]
  },
  {
   "cell_type": "code",
   "execution_count": 10,
   "id": "13fd0d18",
   "metadata": {},
   "outputs": [
    {
     "data": {
      "text/html": [
       "<div>\n",
       "<style scoped>\n",
       "    .dataframe tbody tr th:only-of-type {\n",
       "        vertical-align: middle;\n",
       "    }\n",
       "\n",
       "    .dataframe tbody tr th {\n",
       "        vertical-align: top;\n",
       "    }\n",
       "\n",
       "    .dataframe thead th {\n",
       "        text-align: right;\n",
       "    }\n",
       "</style>\n",
       "<table border=\"1\" class=\"dataframe\">\n",
       "  <thead>\n",
       "    <tr style=\"text-align: right;\">\n",
       "      <th></th>\n",
       "      <th>legacyid</th>\n",
       "      <th>date</th>\n",
       "      <th>number</th>\n",
       "      <th>description</th>\n",
       "    </tr>\n",
       "  </thead>\n",
       "  <tbody>\n",
       "    <tr>\n",
       "      <th>3</th>\n",
       "      <td>IL-CDCT1:15CV01001</td>\n",
       "      <td>01/11/2016</td>\n",
       "      <td>NaN</td>\n",
       "      <td>TEXT ORDER granting  &lt;gil&gt;11&lt;/gil&gt;  Motion for...</td>\n",
       "    </tr>\n",
       "    <tr>\n",
       "      <th>11</th>\n",
       "      <td>IL-CDCT1:15CV01001</td>\n",
       "      <td>08/26/2016</td>\n",
       "      <td>NaN</td>\n",
       "      <td>TEXT ORDER: The Court adopts the parties' join...</td>\n",
       "    </tr>\n",
       "    <tr>\n",
       "      <th>13</th>\n",
       "      <td>IL-CDCT1:15CV01001</td>\n",
       "      <td>01/23/2017</td>\n",
       "      <td>NaN</td>\n",
       "      <td>TEXT ORDER granting  &lt;gil&gt;22&lt;/gil&gt;  Motion for...</td>\n",
       "    </tr>\n",
       "    <tr>\n",
       "      <th>18</th>\n",
       "      <td>IL-CDCT1:15CV01001</td>\n",
       "      <td>05/16/2017</td>\n",
       "      <td>NaN</td>\n",
       "      <td>TEXT ORDER entered by Judge Sara Darrow on May...</td>\n",
       "    </tr>\n",
       "    <tr>\n",
       "      <th>20</th>\n",
       "      <td>IL-CDCT1:15CV01001</td>\n",
       "      <td>09/01/2017</td>\n",
       "      <td>39.0</td>\n",
       "      <td>ORDER entered by Judge Sara Darrow on Septembe...</td>\n",
       "    </tr>\n",
       "    <tr>\n",
       "      <th>...</th>\n",
       "      <td>...</td>\n",
       "      <td>...</td>\n",
       "      <td>...</td>\n",
       "      <td>...</td>\n",
       "    </tr>\n",
       "    <tr>\n",
       "      <th>637614</th>\n",
       "      <td>WI-WDCT3:19CV01066</td>\n",
       "      <td>03/23/2020</td>\n",
       "      <td>33.0</td>\n",
       "      <td>** TEXT ONLY ORDER ** ORDER granting  &lt;gil&gt;30&lt;...</td>\n",
       "    </tr>\n",
       "    <tr>\n",
       "      <th>637616</th>\n",
       "      <td>WI-WDCT3:19CV01066</td>\n",
       "      <td>03/23/2020</td>\n",
       "      <td>35.0</td>\n",
       "      <td>** TEXT ONLY ORDER ** ORDER granting  &lt;gil&gt;34&lt;...</td>\n",
       "    </tr>\n",
       "    <tr>\n",
       "      <th>637617</th>\n",
       "      <td>WI-WDCT3:19CV01066</td>\n",
       "      <td>03/24/2020</td>\n",
       "      <td>36.0</td>\n",
       "      <td>** TEXT ONLY ORDER ** At the telephone confere...</td>\n",
       "    </tr>\n",
       "    <tr>\n",
       "      <th>637622</th>\n",
       "      <td>WI-WDCT3:19CV01066</td>\n",
       "      <td>05/06/2020</td>\n",
       "      <td>42.0</td>\n",
       "      <td>** TEXT ONLY ORDER ** The parties' request for...</td>\n",
       "    </tr>\n",
       "    <tr>\n",
       "      <th>637623</th>\n",
       "      <td>WI-WDCT3:19CV01066</td>\n",
       "      <td>05/11/2020</td>\n",
       "      <td>46.0</td>\n",
       "      <td>** TEXT ONLY ORDER ** Stipulation accepted, ex...</td>\n",
       "    </tr>\n",
       "  </tbody>\n",
       "</table>\n",
       "<p>139999 rows × 4 columns</p>\n",
       "</div>"
      ],
      "text/plain": [
       "                  legacyid        date  number  \\\n",
       "3       IL-CDCT1:15CV01001  01/11/2016     NaN   \n",
       "11      IL-CDCT1:15CV01001  08/26/2016     NaN   \n",
       "13      IL-CDCT1:15CV01001  01/23/2017     NaN   \n",
       "18      IL-CDCT1:15CV01001  05/16/2017     NaN   \n",
       "20      IL-CDCT1:15CV01001  09/01/2017    39.0   \n",
       "...                    ...         ...     ...   \n",
       "637614  WI-WDCT3:19CV01066  03/23/2020    33.0   \n",
       "637616  WI-WDCT3:19CV01066  03/23/2020    35.0   \n",
       "637617  WI-WDCT3:19CV01066  03/24/2020    36.0   \n",
       "637622  WI-WDCT3:19CV01066  05/06/2020    42.0   \n",
       "637623  WI-WDCT3:19CV01066  05/11/2020    46.0   \n",
       "\n",
       "                                              description  \n",
       "3       TEXT ORDER granting  <gil>11</gil>  Motion for...  \n",
       "11      TEXT ORDER: The Court adopts the parties' join...  \n",
       "13      TEXT ORDER granting  <gil>22</gil>  Motion for...  \n",
       "18      TEXT ORDER entered by Judge Sara Darrow on May...  \n",
       "20      ORDER entered by Judge Sara Darrow on Septembe...  \n",
       "...                                                   ...  \n",
       "637614  ** TEXT ONLY ORDER ** ORDER granting  <gil>30<...  \n",
       "637616  ** TEXT ONLY ORDER ** ORDER granting  <gil>34<...  \n",
       "637617  ** TEXT ONLY ORDER ** At the telephone confere...  \n",
       "637622  ** TEXT ONLY ORDER ** The parties' request for...  \n",
       "637623  ** TEXT ONLY ORDER ** Stipulation accepted, ex...  \n",
       "\n",
       "[139999 rows x 4 columns]"
      ]
     },
     "execution_count": 10,
     "metadata": {},
     "output_type": "execute_result"
    }
   ],
   "source": [
    "orders.loc[orders['description'].str.contains('<gil>')]"
   ]
  },
  {
   "cell_type": "code",
   "execution_count": 4,
   "id": "c009bb3b",
   "metadata": {},
   "outputs": [
    {
     "name": "stderr",
     "output_type": "stream",
     "text": [
      "/var/folders/sz/386ymr1n0xb_y6v0d8nrj98c0000gn/T/ipykernel_15287/2148659257.py:1: SettingWithCopyWarning: \n",
      "A value is trying to be set on a copy of a slice from a DataFrame.\n",
      "Try using .loc[row_indexer,col_indexer] = value instead\n",
      "\n",
      "See the caveats in the documentation: https://pandas.pydata.org/pandas-docs/stable/user_guide/indexing.html#returning-a-view-versus-a-copy\n",
      "  motions['description'] = motions['description'].str.lower()\n"
     ]
    }
   ],
   "source": [
    "\n",
    "motions['description'] = motions['description'].str.lower()\n",
    "sumjudge = motions.loc[motions['description'].str.contains('summary judgement')]\n",
    "\n",
    "\n",
    "sumjudge.to_csv('../data/motions_laws/sumjudge.csv')"
   ]
  },
  {
   "cell_type": "code",
   "execution_count": 5,
   "id": "4e2cdbea",
   "metadata": {
    "scrolled": true
   },
   "outputs": [
    {
     "data": {
      "text/html": [
       "<div>\n",
       "<style scoped>\n",
       "    .dataframe tbody tr th:only-of-type {\n",
       "        vertical-align: middle;\n",
       "    }\n",
       "\n",
       "    .dataframe tbody tr th {\n",
       "        vertical-align: top;\n",
       "    }\n",
       "\n",
       "    .dataframe thead th {\n",
       "        text-align: right;\n",
       "    }\n",
       "</style>\n",
       "<table border=\"1\" class=\"dataframe\">\n",
       "  <thead>\n",
       "    <tr style=\"text-align: right;\">\n",
       "      <th></th>\n",
       "      <th>legacyid</th>\n",
       "      <th>date</th>\n",
       "      <th>number</th>\n",
       "      <th>description</th>\n",
       "    </tr>\n",
       "  </thead>\n",
       "  <tbody>\n",
       "    <tr>\n",
       "      <th>2</th>\n",
       "      <td>IL-CDCT1:15CV01001</td>\n",
       "      <td>01/04/2016</td>\n",
       "      <td>11.0</td>\n",
       "      <td>joint motion for extension of time to complete...</td>\n",
       "    </tr>\n",
       "    <tr>\n",
       "      <th>4</th>\n",
       "      <td>IL-CDCT1:15CV01001</td>\n",
       "      <td>04/22/2016</td>\n",
       "      <td>NaN</td>\n",
       "      <td>oral motion by attorney busey for continuance ...</td>\n",
       "    </tr>\n",
       "    <tr>\n",
       "      <th>7</th>\n",
       "      <td>IL-CDCT1:15CV01001</td>\n",
       "      <td>05/31/2016</td>\n",
       "      <td>12.0</td>\n",
       "      <td>joint motion for extension of time to complete...</td>\n",
       "    </tr>\n",
       "    <tr>\n",
       "      <th>8</th>\n",
       "      <td>IL-CDCT1:15CV01001</td>\n",
       "      <td>06/08/2016</td>\n",
       "      <td>14.0</td>\n",
       "      <td>first motion to compel by plaintiff catherine ...</td>\n",
       "    </tr>\n",
       "    <tr>\n",
       "      <th>12</th>\n",
       "      <td>IL-CDCT1:15CV01001</td>\n",
       "      <td>01/20/2017</td>\n",
       "      <td>22.0</td>\n",
       "      <td>consent motion for extension of time to comple...</td>\n",
       "    </tr>\n",
       "    <tr>\n",
       "      <th>...</th>\n",
       "      <td>...</td>\n",
       "      <td>...</td>\n",
       "      <td>...</td>\n",
       "      <td>...</td>\n",
       "    </tr>\n",
       "    <tr>\n",
       "      <th>637555</th>\n",
       "      <td>WI-WDCT3:19CV01038</td>\n",
       "      <td>03/03/2020</td>\n",
       "      <td>20.0</td>\n",
       "      <td>motion to dismiss plaintiffs' amended complain...</td>\n",
       "    </tr>\n",
       "    <tr>\n",
       "      <th>637556</th>\n",
       "      <td>WI-WDCT3:19CV01038</td>\n",
       "      <td>05/22/2020</td>\n",
       "      <td>26.0</td>\n",
       "      <td>motion to strike [defendants' motion to strike...</td>\n",
       "    </tr>\n",
       "    <tr>\n",
       "      <th>637559</th>\n",
       "      <td>WI-WDCT3:19CV01042</td>\n",
       "      <td>01/03/2020</td>\n",
       "      <td>4.0</td>\n",
       "      <td>motion to remand to state court and bar defend...</td>\n",
       "    </tr>\n",
       "    <tr>\n",
       "      <th>637563</th>\n",
       "      <td>WI-WDCT3:19CV01047</td>\n",
       "      <td>12/23/2019</td>\n",
       "      <td>1.0</td>\n",
       "      <td>motion for preliminary injunction relief, a ce...</td>\n",
       "    </tr>\n",
       "    <tr>\n",
       "      <th>637571</th>\n",
       "      <td>WI-WDCT3:19CV01052</td>\n",
       "      <td>12/26/2019</td>\n",
       "      <td>4.0</td>\n",
       "      <td>motion for preliminary injunction and/or tempo...</td>\n",
       "    </tr>\n",
       "  </tbody>\n",
       "</table>\n",
       "<p>260590 rows × 4 columns</p>\n",
       "</div>"
      ],
      "text/plain": [
       "                  legacyid        date  number  \\\n",
       "2       IL-CDCT1:15CV01001  01/04/2016    11.0   \n",
       "4       IL-CDCT1:15CV01001  04/22/2016     NaN   \n",
       "7       IL-CDCT1:15CV01001  05/31/2016    12.0   \n",
       "8       IL-CDCT1:15CV01001  06/08/2016    14.0   \n",
       "12      IL-CDCT1:15CV01001  01/20/2017    22.0   \n",
       "...                    ...         ...     ...   \n",
       "637555  WI-WDCT3:19CV01038  03/03/2020    20.0   \n",
       "637556  WI-WDCT3:19CV01038  05/22/2020    26.0   \n",
       "637559  WI-WDCT3:19CV01042  01/03/2020     4.0   \n",
       "637563  WI-WDCT3:19CV01047  12/23/2019     1.0   \n",
       "637571  WI-WDCT3:19CV01052  12/26/2019     4.0   \n",
       "\n",
       "                                              description  \n",
       "2       joint motion for extension of time to complete...  \n",
       "4       oral motion by attorney busey for continuance ...  \n",
       "7       joint motion for extension of time to complete...  \n",
       "8       first motion to compel by plaintiff catherine ...  \n",
       "12      consent motion for extension of time to comple...  \n",
       "...                                                   ...  \n",
       "637555  motion to dismiss plaintiffs' amended complain...  \n",
       "637556  motion to strike [defendants' motion to strike...  \n",
       "637559  motion to remand to state court and bar defend...  \n",
       "637563  motion for preliminary injunction relief, a ce...  \n",
       "637571  motion for preliminary injunction and/or tempo...  \n",
       "\n",
       "[260590 rows x 4 columns]"
      ]
     },
     "execution_count": 5,
     "metadata": {},
     "output_type": "execute_result"
    }
   ],
   "source": [
    "motions.loc[motions['description'].str.contains('')]"
   ]
  },
  {
   "cell_type": "code",
   "execution_count": 12,
   "id": "6cfe475f",
   "metadata": {
    "scrolled": true
   },
   "outputs": [
    {
     "name": "stderr",
     "output_type": "stream",
     "text": [
      "/var/folders/sz/386ymr1n0xb_y6v0d8nrj98c0000gn/T/ipykernel_4256/3724176434.py:9: SettingWithCopyWarning: \n",
      "A value is trying to be set on a copy of a slice from a DataFrame.\n",
      "Try using .loc[row_indexer,col_indexer] = value instead\n",
      "\n",
      "See the caveats in the documentation: https://pandas.pydata.org/pandas-docs/stable/user_guide/indexing.html#returning-a-view-versus-a-copy\n",
      "  orders['gil'] = orders['description'].apply(lambda x: get_gil(x))\n"
     ]
    }
   ],
   "source": [
    "import re\n",
    "import numpy as np\n",
    "def get_gil(description):\n",
    "    match = re.search('<gil>[0-9]+</gil>', description)\n",
    "    if match:\n",
    "        return match.group()\n",
    "    else:\n",
    "        return np.nan\n",
    "orders['gil'] = orders['description'].apply(lambda x: get_gil(x))\n",
    "orders.to_csv('../data/motions_laws/orders.csv', index=False)"
   ]
  },
  {
   "cell_type": "code",
   "execution_count": 13,
   "id": "fcb2a9fa",
   "metadata": {},
   "outputs": [],
   "source": [
    "orders.to_csv('../data/motions_laws/orders.csv', index=False)"
   ]
  },
  {
   "cell_type": "code",
   "execution_count": 14,
   "id": "c01f45c3",
   "metadata": {
    "scrolled": true
   },
   "outputs": [
    {
     "data": {
      "text/plain": [
       "174329"
      ]
     },
     "execution_count": 14,
     "metadata": {},
     "output_type": "execute_result"
    }
   ],
   "source": [
    "len(orders)"
   ]
  },
  {
   "cell_type": "code",
   "execution_count": 15,
   "id": "5a76bdd8",
   "metadata": {},
   "outputs": [],
   "source": [
    "#dropping out orders without a gil in them \n",
    "orders = orders[orders['gil'].notna()]"
   ]
  },
  {
   "cell_type": "code",
   "execution_count": 16,
   "id": "c2c88603",
   "metadata": {},
   "outputs": [
    {
     "data": {
      "text/plain": [
       "139999"
      ]
     },
     "execution_count": 16,
     "metadata": {},
     "output_type": "execute_result"
    }
   ],
   "source": [
    "len(orders)"
   ]
  },
  {
   "cell_type": "code",
   "execution_count": 8,
   "id": "f6e3d060",
   "metadata": {},
   "outputs": [],
   "source": [
    "def find_motion(idd, gil):\n",
    "    try:\n",
    "        filteer = re.search('[0-9]+', gil).group()\n",
    "        result = motions.loc[(motions['legacyid'] == idd) & (motions['number'] == int(filteer))]\n",
    "    except (KeyError, IndexingError):\n",
    "        return np.nan\n",
    "    else:\n",
    "        if result.shape[0] == 0:\n",
    "            return np.nan\n",
    "        else:\n",
    "            return result.iloc[0]['description']\n",
    "#             return result['description']"
   ]
  },
  {
   "cell_type": "code",
   "execution_count": 18,
   "id": "b5d88aca",
   "metadata": {},
   "outputs": [],
   "source": [
    "test = orders.head(10000)"
   ]
  },
  {
   "cell_type": "code",
   "execution_count": 9,
   "id": "17c8d27e",
   "metadata": {},
   "outputs": [
    {
     "ename": "NameError",
     "evalue": "name 'test' is not defined",
     "output_type": "error",
     "traceback": [
      "\u001b[0;31m---------------------------------------------------------------------------\u001b[0m",
      "\u001b[0;31mNameError\u001b[0m                                 Traceback (most recent call last)",
      "\u001b[0;32m/var/folders/sz/386ymr1n0xb_y6v0d8nrj98c0000gn/T/ipykernel_35285/580432839.py\u001b[0m in \u001b[0;36m<module>\u001b[0;34m\u001b[0m\n\u001b[0;32m----> 1\u001b[0;31m \u001b[0morders\u001b[0m\u001b[0;34m[\u001b[0m\u001b[0;34m'motion'\u001b[0m\u001b[0;34m]\u001b[0m \u001b[0;34m=\u001b[0m \u001b[0mtest\u001b[0m\u001b[0;34m.\u001b[0m\u001b[0mapply\u001b[0m\u001b[0;34m(\u001b[0m\u001b[0;32mlambda\u001b[0m \u001b[0mx\u001b[0m\u001b[0;34m:\u001b[0m \u001b[0mfind_motion\u001b[0m\u001b[0;34m(\u001b[0m\u001b[0mx\u001b[0m\u001b[0;34m[\u001b[0m\u001b[0;34m'legacyid'\u001b[0m\u001b[0;34m]\u001b[0m\u001b[0;34m,\u001b[0m \u001b[0mx\u001b[0m\u001b[0;34m[\u001b[0m\u001b[0;34m'gil'\u001b[0m\u001b[0;34m]\u001b[0m\u001b[0;34m)\u001b[0m\u001b[0;34m,\u001b[0m \u001b[0maxis\u001b[0m\u001b[0;34m=\u001b[0m\u001b[0;36m1\u001b[0m\u001b[0;34m)\u001b[0m\u001b[0;34m\u001b[0m\u001b[0;34m\u001b[0m\u001b[0m\n\u001b[0m",
      "\u001b[0;31mNameError\u001b[0m: name 'test' is not defined"
     ]
    }
   ],
   "source": [
    "orders['motion'] = test.apply(lambda x: find_motion(x['legacyid'], x['gil']), axis=1)"
   ]
  },
  {
   "cell_type": "code",
   "execution_count": 20,
   "id": "a8ad3ede",
   "metadata": {},
   "outputs": [],
   "source": [
    "orders.to_csv('../data/motions_laws/orders.csv', index=False)"
   ]
  },
  {
   "cell_type": "code",
   "execution_count": null,
   "id": "5082c81c",
   "metadata": {},
   "outputs": [],
   "source": []
  }
 ],
 "metadata": {
  "kernelspec": {
   "display_name": "Python 3 (ipykernel)",
   "language": "python",
   "name": "python3"
  },
  "language_info": {
   "codemirror_mode": {
    "name": "ipython",
    "version": 3
   },
   "file_extension": ".py",
   "mimetype": "text/x-python",
   "name": "python",
   "nbconvert_exporter": "python",
   "pygments_lexer": "ipython3",
   "version": "3.9.7"
  }
 },
 "nbformat": 4,
 "nbformat_minor": 5
}
