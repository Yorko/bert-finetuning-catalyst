{
 "cells": [
  {
   "cell_type": "code",
   "execution_count": null,
   "metadata": {},
   "outputs": [],
   "source": []
  },
  {
   "cell_type": "code",
   "execution_count": 1,
   "id": "80e9a216",
   "metadata": {},
   "outputs": [],
   "source": [
    "import pandas as pd"
   ]
  },
  {
   "cell_type": "code",
   "execution_count": 2,
   "id": "f4819418",
   "metadata": {
    "scrolled": true
   },
   "outputs": [],
   "source": [
    "df = pd.read_csv('../data/motions_laws/nwu_docket_entries.csv')"
   ]
  },
  {
   "cell_type": "code",
   "execution_count": 3,
   "id": "e933e384",
   "metadata": {},
   "outputs": [
    {
     "data": {
      "text/html": [
       "<div>\n",
       "<style scoped>\n",
       "    .dataframe tbody tr th:only-of-type {\n",
       "        vertical-align: middle;\n",
       "    }\n",
       "\n",
       "    .dataframe tbody tr th {\n",
       "        vertical-align: top;\n",
       "    }\n",
       "\n",
       "    .dataframe thead th {\n",
       "        text-align: right;\n",
       "    }\n",
       "</style>\n",
       "<table border=\"1\" class=\"dataframe\">\n",
       "  <thead>\n",
       "    <tr style=\"text-align: right;\">\n",
       "      <th></th>\n",
       "      <th>legacyid</th>\n",
       "      <th>date</th>\n",
       "      <th>number</th>\n",
       "      <th>description</th>\n",
       "    </tr>\n",
       "  </thead>\n",
       "  <tbody>\n",
       "    <tr>\n",
       "      <th>0</th>\n",
       "      <td>IL-CDCT1:15CV01001</td>\n",
       "      <td>03/10/2015</td>\n",
       "      <td>4.0</td>\n",
       "      <td>NOTICE of Appearance of Attorney by Joseph S T...</td>\n",
       "    </tr>\n",
       "    <tr>\n",
       "      <th>1</th>\n",
       "      <td>IL-CDCT1:15CV01001</td>\n",
       "      <td>04/23/2015</td>\n",
       "      <td>9.0</td>\n",
       "      <td>NOTICE of Appearance of Attorney by Christophe...</td>\n",
       "    </tr>\n",
       "    <tr>\n",
       "      <th>2</th>\n",
       "      <td>IL-CDCT1:15CV01001</td>\n",
       "      <td>01/04/2016</td>\n",
       "      <td>11.0</td>\n",
       "      <td>Joint MOTION for Extension of Time to Complete...</td>\n",
       "    </tr>\n",
       "    <tr>\n",
       "      <th>3</th>\n",
       "      <td>IL-CDCT1:15CV01001</td>\n",
       "      <td>01/11/2016</td>\n",
       "      <td>NaN</td>\n",
       "      <td>TEXT ORDER granting  &lt;gil&gt;11&lt;/gil&gt;  Motion for...</td>\n",
       "    </tr>\n",
       "    <tr>\n",
       "      <th>4</th>\n",
       "      <td>IL-CDCT1:15CV01001</td>\n",
       "      <td>04/22/2016</td>\n",
       "      <td>NaN</td>\n",
       "      <td>ORAL MOTION by Attorney Busey for continuance ...</td>\n",
       "    </tr>\n",
       "  </tbody>\n",
       "</table>\n",
       "</div>"
      ],
      "text/plain": [
       "             legacyid        date  number  \\\n",
       "0  IL-CDCT1:15CV01001  03/10/2015     4.0   \n",
       "1  IL-CDCT1:15CV01001  04/23/2015     9.0   \n",
       "2  IL-CDCT1:15CV01001  01/04/2016    11.0   \n",
       "3  IL-CDCT1:15CV01001  01/11/2016     NaN   \n",
       "4  IL-CDCT1:15CV01001  04/22/2016     NaN   \n",
       "\n",
       "                                         description  \n",
       "0  NOTICE of Appearance of Attorney by Joseph S T...  \n",
       "1  NOTICE of Appearance of Attorney by Christophe...  \n",
       "2  Joint MOTION for Extension of Time to Complete...  \n",
       "3  TEXT ORDER granting  <gil>11</gil>  Motion for...  \n",
       "4  ORAL MOTION by Attorney Busey for continuance ...  "
      ]
     },
     "execution_count": 3,
     "metadata": {},
     "output_type": "execute_result"
    }
   ],
   "source": [
    "df.head()"
   ]
  },
  {
   "cell_type": "code",
   "execution_count": 4,
   "id": "7a57ab3e",
   "metadata": {},
   "outputs": [
    {
     "data": {
      "text/html": [
       "<div>\n",
       "<style scoped>\n",
       "    .dataframe tbody tr th:only-of-type {\n",
       "        vertical-align: middle;\n",
       "    }\n",
       "\n",
       "    .dataframe tbody tr th {\n",
       "        vertical-align: top;\n",
       "    }\n",
       "\n",
       "    .dataframe thead th {\n",
       "        text-align: right;\n",
       "    }\n",
       "</style>\n",
       "<table border=\"1\" class=\"dataframe\">\n",
       "  <thead>\n",
       "    <tr style=\"text-align: right;\">\n",
       "      <th></th>\n",
       "      <th>legacyid</th>\n",
       "      <th>date</th>\n",
       "      <th>number</th>\n",
       "      <th>description</th>\n",
       "    </tr>\n",
       "  </thead>\n",
       "  <tbody>\n",
       "    <tr>\n",
       "      <th>2</th>\n",
       "      <td>IL-CDCT1:15CV01001</td>\n",
       "      <td>01/04/2016</td>\n",
       "      <td>11.0</td>\n",
       "      <td>Joint MOTION for Extension of Time to Complete...</td>\n",
       "    </tr>\n",
       "    <tr>\n",
       "      <th>4</th>\n",
       "      <td>IL-CDCT1:15CV01001</td>\n",
       "      <td>04/22/2016</td>\n",
       "      <td>NaN</td>\n",
       "      <td>ORAL MOTION by Attorney Busey for continuance ...</td>\n",
       "    </tr>\n",
       "    <tr>\n",
       "      <th>7</th>\n",
       "      <td>IL-CDCT1:15CV01001</td>\n",
       "      <td>05/31/2016</td>\n",
       "      <td>12.0</td>\n",
       "      <td>Joint MOTION for Extension of Time to Complete...</td>\n",
       "    </tr>\n",
       "    <tr>\n",
       "      <th>8</th>\n",
       "      <td>IL-CDCT1:15CV01001</td>\n",
       "      <td>06/08/2016</td>\n",
       "      <td>14.0</td>\n",
       "      <td>First MOTION to Compel by Plaintiff Catherine ...</td>\n",
       "    </tr>\n",
       "    <tr>\n",
       "      <th>12</th>\n",
       "      <td>IL-CDCT1:15CV01001</td>\n",
       "      <td>01/20/2017</td>\n",
       "      <td>22.0</td>\n",
       "      <td>Consent MOTION for Extension of Time to Comple...</td>\n",
       "    </tr>\n",
       "  </tbody>\n",
       "</table>\n",
       "</div>"
      ],
      "text/plain": [
       "              legacyid        date  number  \\\n",
       "2   IL-CDCT1:15CV01001  01/04/2016    11.0   \n",
       "4   IL-CDCT1:15CV01001  04/22/2016     NaN   \n",
       "7   IL-CDCT1:15CV01001  05/31/2016    12.0   \n",
       "8   IL-CDCT1:15CV01001  06/08/2016    14.0   \n",
       "12  IL-CDCT1:15CV01001  01/20/2017    22.0   \n",
       "\n",
       "                                          description  \n",
       "2   Joint MOTION for Extension of Time to Complete...  \n",
       "4   ORAL MOTION by Attorney Busey for continuance ...  \n",
       "7   Joint MOTION for Extension of Time to Complete...  \n",
       "8   First MOTION to Compel by Plaintiff Catherine ...  \n",
       "12  Consent MOTION for Extension of Time to Comple...  "
      ]
     },
     "execution_count": 4,
     "metadata": {},
     "output_type": "execute_result"
    }
   ],
   "source": [
    "motions = df.loc[df['description'].str.contains('MOTION')]\n",
    "motions.head()"
   ]
  },
  {
   "cell_type": "code",
   "execution_count": 5,
   "id": "afba7a28",
   "metadata": {},
   "outputs": [
    {
     "data": {
      "text/html": [
       "<div>\n",
       "<style scoped>\n",
       "    .dataframe tbody tr th:only-of-type {\n",
       "        vertical-align: middle;\n",
       "    }\n",
       "\n",
       "    .dataframe tbody tr th {\n",
       "        vertical-align: top;\n",
       "    }\n",
       "\n",
       "    .dataframe thead th {\n",
       "        text-align: right;\n",
       "    }\n",
       "</style>\n",
       "<table border=\"1\" class=\"dataframe\">\n",
       "  <thead>\n",
       "    <tr style=\"text-align: right;\">\n",
       "      <th></th>\n",
       "      <th>legacyid</th>\n",
       "      <th>date</th>\n",
       "      <th>number</th>\n",
       "      <th>description</th>\n",
       "    </tr>\n",
       "  </thead>\n",
       "  <tbody>\n",
       "    <tr>\n",
       "      <th>3</th>\n",
       "      <td>IL-CDCT1:15CV01001</td>\n",
       "      <td>01/11/2016</td>\n",
       "      <td>NaN</td>\n",
       "      <td>TEXT ORDER granting  &lt;gil&gt;11&lt;/gil&gt;  Motion for...</td>\n",
       "    </tr>\n",
       "    <tr>\n",
       "      <th>11</th>\n",
       "      <td>IL-CDCT1:15CV01001</td>\n",
       "      <td>08/26/2016</td>\n",
       "      <td>NaN</td>\n",
       "      <td>TEXT ORDER: The Court adopts the parties' join...</td>\n",
       "    </tr>\n",
       "    <tr>\n",
       "      <th>13</th>\n",
       "      <td>IL-CDCT1:15CV01001</td>\n",
       "      <td>01/23/2017</td>\n",
       "      <td>NaN</td>\n",
       "      <td>TEXT ORDER granting  &lt;gil&gt;22&lt;/gil&gt;  Motion for...</td>\n",
       "    </tr>\n",
       "    <tr>\n",
       "      <th>18</th>\n",
       "      <td>IL-CDCT1:15CV01001</td>\n",
       "      <td>05/16/2017</td>\n",
       "      <td>NaN</td>\n",
       "      <td>TEXT ORDER entered by Judge Sara Darrow on May...</td>\n",
       "    </tr>\n",
       "    <tr>\n",
       "      <th>20</th>\n",
       "      <td>IL-CDCT1:15CV01001</td>\n",
       "      <td>09/01/2017</td>\n",
       "      <td>39.0</td>\n",
       "      <td>ORDER entered by Judge Sara Darrow on Septembe...</td>\n",
       "    </tr>\n",
       "  </tbody>\n",
       "</table>\n",
       "</div>"
      ],
      "text/plain": [
       "              legacyid        date  number  \\\n",
       "3   IL-CDCT1:15CV01001  01/11/2016     NaN   \n",
       "11  IL-CDCT1:15CV01001  08/26/2016     NaN   \n",
       "13  IL-CDCT1:15CV01001  01/23/2017     NaN   \n",
       "18  IL-CDCT1:15CV01001  05/16/2017     NaN   \n",
       "20  IL-CDCT1:15CV01001  09/01/2017    39.0   \n",
       "\n",
       "                                          description  \n",
       "3   TEXT ORDER granting  <gil>11</gil>  Motion for...  \n",
       "11  TEXT ORDER: The Court adopts the parties' join...  \n",
       "13  TEXT ORDER granting  <gil>22</gil>  Motion for...  \n",
       "18  TEXT ORDER entered by Judge Sara Darrow on May...  \n",
       "20  ORDER entered by Judge Sara Darrow on Septembe...  "
      ]
     },
     "execution_count": 5,
     "metadata": {},
     "output_type": "execute_result"
    }
   ],
   "source": [
    "orders = df.loc[df['description'].str.contains('ORDER')]\n",
    "orders.head()"
   ]
  },
  {
   "cell_type": "code",
   "execution_count": 6,
   "id": "3db81cb8",
   "metadata": {},
   "outputs": [],
   "source": [
    "orders.to_csv('../data/motions_laws/orders.csv', index=False)"
   ]
  },
  {
   "cell_type": "code",
   "execution_count": 7,
   "id": "c1f619a3",
   "metadata": {},
   "outputs": [],
   "source": [
    "motions.to_csv('../data/motions_laws/motions.csv', index=False)"
   ]
  },
  {
   "cell_type": "code",
   "execution_count": 8,
   "id": "5186b817",
   "metadata": {},
   "outputs": [
    {
     "data": {
      "text/plain": [
       "12    Consent MOTION for Extension of Time to Comple...\n",
       "Name: description, dtype: object"
      ]
     },
     "execution_count": 8,
     "metadata": {},
     "output_type": "execute_result"
    }
   ],
   "source": [
    "motions.loc[(motions['legacyid'] == 'IL-CDCT1:15CV01001') & (motions['number'] == 22)]['description']\n"
   ]
  },
  {
   "cell_type": "code",
   "execution_count": 9,
   "id": "cb4c1429",
   "metadata": {},
   "outputs": [
    {
     "data": {
      "text/html": [
       "<div>\n",
       "<style scoped>\n",
       "    .dataframe tbody tr th:only-of-type {\n",
       "        vertical-align: middle;\n",
       "    }\n",
       "\n",
       "    .dataframe tbody tr th {\n",
       "        vertical-align: top;\n",
       "    }\n",
       "\n",
       "    .dataframe thead th {\n",
       "        text-align: right;\n",
       "    }\n",
       "</style>\n",
       "<table border=\"1\" class=\"dataframe\">\n",
       "  <thead>\n",
       "    <tr style=\"text-align: right;\">\n",
       "      <th></th>\n",
       "      <th>legacyid</th>\n",
       "      <th>date</th>\n",
       "      <th>number</th>\n",
       "      <th>description</th>\n",
       "    </tr>\n",
       "  </thead>\n",
       "  <tbody>\n",
       "    <tr>\n",
       "      <th>3</th>\n",
       "      <td>IL-CDCT1:15CV01001</td>\n",
       "      <td>01/11/2016</td>\n",
       "      <td>NaN</td>\n",
       "      <td>TEXT ORDER granting  &lt;gil&gt;11&lt;/gil&gt;  Motion for...</td>\n",
       "    </tr>\n",
       "    <tr>\n",
       "      <th>11</th>\n",
       "      <td>IL-CDCT1:15CV01001</td>\n",
       "      <td>08/26/2016</td>\n",
       "      <td>NaN</td>\n",
       "      <td>TEXT ORDER: The Court adopts the parties' join...</td>\n",
       "    </tr>\n",
       "    <tr>\n",
       "      <th>13</th>\n",
       "      <td>IL-CDCT1:15CV01001</td>\n",
       "      <td>01/23/2017</td>\n",
       "      <td>NaN</td>\n",
       "      <td>TEXT ORDER granting  &lt;gil&gt;22&lt;/gil&gt;  Motion for...</td>\n",
       "    </tr>\n",
       "    <tr>\n",
       "      <th>18</th>\n",
       "      <td>IL-CDCT1:15CV01001</td>\n",
       "      <td>05/16/2017</td>\n",
       "      <td>NaN</td>\n",
       "      <td>TEXT ORDER entered by Judge Sara Darrow on May...</td>\n",
       "    </tr>\n",
       "    <tr>\n",
       "      <th>20</th>\n",
       "      <td>IL-CDCT1:15CV01001</td>\n",
       "      <td>09/01/2017</td>\n",
       "      <td>39.0</td>\n",
       "      <td>ORDER entered by Judge Sara Darrow on Septembe...</td>\n",
       "    </tr>\n",
       "  </tbody>\n",
       "</table>\n",
       "</div>"
      ],
      "text/plain": [
       "              legacyid        date  number  \\\n",
       "3   IL-CDCT1:15CV01001  01/11/2016     NaN   \n",
       "11  IL-CDCT1:15CV01001  08/26/2016     NaN   \n",
       "13  IL-CDCT1:15CV01001  01/23/2017     NaN   \n",
       "18  IL-CDCT1:15CV01001  05/16/2017     NaN   \n",
       "20  IL-CDCT1:15CV01001  09/01/2017    39.0   \n",
       "\n",
       "                                          description  \n",
       "3   TEXT ORDER granting  <gil>11</gil>  Motion for...  \n",
       "11  TEXT ORDER: The Court adopts the parties' join...  \n",
       "13  TEXT ORDER granting  <gil>22</gil>  Motion for...  \n",
       "18  TEXT ORDER entered by Judge Sara Darrow on May...  \n",
       "20  ORDER entered by Judge Sara Darrow on Septembe...  "
      ]
     },
     "execution_count": 9,
     "metadata": {},
     "output_type": "execute_result"
    }
   ],
   "source": [
    "orders.head()"
   ]
  },
  {
   "cell_type": "code",
   "execution_count": 10,
   "id": "13fd0d18",
   "metadata": {},
   "outputs": [
    {
     "data": {
      "text/html": [
       "<div>\n",
       "<style scoped>\n",
       "    .dataframe tbody tr th:only-of-type {\n",
       "        vertical-align: middle;\n",
       "    }\n",
       "\n",
       "    .dataframe tbody tr th {\n",
       "        vertical-align: top;\n",
       "    }\n",
       "\n",
       "    .dataframe thead th {\n",
       "        text-align: right;\n",
       "    }\n",
       "</style>\n",
       "<table border=\"1\" class=\"dataframe\">\n",
       "  <thead>\n",
       "    <tr style=\"text-align: right;\">\n",
       "      <th></th>\n",
       "      <th>legacyid</th>\n",
       "      <th>date</th>\n",
       "      <th>number</th>\n",
       "      <th>description</th>\n",
       "    </tr>\n",
       "  </thead>\n",
       "  <tbody>\n",
       "    <tr>\n",
       "      <th>3</th>\n",
       "      <td>IL-CDCT1:15CV01001</td>\n",
       "      <td>01/11/2016</td>\n",
       "      <td>NaN</td>\n",
       "      <td>TEXT ORDER granting  &lt;gil&gt;11&lt;/gil&gt;  Motion for...</td>\n",
       "    </tr>\n",
       "    <tr>\n",
       "      <th>11</th>\n",
       "      <td>IL-CDCT1:15CV01001</td>\n",
       "      <td>08/26/2016</td>\n",
       "      <td>NaN</td>\n",
       "      <td>TEXT ORDER: The Court adopts the parties' join...</td>\n",
       "    </tr>\n",
       "    <tr>\n",
       "      <th>13</th>\n",
       "      <td>IL-CDCT1:15CV01001</td>\n",
       "      <td>01/23/2017</td>\n",
       "      <td>NaN</td>\n",
       "      <td>TEXT ORDER granting  &lt;gil&gt;22&lt;/gil&gt;  Motion for...</td>\n",
       "    </tr>\n",
       "    <tr>\n",
       "      <th>18</th>\n",
       "      <td>IL-CDCT1:15CV01001</td>\n",
       "      <td>05/16/2017</td>\n",
       "      <td>NaN</td>\n",
       "      <td>TEXT ORDER entered by Judge Sara Darrow on May...</td>\n",
       "    </tr>\n",
       "    <tr>\n",
       "      <th>20</th>\n",
       "      <td>IL-CDCT1:15CV01001</td>\n",
       "      <td>09/01/2017</td>\n",
       "      <td>39.0</td>\n",
       "      <td>ORDER entered by Judge Sara Darrow on Septembe...</td>\n",
       "    </tr>\n",
       "    <tr>\n",
       "      <th>...</th>\n",
       "      <td>...</td>\n",
       "      <td>...</td>\n",
       "      <td>...</td>\n",
       "      <td>...</td>\n",
       "    </tr>\n",
       "    <tr>\n",
       "      <th>637614</th>\n",
       "      <td>WI-WDCT3:19CV01066</td>\n",
       "      <td>03/23/2020</td>\n",
       "      <td>33.0</td>\n",
       "      <td>** TEXT ONLY ORDER ** ORDER granting  &lt;gil&gt;30&lt;...</td>\n",
       "    </tr>\n",
       "    <tr>\n",
       "      <th>637616</th>\n",
       "      <td>WI-WDCT3:19CV01066</td>\n",
       "      <td>03/23/2020</td>\n",
       "      <td>35.0</td>\n",
       "      <td>** TEXT ONLY ORDER ** ORDER granting  &lt;gil&gt;34&lt;...</td>\n",
       "    </tr>\n",
       "    <tr>\n",
       "      <th>637617</th>\n",
       "      <td>WI-WDCT3:19CV01066</td>\n",
       "      <td>03/24/2020</td>\n",
       "      <td>36.0</td>\n",
       "      <td>** TEXT ONLY ORDER ** At the telephone confere...</td>\n",
       "    </tr>\n",
       "    <tr>\n",
       "      <th>637622</th>\n",
       "      <td>WI-WDCT3:19CV01066</td>\n",
       "      <td>05/06/2020</td>\n",
       "      <td>42.0</td>\n",
       "      <td>** TEXT ONLY ORDER ** The parties' request for...</td>\n",
       "    </tr>\n",
       "    <tr>\n",
       "      <th>637623</th>\n",
       "      <td>WI-WDCT3:19CV01066</td>\n",
       "      <td>05/11/2020</td>\n",
       "      <td>46.0</td>\n",
       "      <td>** TEXT ONLY ORDER ** Stipulation accepted, ex...</td>\n",
       "    </tr>\n",
       "  </tbody>\n",
       "</table>\n",
       "<p>139999 rows × 4 columns</p>\n",
       "</div>"
      ],
      "text/plain": [
       "                  legacyid        date  number  \\\n",
       "3       IL-CDCT1:15CV01001  01/11/2016     NaN   \n",
       "11      IL-CDCT1:15CV01001  08/26/2016     NaN   \n",
       "13      IL-CDCT1:15CV01001  01/23/2017     NaN   \n",
       "18      IL-CDCT1:15CV01001  05/16/2017     NaN   \n",
       "20      IL-CDCT1:15CV01001  09/01/2017    39.0   \n",
       "...                    ...         ...     ...   \n",
       "637614  WI-WDCT3:19CV01066  03/23/2020    33.0   \n",
       "637616  WI-WDCT3:19CV01066  03/23/2020    35.0   \n",
       "637617  WI-WDCT3:19CV01066  03/24/2020    36.0   \n",
       "637622  WI-WDCT3:19CV01066  05/06/2020    42.0   \n",
       "637623  WI-WDCT3:19CV01066  05/11/2020    46.0   \n",
       "\n",
       "                                              description  \n",
       "3       TEXT ORDER granting  <gil>11</gil>  Motion for...  \n",
       "11      TEXT ORDER: The Court adopts the parties' join...  \n",
       "13      TEXT ORDER granting  <gil>22</gil>  Motion for...  \n",
       "18      TEXT ORDER entered by Judge Sara Darrow on May...  \n",
       "20      ORDER entered by Judge Sara Darrow on Septembe...  \n",
       "...                                                   ...  \n",
       "637614  ** TEXT ONLY ORDER ** ORDER granting  <gil>30<...  \n",
       "637616  ** TEXT ONLY ORDER ** ORDER granting  <gil>34<...  \n",
       "637617  ** TEXT ONLY ORDER ** At the telephone confere...  \n",
       "637622  ** TEXT ONLY ORDER ** The parties' request for...  \n",
       "637623  ** TEXT ONLY ORDER ** Stipulation accepted, ex...  \n",
       "\n",
       "[139999 rows x 4 columns]"
      ]
     },
     "execution_count": 10,
     "metadata": {},
     "output_type": "execute_result"
    }
   ],
   "source": [
    "orders.loc[orders['description'].str.contains('<gil>')]"
   ]
  },
  {
   "cell_type": "code",
   "execution_count": 25,
   "id": "c009bb3b",
   "metadata": {},
   "outputs": [
    {
     "name": "stderr",
     "output_type": "stream",
     "text": [
      "/var/folders/sz/386ymr1n0xb_y6v0d8nrj98c0000gn/T/ipykernel_4256/2148659257.py:1: SettingWithCopyWarning: \n",
      "A value is trying to be set on a copy of a slice from a DataFrame.\n",
      "Try using .loc[row_indexer,col_indexer] = value instead\n",
      "\n",
      "See the caveats in the documentation: https://pandas.pydata.org/pandas-docs/stable/user_guide/indexing.html#returning-a-view-versus-a-copy\n",
      "  motions['description'] = motions['description'].str.lower()\n"
     ]
    }
   ],
   "source": [
    "\n",
    "motions['description'] = motions['description'].str.lower()\n",
    "sumjudge = motions.loc[motions['description'].str.contains('summary judgement')]\n",
    "\n",
    "\n",
    "sumjudge.to_csv('../data/motions_laws/sumjudge.csv')"
   ]
  },
  {
   "cell_type": "code",
   "execution_count": 11,
   "id": "4e2cdbea",
   "metadata": {
    "scrolled": true
   },
   "outputs": [
    {
     "data": {
      "text/html": [
       "<div>\n",
       "<style scoped>\n",
       "    .dataframe tbody tr th:only-of-type {\n",
       "        vertical-align: middle;\n",
       "    }\n",
       "\n",
       "    .dataframe tbody tr th {\n",
       "        vertical-align: top;\n",
       "    }\n",
       "\n",
       "    .dataframe thead th {\n",
       "        text-align: right;\n",
       "    }\n",
       "</style>\n",
       "<table border=\"1\" class=\"dataframe\">\n",
       "  <thead>\n",
       "    <tr style=\"text-align: right;\">\n",
       "      <th></th>\n",
       "      <th>legacyid</th>\n",
       "      <th>date</th>\n",
       "      <th>number</th>\n",
       "      <th>description</th>\n",
       "    </tr>\n",
       "  </thead>\n",
       "  <tbody>\n",
       "    <tr>\n",
       "      <th>2</th>\n",
       "      <td>IL-CDCT1:15CV01001</td>\n",
       "      <td>01/04/2016</td>\n",
       "      <td>11.0</td>\n",
       "      <td>Joint MOTION for Extension of Time to Complete...</td>\n",
       "    </tr>\n",
       "    <tr>\n",
       "      <th>4</th>\n",
       "      <td>IL-CDCT1:15CV01001</td>\n",
       "      <td>04/22/2016</td>\n",
       "      <td>NaN</td>\n",
       "      <td>ORAL MOTION by Attorney Busey for continuance ...</td>\n",
       "    </tr>\n",
       "    <tr>\n",
       "      <th>7</th>\n",
       "      <td>IL-CDCT1:15CV01001</td>\n",
       "      <td>05/31/2016</td>\n",
       "      <td>12.0</td>\n",
       "      <td>Joint MOTION for Extension of Time to Complete...</td>\n",
       "    </tr>\n",
       "    <tr>\n",
       "      <th>8</th>\n",
       "      <td>IL-CDCT1:15CV01001</td>\n",
       "      <td>06/08/2016</td>\n",
       "      <td>14.0</td>\n",
       "      <td>First MOTION to Compel by Plaintiff Catherine ...</td>\n",
       "    </tr>\n",
       "    <tr>\n",
       "      <th>12</th>\n",
       "      <td>IL-CDCT1:15CV01001</td>\n",
       "      <td>01/20/2017</td>\n",
       "      <td>22.0</td>\n",
       "      <td>Consent MOTION for Extension of Time to Comple...</td>\n",
       "    </tr>\n",
       "    <tr>\n",
       "      <th>...</th>\n",
       "      <td>...</td>\n",
       "      <td>...</td>\n",
       "      <td>...</td>\n",
       "      <td>...</td>\n",
       "    </tr>\n",
       "    <tr>\n",
       "      <th>637555</th>\n",
       "      <td>WI-WDCT3:19CV01038</td>\n",
       "      <td>03/03/2020</td>\n",
       "      <td>20.0</td>\n",
       "      <td>MOTION TO DISMISS Plaintiffs' Amended Complain...</td>\n",
       "    </tr>\n",
       "    <tr>\n",
       "      <th>637556</th>\n",
       "      <td>WI-WDCT3:19CV01038</td>\n",
       "      <td>05/22/2020</td>\n",
       "      <td>26.0</td>\n",
       "      <td>Motion to Strike [DEFENDANTS' MOTION TO STRIKE...</td>\n",
       "    </tr>\n",
       "    <tr>\n",
       "      <th>637559</th>\n",
       "      <td>WI-WDCT3:19CV01042</td>\n",
       "      <td>01/03/2020</td>\n",
       "      <td>4.0</td>\n",
       "      <td>MOTION TO REMAND to State Court and Bar Defend...</td>\n",
       "    </tr>\n",
       "    <tr>\n",
       "      <th>637563</th>\n",
       "      <td>WI-WDCT3:19CV01047</td>\n",
       "      <td>12/23/2019</td>\n",
       "      <td>1.0</td>\n",
       "      <td>MOTION FOR PRELIMINARY INJUNCTION RELIEF, A CE...</td>\n",
       "    </tr>\n",
       "    <tr>\n",
       "      <th>637571</th>\n",
       "      <td>WI-WDCT3:19CV01052</td>\n",
       "      <td>12/26/2019</td>\n",
       "      <td>4.0</td>\n",
       "      <td>MOTION FOR PRELIMINARY INJUNCTION and/or Tempo...</td>\n",
       "    </tr>\n",
       "  </tbody>\n",
       "</table>\n",
       "<p>260590 rows × 4 columns</p>\n",
       "</div>"
      ],
      "text/plain": [
       "                  legacyid        date  number  \\\n",
       "2       IL-CDCT1:15CV01001  01/04/2016    11.0   \n",
       "4       IL-CDCT1:15CV01001  04/22/2016     NaN   \n",
       "7       IL-CDCT1:15CV01001  05/31/2016    12.0   \n",
       "8       IL-CDCT1:15CV01001  06/08/2016    14.0   \n",
       "12      IL-CDCT1:15CV01001  01/20/2017    22.0   \n",
       "...                    ...         ...     ...   \n",
       "637555  WI-WDCT3:19CV01038  03/03/2020    20.0   \n",
       "637556  WI-WDCT3:19CV01038  05/22/2020    26.0   \n",
       "637559  WI-WDCT3:19CV01042  01/03/2020     4.0   \n",
       "637563  WI-WDCT3:19CV01047  12/23/2019     1.0   \n",
       "637571  WI-WDCT3:19CV01052  12/26/2019     4.0   \n",
       "\n",
       "                                              description  \n",
       "2       Joint MOTION for Extension of Time to Complete...  \n",
       "4       ORAL MOTION by Attorney Busey for continuance ...  \n",
       "7       Joint MOTION for Extension of Time to Complete...  \n",
       "8       First MOTION to Compel by Plaintiff Catherine ...  \n",
       "12      Consent MOTION for Extension of Time to Comple...  \n",
       "...                                                   ...  \n",
       "637555  MOTION TO DISMISS Plaintiffs' Amended Complain...  \n",
       "637556  Motion to Strike [DEFENDANTS' MOTION TO STRIKE...  \n",
       "637559  MOTION TO REMAND to State Court and Bar Defend...  \n",
       "637563  MOTION FOR PRELIMINARY INJUNCTION RELIEF, A CE...  \n",
       "637571  MOTION FOR PRELIMINARY INJUNCTION and/or Tempo...  \n",
       "\n",
       "[260590 rows x 4 columns]"
      ]
     },
     "execution_count": 11,
     "metadata": {},
     "output_type": "execute_result"
    }
   ],
   "source": [
    "motions.loc[motions['description'].str.contains('')]"
   ]
  },
  {
   "cell_type": "code",
   "execution_count": 12,
   "id": "6cfe475f",
   "metadata": {
    "scrolled": true
   },
   "outputs": [
    {
     "name": "stderr",
     "output_type": "stream",
     "text": [
      "/var/folders/sz/386ymr1n0xb_y6v0d8nrj98c0000gn/T/ipykernel_4256/3724176434.py:9: SettingWithCopyWarning: \n",
      "A value is trying to be set on a copy of a slice from a DataFrame.\n",
      "Try using .loc[row_indexer,col_indexer] = value instead\n",
      "\n",
      "See the caveats in the documentation: https://pandas.pydata.org/pandas-docs/stable/user_guide/indexing.html#returning-a-view-versus-a-copy\n",
      "  orders['gil'] = orders['description'].apply(lambda x: get_gil(x))\n"
     ]
    }
   ],
   "source": [
    "import re\n",
    "import numpy as np\n",
    "def get_gil(description):\n",
    "    match = re.search('<gil>[0-9]+</gil>', description)\n",
    "    if match:\n",
    "        return match.group()\n",
    "    else:\n",
    "        return np.nan\n",
    "orders['gil'] = orders['description'].apply(lambda x: get_gil(x))\n",
    "orders.to_csv('../data/motions_laws/orders.csv', index=False)"
   ]
  },
  {
   "cell_type": "code",
   "execution_count": 13,
   "id": "fcb2a9fa",
   "metadata": {},
   "outputs": [],
   "source": [
    "orders.to_csv('../data/motions_laws/orders.csv', index=False)"
   ]
  },
  {
   "cell_type": "code",
   "execution_count": 14,
   "id": "c01f45c3",
   "metadata": {
    "scrolled": true
   },
   "outputs": [
    {
     "data": {
      "text/plain": [
       "174329"
      ]
     },
     "execution_count": 14,
     "metadata": {},
     "output_type": "execute_result"
    }
   ],
   "source": [
    "len(orders)"
   ]
  },
  {
   "cell_type": "code",
   "execution_count": 15,
   "id": "5a76bdd8",
   "metadata": {},
   "outputs": [],
   "source": [
    "#dropping out orders without a gil in them \n",
    "orders = orders[orders['gil'].notna()]"
   ]
  },
  {
   "cell_type": "code",
   "execution_count": 16,
   "id": "c2c88603",
   "metadata": {},
   "outputs": [
    {
     "data": {
      "text/plain": [
       "139999"
      ]
     },
     "execution_count": 16,
     "metadata": {},
     "output_type": "execute_result"
    }
   ],
   "source": [
    "len(orders)"
   ]
  },
  {
   "cell_type": "code",
   "execution_count": 17,
   "id": "f6e3d060",
   "metadata": {},
   "outputs": [],
   "source": [
    "def find_motion(idd, gil):\n",
    "    try:\n",
    "        filteer = re.search('[0-9]+', gil).group()\n",
    "        result = motions.loc[(motions['legacyid'] == idd) & (motions['number'] == int(filteer))]\n",
    "    except (KeyError, IndexingError):\n",
    "        return np.nan\n",
    "    else:\n",
    "        if result.shape[0] == 0:\n",
    "            return np.nan\n",
    "        else:\n",
    "            return result.iloc[0]['description']\n",
    "#             return result['description']"
   ]
  },
  {
   "cell_type": "code",
   "execution_count": 18,
   "id": "b5d88aca",
   "metadata": {},
   "outputs": [],
   "source": [
    "test = orders.head(10000)"
   ]
  },
  {
   "cell_type": "code",
   "execution_count": 19,
   "id": "17c8d27e",
   "metadata": {},
   "outputs": [],
   "source": [
    "orders['motion'] = test.apply(lambda x: find_motion(x['legacyid'], x['gil']), axis=1)"
   ]
  },
  {
   "cell_type": "code",
   "execution_count": 20,
   "id": "a8ad3ede",
   "metadata": {},
   "outputs": [],
   "source": [
    "orders.to_csv('../data/motions_laws/orders.csv', index=False)"
   ]
  },
  {
   "cell_type": "code",
   "execution_count": null,
   "id": "5082c81c",
   "metadata": {},
   "outputs": [],
   "source": []
  }
 ],
 "metadata": {
  "kernelspec": {
   "display_name": "Python 3 (ipykernel)",
   "language": "python",
   "name": "python3"
  },
  "language_info": {
   "codemirror_mode": {
    "name": "ipython",
    "version": 3
   },
   "file_extension": ".py",
   "mimetype": "text/x-python",
   "name": "python",
   "nbconvert_exporter": "python",
   "pygments_lexer": "ipython3",
   "version": "3.9.7"
  }
 },
 "nbformat": 4,
 "nbformat_minor": 5
}
