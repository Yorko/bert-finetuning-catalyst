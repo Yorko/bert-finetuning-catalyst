{
 "cells": [
  {
   "cell_type": "code",
   "execution_count": 5,
   "id": "6b49adca",
   "metadata": {},
   "outputs": [],
   "source": [
    "import json \n",
    "import pandas as pd"
   ]
  },
  {
   "cell_type": "code",
   "execution_count": 3,
   "id": "97f2b07e",
   "metadata": {},
   "outputs": [],
   "source": [
    "f = open('../data/motions_laws/data.json')\n",
    "data = json.load(f)"
   ]
  },
  {
   "cell_type": "code",
   "execution_count": 33,
   "id": "a904aa21",
   "metadata": {},
   "outputs": [],
   "source": [
    "list_of_dicts = []\n",
    "for key, value in data.items():\n",
    "    for m in value:\n",
    "        list_of_dicts.append({'description': m, 'target': key})"
   ]
  },
  {
   "cell_type": "code",
   "execution_count": 35,
   "id": "a972eab4",
   "metadata": {
    "scrolled": true
   },
   "outputs": [
    {
     "data": {
      "text/plain": [
       "3558"
      ]
     },
     "execution_count": 35,
     "metadata": {},
     "output_type": "execute_result"
    }
   ],
   "source": [
    "len(list_of_dicts)"
   ]
  },
  {
   "cell_type": "code",
   "execution_count": 38,
   "id": "7e104767",
   "metadata": {
    "scrolled": true
   },
   "outputs": [],
   "source": [
    "df = pd.DataFrame.from_records(list_of_dicts)"
   ]
  },
  {
   "cell_type": "code",
   "execution_count": 39,
   "id": "edeb8f86",
   "metadata": {},
   "outputs": [],
   "source": [
    "df.to_csv('../data/motions_laws/sergio_data.csv', index=False)"
   ]
  }
 ],
 "metadata": {
  "kernelspec": {
   "display_name": "Python 3 (ipykernel)",
   "language": "python",
   "name": "python3"
  },
  "language_info": {
   "codemirror_mode": {
    "name": "ipython",
    "version": 3
   },
   "file_extension": ".py",
   "mimetype": "text/x-python",
   "name": "python",
   "nbconvert_exporter": "python",
   "pygments_lexer": "ipython3",
   "version": "3.9.7"
  }
 },
 "nbformat": 4,
 "nbformat_minor": 5
}
